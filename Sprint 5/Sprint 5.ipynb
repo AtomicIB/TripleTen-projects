{
 "cells": [
  {
   "cell_type": "markdown",
   "metadata": {
    "id": "LEmJG62pC1S3"
   },
   "source": [
    "## **Descripción del proyecto**\n",
    "\n",
    "Trabajamos para la tienda online Ice que vende videojuegos por todo el mundo. Las reseñas de usuarios y expertos, los géneros, las plataformas (por ejemplo, Xbox o PlayStation) y los datos históricos sobre las ventas de juegos están disponibles en fuentes abiertas. Debemos identificar patrones que determinen si un juego tiene éxito o no. Esto permitirá detectar proyectos prometedores y planificar campañas publicitarias.\n",
    "\n",
    "Tenemos datos que se remontan a 2016. Imaginemos que es diciembre de 2016 y estás planeando una campaña para 2017.\n",
    "\n",
    "El dataset contiene la abreviatura ESRB. The Entertainment Software Rating Board (la Junta de clasificación de software de entretenimiento) evalúa el contenido de un juego y asigna una clasificación de edad como Adolescente o Adulto.\n",
    "\n",
    "**Descripción de los datos**\n",
    "* `Name` - Nombre\n",
    "* `Platform` - Plataforma\n",
    "* `Year_of_Release` - Año de lanzamiento\n",
    "* `Genre` - Género\n",
    "* `NA_sales` - ventas en Norteamérica en millones de dólares estadounidenses\n",
    "* `EU_sales` - ventas en Europa en millones de dólares estadounidenses\n",
    "* `JP_sales` - ventas en Japón en millones de dólares estadounidenses\n",
    "* `Other_sales` - ventas en otros países en millones de dólares estadounidenses\n",
    "* `Critic_Score` - máximo de 100\n",
    "* `User_Score` - máximo de 10\n",
    "* `Rating` - ESRB\n",
    "\n",
    "Plan a seguir:\n",
    "* Paso 1. Inicialización - Carga de datos y exploracion de datos iniciales\n",
    "* Paso 2. Preparar los datos\n",
    "* Paso 3. Analizar los datos\n",
    "* Paso 4. Crear un perfil de usuario para cada región\n",
    "* Paso 5. Prueba de hipótesis\n",
    "* Paso 6. Conclusión general"
   ]
  },
  {
   "cell_type": "markdown",
   "metadata": {
    "id": "RE_JnBsvTD-5"
   },
   "source": [
    "## Inicialización"
   ]
  },
  {
   "cell_type": "markdown",
   "metadata": {
    "id": "HtqUyvHTJ5I2"
   },
   "source": [
    "Comenzamos realizando los primeros pasos para dar un primer vistazo a nuestros datos."
   ]
  },
  {
   "cell_type": "code",
   "execution_count": 1,
   "metadata": {
    "id": "m2fZgSYuTI3l"
   },
   "outputs": [],
   "source": [
    "#Cargamos librerias\n",
    "import pandas as pd\n",
    "import seaborn as sns\n",
    "import numpy as np\n",
    "from scipy import stats \n",
    "import math\n",
    "from functools import reduce\n",
    "import matplotlib.pyplot as plt\n",
    "from scipy.stats import levene\n",
    "from scipy import stats\n",
    "import warnings\n",
    "warnings.simplefilter(action=\"ignore\", category=FutureWarning)"
   ]
  },
  {
   "cell_type": "code",
   "execution_count": 2,
   "metadata": {
    "id": "nPYR1oNN6CeK"
   },
   "outputs": [],
   "source": [
    "#Cargamos los archivos de datos\n",
    "try:\n",
    "    data = pd.read_csv('/datasets/games.csv')\n",
    "except:\n",
    "    data = pd.read_csv('/content/games.csv')"
   ]
  },
  {
   "cell_type": "code",
   "execution_count": 3,
   "metadata": {
    "colab": {
     "base_uri": "https://localhost:8080/",
     "height": 675
    },
    "id": "JMWB4QXUl-nd",
    "outputId": "89370731-6589-49a4-e9b0-a113e8d6a3a1"
   },
   "outputs": [
    {
     "name": "stdout",
     "output_type": "stream",
     "text": [
      "<class 'pandas.core.frame.DataFrame'>\n",
      "RangeIndex: 16715 entries, 0 to 16714\n",
      "Data columns (total 11 columns):\n",
      " #   Column           Non-Null Count  Dtype  \n",
      "---  ------           --------------  -----  \n",
      " 0   Name             16713 non-null  object \n",
      " 1   Platform         16715 non-null  object \n",
      " 2   Year_of_Release  16446 non-null  float64\n",
      " 3   Genre            16713 non-null  object \n",
      " 4   NA_sales         16715 non-null  float64\n",
      " 5   EU_sales         16715 non-null  float64\n",
      " 6   JP_sales         16715 non-null  float64\n",
      " 7   Other_sales      16715 non-null  float64\n",
      " 8   Critic_Score     8137 non-null   float64\n",
      " 9   User_Score       10014 non-null  object \n",
      " 10  Rating           9949 non-null   object \n",
      "dtypes: float64(6), object(5)\n",
      "memory usage: 1.4+ MB\n"
     ]
    },
    {
     "data": {
      "text/html": [
       "<div>\n",
       "<style scoped>\n",
       "    .dataframe tbody tr th:only-of-type {\n",
       "        vertical-align: middle;\n",
       "    }\n",
       "\n",
       "    .dataframe tbody tr th {\n",
       "        vertical-align: top;\n",
       "    }\n",
       "\n",
       "    .dataframe thead th {\n",
       "        text-align: right;\n",
       "    }\n",
       "</style>\n",
       "<table border=\"1\" class=\"dataframe\">\n",
       "  <thead>\n",
       "    <tr style=\"text-align: right;\">\n",
       "      <th></th>\n",
       "      <th>Name</th>\n",
       "      <th>Platform</th>\n",
       "      <th>Year_of_Release</th>\n",
       "      <th>Genre</th>\n",
       "      <th>NA_sales</th>\n",
       "      <th>EU_sales</th>\n",
       "      <th>JP_sales</th>\n",
       "      <th>Other_sales</th>\n",
       "      <th>Critic_Score</th>\n",
       "      <th>User_Score</th>\n",
       "      <th>Rating</th>\n",
       "    </tr>\n",
       "  </thead>\n",
       "  <tbody>\n",
       "    <tr>\n",
       "      <th>0</th>\n",
       "      <td>Wii Sports</td>\n",
       "      <td>Wii</td>\n",
       "      <td>2006.0</td>\n",
       "      <td>Sports</td>\n",
       "      <td>41.36</td>\n",
       "      <td>28.96</td>\n",
       "      <td>3.77</td>\n",
       "      <td>8.45</td>\n",
       "      <td>76.0</td>\n",
       "      <td>8</td>\n",
       "      <td>E</td>\n",
       "    </tr>\n",
       "    <tr>\n",
       "      <th>1</th>\n",
       "      <td>Super Mario Bros.</td>\n",
       "      <td>NES</td>\n",
       "      <td>1985.0</td>\n",
       "      <td>Platform</td>\n",
       "      <td>29.08</td>\n",
       "      <td>3.58</td>\n",
       "      <td>6.81</td>\n",
       "      <td>0.77</td>\n",
       "      <td>NaN</td>\n",
       "      <td>NaN</td>\n",
       "      <td>NaN</td>\n",
       "    </tr>\n",
       "    <tr>\n",
       "      <th>2</th>\n",
       "      <td>Mario Kart Wii</td>\n",
       "      <td>Wii</td>\n",
       "      <td>2008.0</td>\n",
       "      <td>Racing</td>\n",
       "      <td>15.68</td>\n",
       "      <td>12.76</td>\n",
       "      <td>3.79</td>\n",
       "      <td>3.29</td>\n",
       "      <td>82.0</td>\n",
       "      <td>8.3</td>\n",
       "      <td>E</td>\n",
       "    </tr>\n",
       "    <tr>\n",
       "      <th>3</th>\n",
       "      <td>Wii Sports Resort</td>\n",
       "      <td>Wii</td>\n",
       "      <td>2009.0</td>\n",
       "      <td>Sports</td>\n",
       "      <td>15.61</td>\n",
       "      <td>10.93</td>\n",
       "      <td>3.28</td>\n",
       "      <td>2.95</td>\n",
       "      <td>80.0</td>\n",
       "      <td>8</td>\n",
       "      <td>E</td>\n",
       "    </tr>\n",
       "    <tr>\n",
       "      <th>4</th>\n",
       "      <td>Pokemon Red/Pokemon Blue</td>\n",
       "      <td>GB</td>\n",
       "      <td>1996.0</td>\n",
       "      <td>Role-Playing</td>\n",
       "      <td>11.27</td>\n",
       "      <td>8.89</td>\n",
       "      <td>10.22</td>\n",
       "      <td>1.00</td>\n",
       "      <td>NaN</td>\n",
       "      <td>NaN</td>\n",
       "      <td>NaN</td>\n",
       "    </tr>\n",
       "    <tr>\n",
       "      <th>5</th>\n",
       "      <td>Tetris</td>\n",
       "      <td>GB</td>\n",
       "      <td>1989.0</td>\n",
       "      <td>Puzzle</td>\n",
       "      <td>23.20</td>\n",
       "      <td>2.26</td>\n",
       "      <td>4.22</td>\n",
       "      <td>0.58</td>\n",
       "      <td>NaN</td>\n",
       "      <td>NaN</td>\n",
       "      <td>NaN</td>\n",
       "    </tr>\n",
       "    <tr>\n",
       "      <th>6</th>\n",
       "      <td>New Super Mario Bros.</td>\n",
       "      <td>DS</td>\n",
       "      <td>2006.0</td>\n",
       "      <td>Platform</td>\n",
       "      <td>11.28</td>\n",
       "      <td>9.14</td>\n",
       "      <td>6.50</td>\n",
       "      <td>2.88</td>\n",
       "      <td>89.0</td>\n",
       "      <td>8.5</td>\n",
       "      <td>E</td>\n",
       "    </tr>\n",
       "    <tr>\n",
       "      <th>7</th>\n",
       "      <td>Wii Play</td>\n",
       "      <td>Wii</td>\n",
       "      <td>2006.0</td>\n",
       "      <td>Misc</td>\n",
       "      <td>13.96</td>\n",
       "      <td>9.18</td>\n",
       "      <td>2.93</td>\n",
       "      <td>2.84</td>\n",
       "      <td>58.0</td>\n",
       "      <td>6.6</td>\n",
       "      <td>E</td>\n",
       "    </tr>\n",
       "    <tr>\n",
       "      <th>8</th>\n",
       "      <td>New Super Mario Bros. Wii</td>\n",
       "      <td>Wii</td>\n",
       "      <td>2009.0</td>\n",
       "      <td>Platform</td>\n",
       "      <td>14.44</td>\n",
       "      <td>6.94</td>\n",
       "      <td>4.70</td>\n",
       "      <td>2.24</td>\n",
       "      <td>87.0</td>\n",
       "      <td>8.4</td>\n",
       "      <td>E</td>\n",
       "    </tr>\n",
       "    <tr>\n",
       "      <th>9</th>\n",
       "      <td>Duck Hunt</td>\n",
       "      <td>NES</td>\n",
       "      <td>1984.0</td>\n",
       "      <td>Shooter</td>\n",
       "      <td>26.93</td>\n",
       "      <td>0.63</td>\n",
       "      <td>0.28</td>\n",
       "      <td>0.47</td>\n",
       "      <td>NaN</td>\n",
       "      <td>NaN</td>\n",
       "      <td>NaN</td>\n",
       "    </tr>\n",
       "  </tbody>\n",
       "</table>\n",
       "</div>"
      ],
      "text/plain": [
       "                        Name Platform  Year_of_Release         Genre  \\\n",
       "0                 Wii Sports      Wii           2006.0        Sports   \n",
       "1          Super Mario Bros.      NES           1985.0      Platform   \n",
       "2             Mario Kart Wii      Wii           2008.0        Racing   \n",
       "3          Wii Sports Resort      Wii           2009.0        Sports   \n",
       "4   Pokemon Red/Pokemon Blue       GB           1996.0  Role-Playing   \n",
       "5                     Tetris       GB           1989.0        Puzzle   \n",
       "6      New Super Mario Bros.       DS           2006.0      Platform   \n",
       "7                   Wii Play      Wii           2006.0          Misc   \n",
       "8  New Super Mario Bros. Wii      Wii           2009.0      Platform   \n",
       "9                  Duck Hunt      NES           1984.0       Shooter   \n",
       "\n",
       "   NA_sales  EU_sales  JP_sales  Other_sales  Critic_Score User_Score Rating  \n",
       "0     41.36     28.96      3.77         8.45          76.0          8      E  \n",
       "1     29.08      3.58      6.81         0.77           NaN        NaN    NaN  \n",
       "2     15.68     12.76      3.79         3.29          82.0        8.3      E  \n",
       "3     15.61     10.93      3.28         2.95          80.0          8      E  \n",
       "4     11.27      8.89     10.22         1.00           NaN        NaN    NaN  \n",
       "5     23.20      2.26      4.22         0.58           NaN        NaN    NaN  \n",
       "6     11.28      9.14      6.50         2.88          89.0        8.5      E  \n",
       "7     13.96      9.18      2.93         2.84          58.0        6.6      E  \n",
       "8     14.44      6.94      4.70         2.24          87.0        8.4      E  \n",
       "9     26.93      0.63      0.28         0.47           NaN        NaN    NaN  "
      ]
     },
     "execution_count": 3,
     "metadata": {},
     "output_type": "execute_result"
    }
   ],
   "source": [
    "# previsualizar los datos cargados\n",
    "data.info()\n",
    "\n",
    "# devolver las n filas superiores del dataframe\n",
    "data.head(10)"
   ]
  },
  {
   "cell_type": "code",
   "execution_count": 4,
   "metadata": {
    "colab": {
     "base_uri": "https://localhost:8080/",
     "height": 300
    },
    "id": "0viSr5ozmQH8",
    "outputId": "61afd129-6d21-418f-f545-463872bc57b4"
   },
   "outputs": [
    {
     "data": {
      "text/html": [
       "<div>\n",
       "<style scoped>\n",
       "    .dataframe tbody tr th:only-of-type {\n",
       "        vertical-align: middle;\n",
       "    }\n",
       "\n",
       "    .dataframe tbody tr th {\n",
       "        vertical-align: top;\n",
       "    }\n",
       "\n",
       "    .dataframe thead th {\n",
       "        text-align: right;\n",
       "    }\n",
       "</style>\n",
       "<table border=\"1\" class=\"dataframe\">\n",
       "  <thead>\n",
       "    <tr style=\"text-align: right;\">\n",
       "      <th></th>\n",
       "      <th>Year_of_Release</th>\n",
       "      <th>NA_sales</th>\n",
       "      <th>EU_sales</th>\n",
       "      <th>JP_sales</th>\n",
       "      <th>Other_sales</th>\n",
       "      <th>Critic_Score</th>\n",
       "    </tr>\n",
       "  </thead>\n",
       "  <tbody>\n",
       "    <tr>\n",
       "      <th>count</th>\n",
       "      <td>16446.000000</td>\n",
       "      <td>16715.000000</td>\n",
       "      <td>16715.000000</td>\n",
       "      <td>16715.000000</td>\n",
       "      <td>16715.000000</td>\n",
       "      <td>8137.000000</td>\n",
       "    </tr>\n",
       "    <tr>\n",
       "      <th>mean</th>\n",
       "      <td>2006.484616</td>\n",
       "      <td>0.263377</td>\n",
       "      <td>0.145060</td>\n",
       "      <td>0.077617</td>\n",
       "      <td>0.047342</td>\n",
       "      <td>68.967679</td>\n",
       "    </tr>\n",
       "    <tr>\n",
       "      <th>std</th>\n",
       "      <td>5.877050</td>\n",
       "      <td>0.813604</td>\n",
       "      <td>0.503339</td>\n",
       "      <td>0.308853</td>\n",
       "      <td>0.186731</td>\n",
       "      <td>13.938165</td>\n",
       "    </tr>\n",
       "    <tr>\n",
       "      <th>min</th>\n",
       "      <td>1980.000000</td>\n",
       "      <td>0.000000</td>\n",
       "      <td>0.000000</td>\n",
       "      <td>0.000000</td>\n",
       "      <td>0.000000</td>\n",
       "      <td>13.000000</td>\n",
       "    </tr>\n",
       "    <tr>\n",
       "      <th>25%</th>\n",
       "      <td>2003.000000</td>\n",
       "      <td>0.000000</td>\n",
       "      <td>0.000000</td>\n",
       "      <td>0.000000</td>\n",
       "      <td>0.000000</td>\n",
       "      <td>60.000000</td>\n",
       "    </tr>\n",
       "    <tr>\n",
       "      <th>50%</th>\n",
       "      <td>2007.000000</td>\n",
       "      <td>0.080000</td>\n",
       "      <td>0.020000</td>\n",
       "      <td>0.000000</td>\n",
       "      <td>0.010000</td>\n",
       "      <td>71.000000</td>\n",
       "    </tr>\n",
       "    <tr>\n",
       "      <th>75%</th>\n",
       "      <td>2010.000000</td>\n",
       "      <td>0.240000</td>\n",
       "      <td>0.110000</td>\n",
       "      <td>0.040000</td>\n",
       "      <td>0.030000</td>\n",
       "      <td>79.000000</td>\n",
       "    </tr>\n",
       "    <tr>\n",
       "      <th>max</th>\n",
       "      <td>2016.000000</td>\n",
       "      <td>41.360000</td>\n",
       "      <td>28.960000</td>\n",
       "      <td>10.220000</td>\n",
       "      <td>10.570000</td>\n",
       "      <td>98.000000</td>\n",
       "    </tr>\n",
       "  </tbody>\n",
       "</table>\n",
       "</div>"
      ],
      "text/plain": [
       "       Year_of_Release      NA_sales      EU_sales      JP_sales  \\\n",
       "count     16446.000000  16715.000000  16715.000000  16715.000000   \n",
       "mean       2006.484616      0.263377      0.145060      0.077617   \n",
       "std           5.877050      0.813604      0.503339      0.308853   \n",
       "min        1980.000000      0.000000      0.000000      0.000000   \n",
       "25%        2003.000000      0.000000      0.000000      0.000000   \n",
       "50%        2007.000000      0.080000      0.020000      0.000000   \n",
       "75%        2010.000000      0.240000      0.110000      0.040000   \n",
       "max        2016.000000     41.360000     28.960000     10.220000   \n",
       "\n",
       "        Other_sales  Critic_Score  \n",
       "count  16715.000000   8137.000000  \n",
       "mean       0.047342     68.967679  \n",
       "std        0.186731     13.938165  \n",
       "min        0.000000     13.000000  \n",
       "25%        0.000000     60.000000  \n",
       "50%        0.010000     71.000000  \n",
       "75%        0.030000     79.000000  \n",
       "max       10.570000     98.000000  "
      ]
     },
     "execution_count": 4,
     "metadata": {},
     "output_type": "execute_result"
    }
   ],
   "source": [
    "#Visualizar estadisticas descriptivas\n",
    "data.describe()"
   ]
  },
  {
   "cell_type": "markdown",
   "metadata": {
    "id": "RR3CGkWZTLbR"
   },
   "source": [
    "### Conclusiones\n",
    "* Notamos que los nombres de nuestras columnas tienen una combinación de mayusculas y minusculas, debemos cambiarlo para mantener coherencia.\n",
    "* Las columnas `genre`,`name`,`platform` deben cambiarse a `string`\n",
    "* La columna `Year_of_Release` debe ser `int`\n",
    "* Hay valores ausentes en `Year_of_Release`, `Genre`,`Critic_Score`,`User_Score` y `Rating` ."
   ]
  },
  {
   "cell_type": "markdown",
   "metadata": {
    "id": "rQ803KisNpOg"
   },
   "source": [
    "## Preparar los datos\n",
    "En este paso realizaremos el manejo necesario para que nuestra data este lista para el analisis posterior\n"
   ]
  },
  {
   "cell_type": "markdown",
   "metadata": {
    "id": "90bWf7a6PUiT"
   },
   "source": [
    "### **Corregir nombres de las columnas**"
   ]
  },
  {
   "cell_type": "code",
   "execution_count": 5,
   "metadata": {
    "colab": {
     "base_uri": "https://localhost:8080/",
     "height": 206
    },
    "id": "RQ2gwiKiRIKI",
    "outputId": "779714fb-65dc-46c8-f3a6-8643e654ce12"
   },
   "outputs": [
    {
     "data": {
      "text/html": [
       "<div>\n",
       "<style scoped>\n",
       "    .dataframe tbody tr th:only-of-type {\n",
       "        vertical-align: middle;\n",
       "    }\n",
       "\n",
       "    .dataframe tbody tr th {\n",
       "        vertical-align: top;\n",
       "    }\n",
       "\n",
       "    .dataframe thead th {\n",
       "        text-align: right;\n",
       "    }\n",
       "</style>\n",
       "<table border=\"1\" class=\"dataframe\">\n",
       "  <thead>\n",
       "    <tr style=\"text-align: right;\">\n",
       "      <th></th>\n",
       "      <th>name</th>\n",
       "      <th>platform</th>\n",
       "      <th>year_of_release</th>\n",
       "      <th>genre</th>\n",
       "      <th>na_sales</th>\n",
       "      <th>eu_sales</th>\n",
       "      <th>jp_sales</th>\n",
       "      <th>other_sales</th>\n",
       "      <th>critic_score</th>\n",
       "      <th>user_score</th>\n",
       "      <th>rating</th>\n",
       "    </tr>\n",
       "  </thead>\n",
       "  <tbody>\n",
       "    <tr>\n",
       "      <th>0</th>\n",
       "      <td>Wii Sports</td>\n",
       "      <td>Wii</td>\n",
       "      <td>2006.0</td>\n",
       "      <td>Sports</td>\n",
       "      <td>41.36</td>\n",
       "      <td>28.96</td>\n",
       "      <td>3.77</td>\n",
       "      <td>8.45</td>\n",
       "      <td>76.0</td>\n",
       "      <td>8</td>\n",
       "      <td>E</td>\n",
       "    </tr>\n",
       "    <tr>\n",
       "      <th>1</th>\n",
       "      <td>Super Mario Bros.</td>\n",
       "      <td>NES</td>\n",
       "      <td>1985.0</td>\n",
       "      <td>Platform</td>\n",
       "      <td>29.08</td>\n",
       "      <td>3.58</td>\n",
       "      <td>6.81</td>\n",
       "      <td>0.77</td>\n",
       "      <td>NaN</td>\n",
       "      <td>NaN</td>\n",
       "      <td>NaN</td>\n",
       "    </tr>\n",
       "    <tr>\n",
       "      <th>2</th>\n",
       "      <td>Mario Kart Wii</td>\n",
       "      <td>Wii</td>\n",
       "      <td>2008.0</td>\n",
       "      <td>Racing</td>\n",
       "      <td>15.68</td>\n",
       "      <td>12.76</td>\n",
       "      <td>3.79</td>\n",
       "      <td>3.29</td>\n",
       "      <td>82.0</td>\n",
       "      <td>8.3</td>\n",
       "      <td>E</td>\n",
       "    </tr>\n",
       "    <tr>\n",
       "      <th>3</th>\n",
       "      <td>Wii Sports Resort</td>\n",
       "      <td>Wii</td>\n",
       "      <td>2009.0</td>\n",
       "      <td>Sports</td>\n",
       "      <td>15.61</td>\n",
       "      <td>10.93</td>\n",
       "      <td>3.28</td>\n",
       "      <td>2.95</td>\n",
       "      <td>80.0</td>\n",
       "      <td>8</td>\n",
       "      <td>E</td>\n",
       "    </tr>\n",
       "    <tr>\n",
       "      <th>4</th>\n",
       "      <td>Pokemon Red/Pokemon Blue</td>\n",
       "      <td>GB</td>\n",
       "      <td>1996.0</td>\n",
       "      <td>Role-Playing</td>\n",
       "      <td>11.27</td>\n",
       "      <td>8.89</td>\n",
       "      <td>10.22</td>\n",
       "      <td>1.00</td>\n",
       "      <td>NaN</td>\n",
       "      <td>NaN</td>\n",
       "      <td>NaN</td>\n",
       "    </tr>\n",
       "  </tbody>\n",
       "</table>\n",
       "</div>"
      ],
      "text/plain": [
       "                       name platform  year_of_release         genre  na_sales  \\\n",
       "0                Wii Sports      Wii           2006.0        Sports     41.36   \n",
       "1         Super Mario Bros.      NES           1985.0      Platform     29.08   \n",
       "2            Mario Kart Wii      Wii           2008.0        Racing     15.68   \n",
       "3         Wii Sports Resort      Wii           2009.0        Sports     15.61   \n",
       "4  Pokemon Red/Pokemon Blue       GB           1996.0  Role-Playing     11.27   \n",
       "\n",
       "   eu_sales  jp_sales  other_sales  critic_score user_score rating  \n",
       "0     28.96      3.77         8.45          76.0          8      E  \n",
       "1      3.58      6.81         0.77           NaN        NaN    NaN  \n",
       "2     12.76      3.79         3.29          82.0        8.3      E  \n",
       "3     10.93      3.28         2.95          80.0          8      E  \n",
       "4      8.89     10.22         1.00           NaN        NaN    NaN  "
      ]
     },
     "execution_count": 5,
     "metadata": {},
     "output_type": "execute_result"
    }
   ],
   "source": [
    "#Corregir los nombres de las columnas\n",
    "data.columns = data.columns.str.lower()\n",
    "data.head()"
   ]
  },
  {
   "cell_type": "markdown",
   "metadata": {
    "id": "2p55oP2KPcpe"
   },
   "source": [
    "### **Tratar valores ausentes**"
   ]
  },
  {
   "cell_type": "code",
   "execution_count": 6,
   "metadata": {
    "colab": {
     "base_uri": "https://localhost:8080/"
    },
    "id": "mziBwGG9SO9s",
    "outputId": "ad422910-dd97-433f-dcd9-1aecf3fd0920"
   },
   "outputs": [
    {
     "data": {
      "text/plain": [
       "name                  2\n",
       "platform              0\n",
       "year_of_release     269\n",
       "genre                 2\n",
       "na_sales              0\n",
       "eu_sales              0\n",
       "jp_sales              0\n",
       "other_sales           0\n",
       "critic_score       8578\n",
       "user_score         6701\n",
       "rating             6766\n",
       "dtype: int64"
      ]
     },
     "execution_count": 6,
     "metadata": {},
     "output_type": "execute_result"
    }
   ],
   "source": [
    "#Validando valores ausentes\n",
    "data.isnull().sum()"
   ]
  },
  {
   "cell_type": "markdown",
   "metadata": {
    "id": "_GjcODvuw3q9"
   },
   "source": [
    "Los valores ausentes en `name` y `genre` parecieran coincidir, validemos si es cierto."
   ]
  },
  {
   "cell_type": "code",
   "execution_count": 7,
   "metadata": {
    "colab": {
     "base_uri": "https://localhost:8080/",
     "height": 112
    },
    "id": "uWbIWxpwukgB",
    "outputId": "339de2c3-991f-4ac4-84e1-954dcbb752af"
   },
   "outputs": [
    {
     "data": {
      "text/html": [
       "<div>\n",
       "<style scoped>\n",
       "    .dataframe tbody tr th:only-of-type {\n",
       "        vertical-align: middle;\n",
       "    }\n",
       "\n",
       "    .dataframe tbody tr th {\n",
       "        vertical-align: top;\n",
       "    }\n",
       "\n",
       "    .dataframe thead th {\n",
       "        text-align: right;\n",
       "    }\n",
       "</style>\n",
       "<table border=\"1\" class=\"dataframe\">\n",
       "  <thead>\n",
       "    <tr style=\"text-align: right;\">\n",
       "      <th></th>\n",
       "      <th>name</th>\n",
       "      <th>platform</th>\n",
       "      <th>year_of_release</th>\n",
       "      <th>genre</th>\n",
       "      <th>na_sales</th>\n",
       "      <th>eu_sales</th>\n",
       "      <th>jp_sales</th>\n",
       "      <th>other_sales</th>\n",
       "      <th>critic_score</th>\n",
       "      <th>user_score</th>\n",
       "      <th>rating</th>\n",
       "    </tr>\n",
       "  </thead>\n",
       "  <tbody>\n",
       "    <tr>\n",
       "      <th>659</th>\n",
       "      <td>NaN</td>\n",
       "      <td>GEN</td>\n",
       "      <td>1993.0</td>\n",
       "      <td>NaN</td>\n",
       "      <td>1.78</td>\n",
       "      <td>0.53</td>\n",
       "      <td>0.00</td>\n",
       "      <td>0.08</td>\n",
       "      <td>NaN</td>\n",
       "      <td>NaN</td>\n",
       "      <td>NaN</td>\n",
       "    </tr>\n",
       "    <tr>\n",
       "      <th>14244</th>\n",
       "      <td>NaN</td>\n",
       "      <td>GEN</td>\n",
       "      <td>1993.0</td>\n",
       "      <td>NaN</td>\n",
       "      <td>0.00</td>\n",
       "      <td>0.00</td>\n",
       "      <td>0.03</td>\n",
       "      <td>0.00</td>\n",
       "      <td>NaN</td>\n",
       "      <td>NaN</td>\n",
       "      <td>NaN</td>\n",
       "    </tr>\n",
       "  </tbody>\n",
       "</table>\n",
       "</div>"
      ],
      "text/plain": [
       "      name platform  year_of_release genre  na_sales  eu_sales  jp_sales  \\\n",
       "659    NaN      GEN           1993.0   NaN      1.78      0.53      0.00   \n",
       "14244  NaN      GEN           1993.0   NaN      0.00      0.00      0.03   \n",
       "\n",
       "       other_sales  critic_score user_score rating  \n",
       "659           0.08           NaN        NaN    NaN  \n",
       "14244         0.00           NaN        NaN    NaN  "
      ]
     },
     "execution_count": 7,
     "metadata": {},
     "output_type": "execute_result"
    }
   ],
   "source": [
    "#Validando columnas con \"name\" y \"genre\" ausentes\n",
    "data[data['name'].isnull() | data['genre'].isnull()]"
   ]
  },
  {
   "cell_type": "markdown",
   "metadata": {
    "id": "c1ZKN9lGxUtA"
   },
   "source": [
    "Ambos valores tienen el nombre y genero ausente, lo cuál no es posible de restaurar por lo que los eliminamos. Esto debe haber sido un error de sistema.\n"
   ]
  },
  {
   "cell_type": "code",
   "execution_count": 8,
   "metadata": {
    "id": "DMiv5y59uojy"
   },
   "outputs": [],
   "source": [
    "#Eliminamos valores\n",
    "data.drop(labels=[659, 14244], inplace=True)"
   ]
  },
  {
   "cell_type": "code",
   "execution_count": 9,
   "metadata": {},
   "outputs": [],
   "source": [
    "#imputando la columna \"years_of_release\" usando la fecha de otras plataformas para el mismo juego\n",
    "data['year_of_release'] = data['year_of_release'].fillna(round(data.groupby('name')['year_of_release'].transform('median'),0))"
   ]
  },
  {
   "cell_type": "code",
   "execution_count": 10,
   "metadata": {
    "colab": {
     "base_uri": "https://localhost:8080/"
    },
    "id": "Gg8x0GcvuszZ",
    "outputId": "64b3bfab-49a3-477a-eec1-ac5cabbf47dd"
   },
   "outputs": [
    {
     "data": {
      "text/plain": [
       "name                  0\n",
       "platform              0\n",
       "year_of_release     146\n",
       "genre                 0\n",
       "na_sales              0\n",
       "eu_sales              0\n",
       "jp_sales              0\n",
       "other_sales           0\n",
       "critic_score       8576\n",
       "user_score         6699\n",
       "rating             6764\n",
       "dtype: int64"
      ]
     },
     "execution_count": 10,
     "metadata": {},
     "output_type": "execute_result"
    }
   ],
   "source": [
    "#Validando valores ausentes\n",
    "data.isnull().sum()"
   ]
  },
  {
   "cell_type": "markdown",
   "metadata": {
    "id": "KLpukQPo6X2m"
   },
   "source": [
    "* Aún nos quedan valores ausentes en `years_of_release`, `critic_score` , `user_score` y `rating`. \n",
    "* Los valores ausentes `critic_score` y `user_score` son juegos que probabablemente fueron lanzados recientemente y están a la espera de los valores de criticas, mientras que para `rating` probablemente no han recibido clasificación ESRB, ya sea porque son juegos muy antiguos, está pendiente o no les interesa recibirla (ya que es voluntaria pero recomendable).\n",
    "* No podemos cambiar los valores ausentes en `critic_score` , `user_score` y `rating` a 0's o reemplazar por la media/mediana ya que no nos estarían entregando valores representativos, por lo que mantendremos los valores ausentes de `critic_score` y `user_score`, mientras que para `rating` los reemplazaremos por `unknown`.\n",
    "* Los valores ausentes en `years_of_release` probablemente son algún error de introducción de datos o datos que se introdujeron antes de la fecha de lanzamiento del juego y recibieron criticas de beta testers, por lo que no se completo toda la información. Estos datos son pocos comparado con el total de nuestros datos, pero pudimos imputar algunos considerando que hay juegos multiplataforma y que para algunos si tenemos la informacion de lanzamiento en al menos una plataforma. Recuperamos los datos de `years_of_release` para los casos que sea posible y procederemos a eliminar los que no."
   ]
  },
  {
   "cell_type": "code",
   "execution_count": 11,
   "metadata": {
    "id": "BP1MmXXCFeGx"
   },
   "outputs": [],
   "source": [
    "#Eliminando valores ausentes en \"years_of_release\"\n",
    "data = data[data['year_of_release'].notna()]"
   ]
  },
  {
   "cell_type": "code",
   "execution_count": 12,
   "metadata": {
    "id": "FFAQgOXJGbxY"
   },
   "outputs": [],
   "source": [
    "#Reemplazando valores ausentes en \"rating\" por \"unknown\"\n",
    "data['rating'] = data['rating'].fillna('unknown')"
   ]
  },
  {
   "cell_type": "code",
   "execution_count": 13,
   "metadata": {
    "colab": {
     "base_uri": "https://localhost:8080/"
    },
    "id": "equPRvcSG_yk",
    "outputId": "36535fec-46ec-4c5d-f214-88ff9f9f36bc"
   },
   "outputs": [
    {
     "data": {
      "text/plain": [
       "name                  0\n",
       "platform              0\n",
       "year_of_release       0\n",
       "genre                 0\n",
       "na_sales              0\n",
       "eu_sales              0\n",
       "jp_sales              0\n",
       "other_sales           0\n",
       "critic_score       8492\n",
       "user_score         6633\n",
       "rating                0\n",
       "dtype: int64"
      ]
     },
     "execution_count": 13,
     "metadata": {},
     "output_type": "execute_result"
    }
   ],
   "source": [
    "#Validando valores ausentes\n",
    "data.isnull().sum()"
   ]
  },
  {
   "cell_type": "markdown",
   "metadata": {
    "id": "lNjR-AGXHCXd"
   },
   "source": [
    "Aparentemente, solo nos quedan los valores ausentes que decidimos mantener, pero inicialmente fuimos informados que nuestra columna `user_score` maneja la abreviatura `TBD` para referirse a datos aún por determinar. Como anteriormente decidimos mantener valores ausentes en ambas columnas referentes a las criticas, convertiremos estos valores como valores ausentes para mantener coherencia.\n",
    "Tambien validaremos si hay valores como 0 en algunas columnas que pudiesen considerarse valores ausentes."
   ]
  },
  {
   "cell_type": "code",
   "execution_count": 14,
   "metadata": {
    "id": "udHOFYK6IEBt"
   },
   "outputs": [],
   "source": [
    "#Convertimos valores \"TBD\" a valores ausentes\n",
    "data.loc[data['user_score'] =='tbd', 'user_score'] = np.nan"
   ]
  },
  {
   "cell_type": "code",
   "execution_count": 15,
   "metadata": {
    "colab": {
     "base_uri": "https://localhost:8080/"
    },
    "id": "7ZLotwrYJgrl",
    "outputId": "11f6d04a-ba97-45d0-cc2a-a3913f856f1b"
   },
   "outputs": [
    {
     "name": "stdout",
     "output_type": "stream",
     "text": [
      "name 0\n",
      "platform 0\n",
      "year_of_release 0\n",
      "genre 0\n",
      "na_sales 4468\n",
      "eu_sales 5800\n",
      "jp_sales 10407\n",
      "other_sales 6527\n",
      "critic_score 0\n",
      "user_score 0\n",
      "rating 0\n"
     ]
    }
   ],
   "source": [
    "def cero(data):\n",
    "    for row in data:\n",
    "        print(row,len(data[data[row]== 0]))\n",
    "\n",
    "cero(data)"
   ]
  },
  {
   "cell_type": "markdown",
   "metadata": {
    "id": "rWiibFHmJuOm"
   },
   "source": [
    "Solo tenemos ceros en las columnas de ventas, que tiene sentido ya que hay videojuegos que solo salen a la venta en algunas regiones."
   ]
  },
  {
   "cell_type": "markdown",
   "metadata": {
    "id": "xULgFrCvPhsO"
   },
   "source": [
    "### **Convertir tipos de datos**"
   ]
  },
  {
   "cell_type": "markdown",
   "metadata": {
    "id": "SyrapjAUP1Vt"
   },
   "source": [
    "Ya que tratamos nuestros valores ausentes, podemos avanzar convirtiendo nuestras columnas al tipo de datos más conveniente para luego poder facilitar su uso en nuestro analisis. \n",
    "\n",
    "En este caso, las columnas `name`, `platform`, `genre` y `rating` necesitan ser strings ya que contienen cadenas de texto, las columna `year_of_release` debe ser datetime ya que contiene años y `user_score` a float ahora que ya no contiene strings en sus datos y solo evaluaciones de los usuarios (que incluyen decimales)."
   ]
  },
  {
   "cell_type": "code",
   "execution_count": 16,
   "metadata": {
    "id": "OAYLwF62Rfac"
   },
   "outputs": [],
   "source": [
    "#convirtiendo los datos tipos de datos a string\n",
    "data['genre'] = data['genre'].astype(str)\n",
    "data['platform'] = data['platform'].astype(str)\n",
    "data['name'] = data['name'].astype(str)\n",
    "data['rating'] = data['rating'].astype(str)\n",
    "\n",
    "#convirtiendo \"year_of_release\" a datetime (corregido)\n",
    "#data['year_of_release'] = pd.to_datetime(data['year_of_release'], format='%Y')\n",
    "#data['year_of_release'] = data['year_of_release'].dt.year\n",
    "\n",
    "#convirtiendo \"year_of_release\" a int\n",
    "data['year_of_release'] = data['year_of_release'].astype(int)\n",
    "#convirtiendo columnas de criticas a float\n",
    "data['user_score'] = data['user_score'].astype(float)"
   ]
  },
  {
   "cell_type": "code",
   "execution_count": 17,
   "metadata": {
    "colab": {
     "base_uri": "https://localhost:8080/"
    },
    "id": "Q8ayT7ZHMXuW",
    "outputId": "d08f79e2-0a10-4d64-c3cf-982b9c177dcc"
   },
   "outputs": [
    {
     "data": {
      "text/plain": [
       "name                object\n",
       "platform            object\n",
       "year_of_release      int64\n",
       "genre               object\n",
       "na_sales           float64\n",
       "eu_sales           float64\n",
       "jp_sales           float64\n",
       "other_sales        float64\n",
       "critic_score       float64\n",
       "user_score         float64\n",
       "rating              object\n",
       "dtype: object"
      ]
     },
     "execution_count": 17,
     "metadata": {},
     "output_type": "execute_result"
    }
   ],
   "source": [
    "#validando que los tipos se hayan aplicado correctamente\n",
    "data.dtypes"
   ]
  },
  {
   "cell_type": "code",
   "execution_count": 18,
   "metadata": {
    "id": "1fedYpS0SAKb"
   },
   "outputs": [],
   "source": [
    "# Eliminando duplicados\n",
    "data = data.drop_duplicates().reset_index(drop=True)"
   ]
  },
  {
   "cell_type": "code",
   "execution_count": 19,
   "metadata": {
    "colab": {
     "base_uri": "https://localhost:8080/",
     "height": 675
    },
    "id": "2S_QXt49NE-o",
    "outputId": "1b27f4a8-83ef-47e0-dbc9-be3a2694d958"
   },
   "outputs": [
    {
     "name": "stdout",
     "output_type": "stream",
     "text": [
      "<class 'pandas.core.frame.DataFrame'>\n",
      "RangeIndex: 16567 entries, 0 to 16566\n",
      "Data columns (total 11 columns):\n",
      " #   Column           Non-Null Count  Dtype  \n",
      "---  ------           --------------  -----  \n",
      " 0   name             16567 non-null  object \n",
      " 1   platform         16567 non-null  object \n",
      " 2   year_of_release  16567 non-null  int64  \n",
      " 3   genre            16567 non-null  object \n",
      " 4   na_sales         16567 non-null  float64\n",
      " 5   eu_sales         16567 non-null  float64\n",
      " 6   jp_sales         16567 non-null  float64\n",
      " 7   other_sales      16567 non-null  float64\n",
      " 8   critic_score     8075 non-null   float64\n",
      " 9   user_score       7540 non-null   float64\n",
      " 10  rating           16567 non-null  object \n",
      "dtypes: float64(6), int64(1), object(4)\n",
      "memory usage: 1.4+ MB\n"
     ]
    },
    {
     "data": {
      "text/html": [
       "<div>\n",
       "<style scoped>\n",
       "    .dataframe tbody tr th:only-of-type {\n",
       "        vertical-align: middle;\n",
       "    }\n",
       "\n",
       "    .dataframe tbody tr th {\n",
       "        vertical-align: top;\n",
       "    }\n",
       "\n",
       "    .dataframe thead th {\n",
       "        text-align: right;\n",
       "    }\n",
       "</style>\n",
       "<table border=\"1\" class=\"dataframe\">\n",
       "  <thead>\n",
       "    <tr style=\"text-align: right;\">\n",
       "      <th></th>\n",
       "      <th>name</th>\n",
       "      <th>platform</th>\n",
       "      <th>year_of_release</th>\n",
       "      <th>genre</th>\n",
       "      <th>na_sales</th>\n",
       "      <th>eu_sales</th>\n",
       "      <th>jp_sales</th>\n",
       "      <th>other_sales</th>\n",
       "      <th>critic_score</th>\n",
       "      <th>user_score</th>\n",
       "      <th>rating</th>\n",
       "    </tr>\n",
       "  </thead>\n",
       "  <tbody>\n",
       "    <tr>\n",
       "      <th>0</th>\n",
       "      <td>Wii Sports</td>\n",
       "      <td>Wii</td>\n",
       "      <td>2006</td>\n",
       "      <td>Sports</td>\n",
       "      <td>41.36</td>\n",
       "      <td>28.96</td>\n",
       "      <td>3.77</td>\n",
       "      <td>8.45</td>\n",
       "      <td>76.0</td>\n",
       "      <td>8.0</td>\n",
       "      <td>E</td>\n",
       "    </tr>\n",
       "    <tr>\n",
       "      <th>1</th>\n",
       "      <td>Super Mario Bros.</td>\n",
       "      <td>NES</td>\n",
       "      <td>1985</td>\n",
       "      <td>Platform</td>\n",
       "      <td>29.08</td>\n",
       "      <td>3.58</td>\n",
       "      <td>6.81</td>\n",
       "      <td>0.77</td>\n",
       "      <td>NaN</td>\n",
       "      <td>NaN</td>\n",
       "      <td>unknown</td>\n",
       "    </tr>\n",
       "    <tr>\n",
       "      <th>2</th>\n",
       "      <td>Mario Kart Wii</td>\n",
       "      <td>Wii</td>\n",
       "      <td>2008</td>\n",
       "      <td>Racing</td>\n",
       "      <td>15.68</td>\n",
       "      <td>12.76</td>\n",
       "      <td>3.79</td>\n",
       "      <td>3.29</td>\n",
       "      <td>82.0</td>\n",
       "      <td>8.3</td>\n",
       "      <td>E</td>\n",
       "    </tr>\n",
       "    <tr>\n",
       "      <th>3</th>\n",
       "      <td>Wii Sports Resort</td>\n",
       "      <td>Wii</td>\n",
       "      <td>2009</td>\n",
       "      <td>Sports</td>\n",
       "      <td>15.61</td>\n",
       "      <td>10.93</td>\n",
       "      <td>3.28</td>\n",
       "      <td>2.95</td>\n",
       "      <td>80.0</td>\n",
       "      <td>8.0</td>\n",
       "      <td>E</td>\n",
       "    </tr>\n",
       "    <tr>\n",
       "      <th>4</th>\n",
       "      <td>Pokemon Red/Pokemon Blue</td>\n",
       "      <td>GB</td>\n",
       "      <td>1996</td>\n",
       "      <td>Role-Playing</td>\n",
       "      <td>11.27</td>\n",
       "      <td>8.89</td>\n",
       "      <td>10.22</td>\n",
       "      <td>1.00</td>\n",
       "      <td>NaN</td>\n",
       "      <td>NaN</td>\n",
       "      <td>unknown</td>\n",
       "    </tr>\n",
       "    <tr>\n",
       "      <th>5</th>\n",
       "      <td>Tetris</td>\n",
       "      <td>GB</td>\n",
       "      <td>1989</td>\n",
       "      <td>Puzzle</td>\n",
       "      <td>23.20</td>\n",
       "      <td>2.26</td>\n",
       "      <td>4.22</td>\n",
       "      <td>0.58</td>\n",
       "      <td>NaN</td>\n",
       "      <td>NaN</td>\n",
       "      <td>unknown</td>\n",
       "    </tr>\n",
       "    <tr>\n",
       "      <th>6</th>\n",
       "      <td>New Super Mario Bros.</td>\n",
       "      <td>DS</td>\n",
       "      <td>2006</td>\n",
       "      <td>Platform</td>\n",
       "      <td>11.28</td>\n",
       "      <td>9.14</td>\n",
       "      <td>6.50</td>\n",
       "      <td>2.88</td>\n",
       "      <td>89.0</td>\n",
       "      <td>8.5</td>\n",
       "      <td>E</td>\n",
       "    </tr>\n",
       "    <tr>\n",
       "      <th>7</th>\n",
       "      <td>Wii Play</td>\n",
       "      <td>Wii</td>\n",
       "      <td>2006</td>\n",
       "      <td>Misc</td>\n",
       "      <td>13.96</td>\n",
       "      <td>9.18</td>\n",
       "      <td>2.93</td>\n",
       "      <td>2.84</td>\n",
       "      <td>58.0</td>\n",
       "      <td>6.6</td>\n",
       "      <td>E</td>\n",
       "    </tr>\n",
       "    <tr>\n",
       "      <th>8</th>\n",
       "      <td>New Super Mario Bros. Wii</td>\n",
       "      <td>Wii</td>\n",
       "      <td>2009</td>\n",
       "      <td>Platform</td>\n",
       "      <td>14.44</td>\n",
       "      <td>6.94</td>\n",
       "      <td>4.70</td>\n",
       "      <td>2.24</td>\n",
       "      <td>87.0</td>\n",
       "      <td>8.4</td>\n",
       "      <td>E</td>\n",
       "    </tr>\n",
       "    <tr>\n",
       "      <th>9</th>\n",
       "      <td>Duck Hunt</td>\n",
       "      <td>NES</td>\n",
       "      <td>1984</td>\n",
       "      <td>Shooter</td>\n",
       "      <td>26.93</td>\n",
       "      <td>0.63</td>\n",
       "      <td>0.28</td>\n",
       "      <td>0.47</td>\n",
       "      <td>NaN</td>\n",
       "      <td>NaN</td>\n",
       "      <td>unknown</td>\n",
       "    </tr>\n",
       "  </tbody>\n",
       "</table>\n",
       "</div>"
      ],
      "text/plain": [
       "                        name platform  year_of_release         genre  \\\n",
       "0                 Wii Sports      Wii             2006        Sports   \n",
       "1          Super Mario Bros.      NES             1985      Platform   \n",
       "2             Mario Kart Wii      Wii             2008        Racing   \n",
       "3          Wii Sports Resort      Wii             2009        Sports   \n",
       "4   Pokemon Red/Pokemon Blue       GB             1996  Role-Playing   \n",
       "5                     Tetris       GB             1989        Puzzle   \n",
       "6      New Super Mario Bros.       DS             2006      Platform   \n",
       "7                   Wii Play      Wii             2006          Misc   \n",
       "8  New Super Mario Bros. Wii      Wii             2009      Platform   \n",
       "9                  Duck Hunt      NES             1984       Shooter   \n",
       "\n",
       "   na_sales  eu_sales  jp_sales  other_sales  critic_score  user_score  \\\n",
       "0     41.36     28.96      3.77         8.45          76.0         8.0   \n",
       "1     29.08      3.58      6.81         0.77           NaN         NaN   \n",
       "2     15.68     12.76      3.79         3.29          82.0         8.3   \n",
       "3     15.61     10.93      3.28         2.95          80.0         8.0   \n",
       "4     11.27      8.89     10.22         1.00           NaN         NaN   \n",
       "5     23.20      2.26      4.22         0.58           NaN         NaN   \n",
       "6     11.28      9.14      6.50         2.88          89.0         8.5   \n",
       "7     13.96      9.18      2.93         2.84          58.0         6.6   \n",
       "8     14.44      6.94      4.70         2.24          87.0         8.4   \n",
       "9     26.93      0.63      0.28         0.47           NaN         NaN   \n",
       "\n",
       "    rating  \n",
       "0        E  \n",
       "1  unknown  \n",
       "2        E  \n",
       "3        E  \n",
       "4  unknown  \n",
       "5  unknown  \n",
       "6        E  \n",
       "7        E  \n",
       "8        E  \n",
       "9  unknown  "
      ]
     },
     "execution_count": 19,
     "metadata": {},
     "output_type": "execute_result"
    }
   ],
   "source": [
    "#validando informacion del dataframe\n",
    "data.info()\n",
    "# devolver las n filas superiores del dataframe\n",
    "data.head(10)"
   ]
  },
  {
   "cell_type": "markdown",
   "metadata": {
    "id": "ghQD6xkSPLsr"
   },
   "source": [
    "### **Enriquecer datos**\n",
    "\n",
    "El último paso antes de proceder con nuestro analisis es enriquecer nuestros datos, en este caso calcularemos las ventas totales por juego para poder hacer uso de estos datos posteriormente."
   ]
  },
  {
   "cell_type": "code",
   "execution_count": 20,
   "metadata": {
    "colab": {
     "base_uri": "https://localhost:8080/",
     "height": 206
    },
    "id": "zE2lkWvoZHur",
    "outputId": "2f36ba40-d21e-485c-e50d-b775b32a1ec1"
   },
   "outputs": [
    {
     "data": {
      "text/html": [
       "<div>\n",
       "<style scoped>\n",
       "    .dataframe tbody tr th:only-of-type {\n",
       "        vertical-align: middle;\n",
       "    }\n",
       "\n",
       "    .dataframe tbody tr th {\n",
       "        vertical-align: top;\n",
       "    }\n",
       "\n",
       "    .dataframe thead th {\n",
       "        text-align: right;\n",
       "    }\n",
       "</style>\n",
       "<table border=\"1\" class=\"dataframe\">\n",
       "  <thead>\n",
       "    <tr style=\"text-align: right;\">\n",
       "      <th></th>\n",
       "      <th>name</th>\n",
       "      <th>platform</th>\n",
       "      <th>year_of_release</th>\n",
       "      <th>genre</th>\n",
       "      <th>na_sales</th>\n",
       "      <th>eu_sales</th>\n",
       "      <th>jp_sales</th>\n",
       "      <th>other_sales</th>\n",
       "      <th>critic_score</th>\n",
       "      <th>user_score</th>\n",
       "      <th>rating</th>\n",
       "      <th>total_sales</th>\n",
       "    </tr>\n",
       "  </thead>\n",
       "  <tbody>\n",
       "    <tr>\n",
       "      <th>0</th>\n",
       "      <td>Wii Sports</td>\n",
       "      <td>Wii</td>\n",
       "      <td>2006</td>\n",
       "      <td>Sports</td>\n",
       "      <td>41.36</td>\n",
       "      <td>28.96</td>\n",
       "      <td>3.77</td>\n",
       "      <td>8.45</td>\n",
       "      <td>76.0</td>\n",
       "      <td>8.0</td>\n",
       "      <td>E</td>\n",
       "      <td>82.54</td>\n",
       "    </tr>\n",
       "    <tr>\n",
       "      <th>1</th>\n",
       "      <td>Super Mario Bros.</td>\n",
       "      <td>NES</td>\n",
       "      <td>1985</td>\n",
       "      <td>Platform</td>\n",
       "      <td>29.08</td>\n",
       "      <td>3.58</td>\n",
       "      <td>6.81</td>\n",
       "      <td>0.77</td>\n",
       "      <td>NaN</td>\n",
       "      <td>NaN</td>\n",
       "      <td>unknown</td>\n",
       "      <td>40.24</td>\n",
       "    </tr>\n",
       "    <tr>\n",
       "      <th>2</th>\n",
       "      <td>Mario Kart Wii</td>\n",
       "      <td>Wii</td>\n",
       "      <td>2008</td>\n",
       "      <td>Racing</td>\n",
       "      <td>15.68</td>\n",
       "      <td>12.76</td>\n",
       "      <td>3.79</td>\n",
       "      <td>3.29</td>\n",
       "      <td>82.0</td>\n",
       "      <td>8.3</td>\n",
       "      <td>E</td>\n",
       "      <td>35.52</td>\n",
       "    </tr>\n",
       "    <tr>\n",
       "      <th>3</th>\n",
       "      <td>Wii Sports Resort</td>\n",
       "      <td>Wii</td>\n",
       "      <td>2009</td>\n",
       "      <td>Sports</td>\n",
       "      <td>15.61</td>\n",
       "      <td>10.93</td>\n",
       "      <td>3.28</td>\n",
       "      <td>2.95</td>\n",
       "      <td>80.0</td>\n",
       "      <td>8.0</td>\n",
       "      <td>E</td>\n",
       "      <td>32.77</td>\n",
       "    </tr>\n",
       "    <tr>\n",
       "      <th>4</th>\n",
       "      <td>Pokemon Red/Pokemon Blue</td>\n",
       "      <td>GB</td>\n",
       "      <td>1996</td>\n",
       "      <td>Role-Playing</td>\n",
       "      <td>11.27</td>\n",
       "      <td>8.89</td>\n",
       "      <td>10.22</td>\n",
       "      <td>1.00</td>\n",
       "      <td>NaN</td>\n",
       "      <td>NaN</td>\n",
       "      <td>unknown</td>\n",
       "      <td>31.38</td>\n",
       "    </tr>\n",
       "  </tbody>\n",
       "</table>\n",
       "</div>"
      ],
      "text/plain": [
       "                       name platform  year_of_release         genre  na_sales  \\\n",
       "0                Wii Sports      Wii             2006        Sports     41.36   \n",
       "1         Super Mario Bros.      NES             1985      Platform     29.08   \n",
       "2            Mario Kart Wii      Wii             2008        Racing     15.68   \n",
       "3         Wii Sports Resort      Wii             2009        Sports     15.61   \n",
       "4  Pokemon Red/Pokemon Blue       GB             1996  Role-Playing     11.27   \n",
       "\n",
       "   eu_sales  jp_sales  other_sales  critic_score  user_score   rating  \\\n",
       "0     28.96      3.77         8.45          76.0         8.0        E   \n",
       "1      3.58      6.81         0.77           NaN         NaN  unknown   \n",
       "2     12.76      3.79         3.29          82.0         8.3        E   \n",
       "3     10.93      3.28         2.95          80.0         8.0        E   \n",
       "4      8.89     10.22         1.00           NaN         NaN  unknown   \n",
       "\n",
       "   total_sales  \n",
       "0        82.54  \n",
       "1        40.24  \n",
       "2        35.52  \n",
       "3        32.77  \n",
       "4        31.38  "
      ]
     },
     "execution_count": 20,
     "metadata": {},
     "output_type": "execute_result"
    }
   ],
   "source": [
    "#Calculamos las ventas totales como la suma de las ventas en todas las regiones\n",
    "data['total_sales']=data[['na_sales','eu_sales','jp_sales','other_sales']].sum(axis=1)\n",
    "data.head()"
   ]
  },
  {
   "cell_type": "markdown",
   "metadata": {
    "id": "qldi9gjCOhZ8"
   },
   "source": [
    "### **Conclusión**\n",
    "\n",
    "En esta sección preparamos los datos para nuestro analisis, en este caso realizamos:\n",
    "* Modificación de los nombres de las columnas de datos. poniendolos en minusculas para mantener homogeneidad.\n",
    "* Nos ocupamos de los valores ausentes en las columnas `name`, `genre`y `year_of_release`, mientras que mantuvimos los valores ausentes de `critic_score` y `user_score` debido a la gran cantidad de valores ausentes y que no tenemos alguna base de datos complementaria que nos ayude a recuperarlos.\n",
    "* En vista que mantuvimos los datos ausentes en `user_score`, decidimos que los valores \"TBD\" los consideraríamos datos ausentes, por lo que los convertimos en datos NaN.\n",
    "* Nos aseguramos de que cada columna tuviera el tipo de dato correcto para no tener problemas en nuestro analisis posterior.\n",
    "*Enriquecimos nuestros datos añadiendo una columna de ventas totales a nuestro DataFrame"
   ]
  },
  {
   "cell_type": "markdown",
   "metadata": {
    "id": "7C0mXrE6OwGB"
   },
   "source": [
    "## **Analizar los datos**\n",
    "\n",
    "Se nos dieron varias tareas para poder identificar patrones que identifiquen si un juego tendrá éxito:\n",
    "\n",
    "* Mira cuántos juegos fueron lanzados en diferentes años. ¿Son significativos los datos de cada período?\n",
    "* Observa cómo varían las ventas de una plataforma a otra. Elige las plataformas con las mayores ventas totales y construye una distribución basada en los datos de cada año. Busca las plataformas que solían ser populares pero que ahora no tienen ventas. ¿Cuánto tardan generalmente las nuevas plataformas en aparecer y las antiguas en desaparecer?\n",
    "* Determina para qué período debes tomar datos. Para hacerlo mira tus respuestas a las preguntas anteriores. Los datos deberían permitirte construir un modelo para 2017.\n",
    "Trabaja solo con los datos que consideras relevantes. Ignora los datos de años anteriores.\n",
    "* ¿Qué plataformas son líderes en ventas? ¿Cuáles crecen y cuáles se reducen? Elige varias plataformas potencialmente rentables.\n",
    "* Crea un diagrama de caja para las ventas globales de todos los juegos, desglosados por plataforma. ¿Son significativas las diferencias en las ventas? ¿Qué sucede con las ventas promedio en varias plataformas? Describe tus hallazgos.\n",
    "* Mira cómo las reseñas de usuarios y profesionales afectan las ventas de una plataforma popular (tu elección). Crea un gráfico de dispersión y calcula la correlación entre las reseñas y las ventas. Saca conclusiones.\n",
    "* Teniendo en cuenta tus conclusiones compara las ventas de los mismos juegos en otras plataformas.\n",
    "* Echa un vistazo a la distribución general de los juegos por género. ¿Qué se puede decir de los géneros más rentables? ¿Puedes generalizar acerca de los géneros con ventas altas y bajas?\n",
    "\n",
    "En este punto abordaremos las preguntas planteadas"
   ]
  },
  {
   "cell_type": "markdown",
   "metadata": {
    "id": "KsJSoNHTScG6"
   },
   "source": [
    "### **Juegos lanzados por año**\n",
    "\n",
    "Mira cuántos juegos fueron lanzados en diferentes años. ¿Son significativos los datos de cada período?"
   ]
  },
  {
   "cell_type": "code",
   "execution_count": 21,
   "metadata": {
    "colab": {
     "base_uri": "https://localhost:8080/",
     "height": 407
    },
    "id": "xi8ORN4KLfpQ",
    "outputId": "e9a0f4a7-7f93-499b-d7fc-67270633605b"
   },
   "outputs": [
    {
     "data": {
      "image/png": "[encoded data removed]",
      "text/plain": [
       "<Figure size 1296x432 with 1 Axes>"
      ]
     },
     "metadata": {
      "needs_background": "light"
     },
     "output_type": "display_data"
    }
   ],
   "source": [
    "#Agrupando nuestros datos por año\n",
    "games_per_year = data[['year_of_release','name']].groupby(['year_of_release']).count().sort_values(by='year_of_release',ascending=False).reset_index()\n",
    "#Graficando nuestros datos agrupados en un barplot\n",
    "fig, gamespy = plt.subplots(figsize=(18, 6))\n",
    "gamespy.set_title(\"Cantidad de juegos lanzados a lo largo de los años\", fontdict={'size':15})\n",
    "sns.barplot(data=games_per_year,x='year_of_release',y='name',ax=gamespy)\n",
    "plt.show()"
   ]
  },
  {
   "cell_type": "markdown",
   "metadata": {
    "id": "M0u-x1qmQFNr"
   },
   "source": [
    "* Del grafico anterior podemos ver que la industria de los videojuegos comenzo a crecer lentamente en 1995 y alcanzó su punto máximo en el 2008-2009. \n",
    "\n",
    "* La cantidad de datos anterior al 2000 son significativamente menores que los datos posterior al 2000, probablemente debido a la evolución y adopción de las tecnologías de Internet.\n",
    "\n",
    "* Después de 2008, hubo una tendencia a la baja de lanzamientos de juegos por año que se estabilizó entre 500 y 600 juegos en los últimos años de 2013 a 2016.\n",
    "\n"
   ]
  },
  {
   "cell_type": "markdown",
   "metadata": {
    "id": "7LvA561kShGv"
   },
   "source": [
    "### **Ventas por plataforma**\n",
    "\n",
    "Observa cómo varían las ventas de una plataforma a otra. Elige las plataformas con las mayores ventas totales y construye una distribución basada en los datos de cada año. Busca las plataformas que solían ser populares pero que ahora no tienen ventas. ¿Cuánto tardan generalmente las nuevas plataformas en aparecer y las antiguas en desaparecer?"
   ]
  },
  {
   "cell_type": "code",
   "execution_count": 22,
   "metadata": {
    "colab": {
     "base_uri": "https://localhost:8080/",
     "height": 406
    },
    "id": "NBrHslrsSzr9",
    "outputId": "7219f0ca-7b1a-40c3-df66-049abb233378"
   },
   "outputs": [
    {
     "data": {
      "image/png": "[encoded data removed]",
      "text/plain": [
       "<Figure size 1296x432 with 1 Axes>"
      ]
     },
     "metadata": {
      "needs_background": "light"
     },
     "output_type": "display_data"
    }
   ],
   "source": [
    "#Agrupando nuestros datos por plataforma\n",
    "platform_total_sales = data[['platform','total_sales']].groupby(['platform']).sum().sort_values(by='total_sales').reset_index()\n",
    "#Graficando nuestros datos agrupados en un barplot\n",
    "fig, gamespp = plt.subplots(figsize=(18, 6))\n",
    "gamespp.set_title(\"Cantidad de juegos lanzados por plataforma\", fontdict={'size':15})\n",
    "sns.barplot(data=platform_total_sales,x='platform',y='total_sales',ax=gamespp)\n",
    "plt.show()"
   ]
  },
  {
   "cell_type": "markdown",
   "metadata": {
    "id": "N2FsYc-iTapg"
   },
   "source": [
    "Como vemos en el gráfico de barras las plataformas con mayores ventas son PS2 y X360.\n",
    "\n",
    "Seleccionaremos el top 6 para realizar un analisis del crecimiento de las plataformas a lo largo de los años."
   ]
  },
  {
   "cell_type": "code",
   "execution_count": 23,
   "metadata": {
    "colab": {
     "base_uri": "https://localhost:8080/",
     "height": 371
    },
    "id": "Jp2A8J43UAWd",
    "outputId": "e1b6b9e4-1302-4367-ffbe-ce84c5066c88"
   },
   "outputs": [
    {
     "name": "stdout",
     "output_type": "stream",
     "text": [
      "['PS2', 'X360', 'PS3', 'Wii', 'DS', 'PS']\n"
     ]
    },
    {
     "data": {
      "image/png": "[encoded data removed]",
      "text/plain": [
       "<Figure size 1080x360 with 1 Axes>"
      ]
     },
     "metadata": {
      "needs_background": "light"
     },
     "output_type": "display_data"
    }
   ],
   "source": [
    "#Seleccionamos el top 6 de ventas por plataforma\n",
    "top_platforms = platform_total_sales.sort_values(by='total_sales', ascending=False).head(6)['platform'].tolist()\n",
    "print(top_platforms)\n",
    "#Graficando nuestros datos en un barplot\n",
    "fig, gamestp = plt.subplots(figsize=(15, 5))\n",
    "gamestp.set_title(\"Distribución de ventas de cada plataforma por año\", fontdict={'size':15})\n",
    "sales = (data[data.platform.isin(top_platforms)].groupby(['year_of_release','platform']).total_sales.sum().reset_index())\n",
    "sns.lineplot(data=sales, x=\"year_of_release\", y='total_sales', hue=\"platform\");"
   ]
  },
  {
   "cell_type": "markdown",
   "metadata": {
    "id": "bxqTVO_fYtBK"
   },
   "source": [
    "Todas nuestras lineas indican que las plataformas más rentables tienden a tener una distribucion ascendente y descendente paulatina en un periodo de 10 años, alcanzando su punto maximo en terminos de ventas a mediados de su vida (a los 5-6 años). \n",
    "\n",
    "Analicemos que plataformas solían ser populares pero que hoy (2016) no tienen ventas."
   ]
  },
  {
   "cell_type": "code",
   "execution_count": 24,
   "metadata": {
    "colab": {
     "base_uri": "https://localhost:8080/"
    },
    "id": "v3fcRUiHXv3a",
    "outputId": "11010f98-67e9-42b2-fc62-878480f46950"
   },
   "outputs": [
    {
     "name": "stdout",
     "output_type": "stream",
     "text": [
      "['NES' 'GB' 'DS' 'PS2' 'SNES' 'GBA' 'N64' 'PS' 'XB' '2600' 'PSP' 'GC'\n",
      " 'GEN' 'DC' 'SAT' 'SCD' 'WS' 'NG' 'TG16' '3DO' 'GG' 'PCFX']\n"
     ]
    }
   ],
   "source": [
    "#Seleccionando juegos lanzados el 2016\n",
    "df_2016 = data[data['year_of_release'] == 2016]['platform'].unique()\n",
    "#Seleccionando juegos que tienen 0 ventas lanzados el 2016\n",
    "df_platform = data[(data['total_sales'] >= 0) & ~data['platform'].isin(df_2016)]\n",
    "#Mostrando plataformas con 0 ventas para juegos lanzados el 2016\n",
    "print(df_platform['platform'].unique())"
   ]
  },
  {
   "cell_type": "markdown",
   "metadata": {
    "id": "Zt3gvf7Zj1SK"
   },
   "source": [
    "Las plataformas que hoy tienen cero ventas son: `NES`, `GB`, `DS`, `PS2`, `SNES`, `GBA`, `N64`, `PS`, `XB`, `2600`, `PSP`, `GC`, `GEN`, `DC`, `SAT`, `SCD`, `WS`, `NG`, `TG16`, `3DO`, `GG` y `PCFX`. Analicemos cuáles de estas fueron populares en su tiempo:"
   ]
  },
  {
   "cell_type": "code",
   "execution_count": 25,
   "metadata": {
    "colab": {
     "base_uri": "https://localhost:8080/",
     "height": 739
    },
    "id": "gDE4UAzoiu1B",
    "outputId": "49f8ac39-b185-4bbc-e7b6-5306a5790379"
   },
   "outputs": [
    {
     "data": {
      "text/html": [
       "<div>\n",
       "<style scoped>\n",
       "    .dataframe tbody tr th:only-of-type {\n",
       "        vertical-align: middle;\n",
       "    }\n",
       "\n",
       "    .dataframe tbody tr th {\n",
       "        vertical-align: top;\n",
       "    }\n",
       "\n",
       "    .dataframe thead th {\n",
       "        text-align: right;\n",
       "    }\n",
       "</style>\n",
       "<table border=\"1\" class=\"dataframe\">\n",
       "  <thead>\n",
       "    <tr style=\"text-align: right;\">\n",
       "      <th></th>\n",
       "      <th>platform</th>\n",
       "      <th>total_sales</th>\n",
       "    </tr>\n",
       "  </thead>\n",
       "  <tbody>\n",
       "    <tr>\n",
       "      <th>30</th>\n",
       "      <td>PS2</td>\n",
       "      <td>1247.16</td>\n",
       "    </tr>\n",
       "    <tr>\n",
       "      <th>26</th>\n",
       "      <td>DS</td>\n",
       "      <td>804.28</td>\n",
       "    </tr>\n",
       "    <tr>\n",
       "      <th>25</th>\n",
       "      <td>PS</td>\n",
       "      <td>727.58</td>\n",
       "    </tr>\n",
       "    <tr>\n",
       "      <th>23</th>\n",
       "      <td>GBA</td>\n",
       "      <td>313.73</td>\n",
       "    </tr>\n",
       "    <tr>\n",
       "      <th>22</th>\n",
       "      <td>PSP</td>\n",
       "      <td>293.57</td>\n",
       "    </tr>\n",
       "    <tr>\n",
       "      <th>19</th>\n",
       "      <td>XB</td>\n",
       "      <td>256.69</td>\n",
       "    </tr>\n",
       "    <tr>\n",
       "      <th>18</th>\n",
       "      <td>GB</td>\n",
       "      <td>254.43</td>\n",
       "    </tr>\n",
       "    <tr>\n",
       "      <th>17</th>\n",
       "      <td>NES</td>\n",
       "      <td>251.05</td>\n",
       "    </tr>\n",
       "    <tr>\n",
       "      <th>16</th>\n",
       "      <td>N64</td>\n",
       "      <td>218.48</td>\n",
       "    </tr>\n",
       "    <tr>\n",
       "      <th>15</th>\n",
       "      <td>SNES</td>\n",
       "      <td>200.04</td>\n",
       "    </tr>\n",
       "    <tr>\n",
       "      <th>14</th>\n",
       "      <td>GC</td>\n",
       "      <td>198.66</td>\n",
       "    </tr>\n",
       "    <tr>\n",
       "      <th>12</th>\n",
       "      <td>2600</td>\n",
       "      <td>89.01</td>\n",
       "    </tr>\n",
       "    <tr>\n",
       "      <th>9</th>\n",
       "      <td>SAT</td>\n",
       "      <td>33.59</td>\n",
       "    </tr>\n",
       "    <tr>\n",
       "      <th>8</th>\n",
       "      <td>GEN</td>\n",
       "      <td>28.35</td>\n",
       "    </tr>\n",
       "    <tr>\n",
       "      <th>7</th>\n",
       "      <td>DC</td>\n",
       "      <td>15.95</td>\n",
       "    </tr>\n",
       "    <tr>\n",
       "      <th>6</th>\n",
       "      <td>SCD</td>\n",
       "      <td>1.86</td>\n",
       "    </tr>\n",
       "    <tr>\n",
       "      <th>5</th>\n",
       "      <td>NG</td>\n",
       "      <td>1.44</td>\n",
       "    </tr>\n",
       "    <tr>\n",
       "      <th>4</th>\n",
       "      <td>WS</td>\n",
       "      <td>1.42</td>\n",
       "    </tr>\n",
       "    <tr>\n",
       "      <th>3</th>\n",
       "      <td>TG16</td>\n",
       "      <td>0.16</td>\n",
       "    </tr>\n",
       "    <tr>\n",
       "      <th>2</th>\n",
       "      <td>3DO</td>\n",
       "      <td>0.10</td>\n",
       "    </tr>\n",
       "    <tr>\n",
       "      <th>1</th>\n",
       "      <td>GG</td>\n",
       "      <td>0.04</td>\n",
       "    </tr>\n",
       "    <tr>\n",
       "      <th>0</th>\n",
       "      <td>PCFX</td>\n",
       "      <td>0.03</td>\n",
       "    </tr>\n",
       "  </tbody>\n",
       "</table>\n",
       "</div>"
      ],
      "text/plain": [
       "   platform  total_sales\n",
       "30      PS2      1247.16\n",
       "26       DS       804.28\n",
       "25       PS       727.58\n",
       "23      GBA       313.73\n",
       "22      PSP       293.57\n",
       "19       XB       256.69\n",
       "18       GB       254.43\n",
       "17      NES       251.05\n",
       "16      N64       218.48\n",
       "15     SNES       200.04\n",
       "14       GC       198.66\n",
       "12     2600        89.01\n",
       "9       SAT        33.59\n",
       "8       GEN        28.35\n",
       "7        DC        15.95\n",
       "6       SCD         1.86\n",
       "5        NG         1.44\n",
       "4        WS         1.42\n",
       "3      TG16         0.16\n",
       "2       3DO         0.10\n",
       "1        GG         0.04\n",
       "0      PCFX         0.03"
      ]
     },
     "execution_count": 25,
     "metadata": {},
     "output_type": "execute_result"
    }
   ],
   "source": [
    "zero_sales= platform_total_sales[platform_total_sales['platform'].isin(df_platform['platform'])].sort_values(by=\"total_sales\", ascending=False)\n",
    "zero_sales"
   ]
  },
  {
   "cell_type": "markdown",
   "metadata": {
    "id": "4M1RC9EtkO-Y"
   },
   "source": [
    "Las plataformas más populares que hoy no tienen ventas serían la `PS2`, `DS` y `PS`. \n",
    "\n",
    "Analicemos cuanto se tarda en promedio las plataformas en aparecer y en desaparecer:"
   ]
  },
  {
   "cell_type": "code",
   "execution_count": 26,
   "metadata": {
    "colab": {
     "base_uri": "https://localhost:8080/",
     "height": 1000
    },
    "id": "eQQHBSbWlKTi",
    "outputId": "515bc5d5-5f1f-4147-d224-e4fce1a614b1"
   },
   "outputs": [
    {
     "data": {
      "text/html": [
       "<div>\n",
       "<style scoped>\n",
       "    .dataframe tbody tr th:only-of-type {\n",
       "        vertical-align: middle;\n",
       "    }\n",
       "\n",
       "    .dataframe tbody tr th {\n",
       "        vertical-align: top;\n",
       "    }\n",
       "\n",
       "    .dataframe thead th {\n",
       "        text-align: right;\n",
       "    }\n",
       "</style>\n",
       "<table border=\"1\" class=\"dataframe\">\n",
       "  <thead>\n",
       "    <tr style=\"text-align: right;\">\n",
       "      <th></th>\n",
       "      <th>platform</th>\n",
       "      <th>min</th>\n",
       "      <th>max</th>\n",
       "      <th>lifetime</th>\n",
       "    </tr>\n",
       "  </thead>\n",
       "  <tbody>\n",
       "    <tr>\n",
       "      <th>0</th>\n",
       "      <td>XOne</td>\n",
       "      <td>2013</td>\n",
       "      <td>2016</td>\n",
       "      <td>3</td>\n",
       "    </tr>\n",
       "    <tr>\n",
       "      <th>1</th>\n",
       "      <td>PS3</td>\n",
       "      <td>2005</td>\n",
       "      <td>2016</td>\n",
       "      <td>11</td>\n",
       "    </tr>\n",
       "    <tr>\n",
       "      <th>2</th>\n",
       "      <td>PS4</td>\n",
       "      <td>2013</td>\n",
       "      <td>2016</td>\n",
       "      <td>3</td>\n",
       "    </tr>\n",
       "    <tr>\n",
       "      <th>3</th>\n",
       "      <td>PC</td>\n",
       "      <td>1985</td>\n",
       "      <td>2016</td>\n",
       "      <td>31</td>\n",
       "    </tr>\n",
       "    <tr>\n",
       "      <th>4</th>\n",
       "      <td>PSV</td>\n",
       "      <td>2011</td>\n",
       "      <td>2016</td>\n",
       "      <td>5</td>\n",
       "    </tr>\n",
       "    <tr>\n",
       "      <th>5</th>\n",
       "      <td>Wii</td>\n",
       "      <td>2006</td>\n",
       "      <td>2016</td>\n",
       "      <td>10</td>\n",
       "    </tr>\n",
       "    <tr>\n",
       "      <th>6</th>\n",
       "      <td>WiiU</td>\n",
       "      <td>2012</td>\n",
       "      <td>2016</td>\n",
       "      <td>4</td>\n",
       "    </tr>\n",
       "    <tr>\n",
       "      <th>7</th>\n",
       "      <td>X360</td>\n",
       "      <td>2005</td>\n",
       "      <td>2016</td>\n",
       "      <td>11</td>\n",
       "    </tr>\n",
       "    <tr>\n",
       "      <th>8</th>\n",
       "      <td>3DS</td>\n",
       "      <td>2000</td>\n",
       "      <td>2016</td>\n",
       "      <td>16</td>\n",
       "    </tr>\n",
       "    <tr>\n",
       "      <th>9</th>\n",
       "      <td>PSP</td>\n",
       "      <td>2004</td>\n",
       "      <td>2015</td>\n",
       "      <td>11</td>\n",
       "    </tr>\n",
       "    <tr>\n",
       "      <th>10</th>\n",
       "      <td>DS</td>\n",
       "      <td>1985</td>\n",
       "      <td>2013</td>\n",
       "      <td>28</td>\n",
       "    </tr>\n",
       "    <tr>\n",
       "      <th>11</th>\n",
       "      <td>PS2</td>\n",
       "      <td>2000</td>\n",
       "      <td>2011</td>\n",
       "      <td>11</td>\n",
       "    </tr>\n",
       "    <tr>\n",
       "      <th>12</th>\n",
       "      <td>XB</td>\n",
       "      <td>2000</td>\n",
       "      <td>2008</td>\n",
       "      <td>8</td>\n",
       "    </tr>\n",
       "    <tr>\n",
       "      <th>13</th>\n",
       "      <td>DC</td>\n",
       "      <td>1998</td>\n",
       "      <td>2008</td>\n",
       "      <td>10</td>\n",
       "    </tr>\n",
       "    <tr>\n",
       "      <th>14</th>\n",
       "      <td>GC</td>\n",
       "      <td>2001</td>\n",
       "      <td>2007</td>\n",
       "      <td>6</td>\n",
       "    </tr>\n",
       "    <tr>\n",
       "      <th>15</th>\n",
       "      <td>GBA</td>\n",
       "      <td>2000</td>\n",
       "      <td>2007</td>\n",
       "      <td>7</td>\n",
       "    </tr>\n",
       "    <tr>\n",
       "      <th>16</th>\n",
       "      <td>N64</td>\n",
       "      <td>1996</td>\n",
       "      <td>2004</td>\n",
       "      <td>8</td>\n",
       "    </tr>\n",
       "    <tr>\n",
       "      <th>17</th>\n",
       "      <td>PS</td>\n",
       "      <td>1994</td>\n",
       "      <td>2003</td>\n",
       "      <td>9</td>\n",
       "    </tr>\n",
       "    <tr>\n",
       "      <th>18</th>\n",
       "      <td>WS</td>\n",
       "      <td>1999</td>\n",
       "      <td>2001</td>\n",
       "      <td>2</td>\n",
       "    </tr>\n",
       "    <tr>\n",
       "      <th>19</th>\n",
       "      <td>GB</td>\n",
       "      <td>1988</td>\n",
       "      <td>2001</td>\n",
       "      <td>13</td>\n",
       "    </tr>\n",
       "    <tr>\n",
       "      <th>20</th>\n",
       "      <td>SAT</td>\n",
       "      <td>1994</td>\n",
       "      <td>1999</td>\n",
       "      <td>5</td>\n",
       "    </tr>\n",
       "    <tr>\n",
       "      <th>21</th>\n",
       "      <td>SNES</td>\n",
       "      <td>1990</td>\n",
       "      <td>1999</td>\n",
       "      <td>9</td>\n",
       "    </tr>\n",
       "    <tr>\n",
       "      <th>22</th>\n",
       "      <td>2600</td>\n",
       "      <td>1980</td>\n",
       "      <td>1999</td>\n",
       "      <td>19</td>\n",
       "    </tr>\n",
       "    <tr>\n",
       "      <th>23</th>\n",
       "      <td>PCFX</td>\n",
       "      <td>1996</td>\n",
       "      <td>1996</td>\n",
       "      <td>0</td>\n",
       "    </tr>\n",
       "    <tr>\n",
       "      <th>24</th>\n",
       "      <td>NG</td>\n",
       "      <td>1993</td>\n",
       "      <td>1996</td>\n",
       "      <td>3</td>\n",
       "    </tr>\n",
       "    <tr>\n",
       "      <th>25</th>\n",
       "      <td>3DO</td>\n",
       "      <td>1994</td>\n",
       "      <td>1995</td>\n",
       "      <td>1</td>\n",
       "    </tr>\n",
       "    <tr>\n",
       "      <th>26</th>\n",
       "      <td>TG16</td>\n",
       "      <td>1995</td>\n",
       "      <td>1995</td>\n",
       "      <td>0</td>\n",
       "    </tr>\n",
       "    <tr>\n",
       "      <th>27</th>\n",
       "      <td>SCD</td>\n",
       "      <td>1993</td>\n",
       "      <td>1994</td>\n",
       "      <td>1</td>\n",
       "    </tr>\n",
       "    <tr>\n",
       "      <th>28</th>\n",
       "      <td>NES</td>\n",
       "      <td>1983</td>\n",
       "      <td>1994</td>\n",
       "      <td>11</td>\n",
       "    </tr>\n",
       "    <tr>\n",
       "      <th>29</th>\n",
       "      <td>GEN</td>\n",
       "      <td>1990</td>\n",
       "      <td>1994</td>\n",
       "      <td>4</td>\n",
       "    </tr>\n",
       "    <tr>\n",
       "      <th>30</th>\n",
       "      <td>GG</td>\n",
       "      <td>1992</td>\n",
       "      <td>1992</td>\n",
       "      <td>0</td>\n",
       "    </tr>\n",
       "  </tbody>\n",
       "</table>\n",
       "</div>"
      ],
      "text/plain": [
       "   platform   min   max  lifetime\n",
       "0      XOne  2013  2016         3\n",
       "1       PS3  2005  2016        11\n",
       "2       PS4  2013  2016         3\n",
       "3        PC  1985  2016        31\n",
       "4       PSV  2011  2016         5\n",
       "5       Wii  2006  2016        10\n",
       "6      WiiU  2012  2016         4\n",
       "7      X360  2005  2016        11\n",
       "8       3DS  2000  2016        16\n",
       "9       PSP  2004  2015        11\n",
       "10       DS  1985  2013        28\n",
       "11      PS2  2000  2011        11\n",
       "12       XB  2000  2008         8\n",
       "13       DC  1998  2008        10\n",
       "14       GC  2001  2007         6\n",
       "15      GBA  2000  2007         7\n",
       "16      N64  1996  2004         8\n",
       "17       PS  1994  2003         9\n",
       "18       WS  1999  2001         2\n",
       "19       GB  1988  2001        13\n",
       "20      SAT  1994  1999         5\n",
       "21     SNES  1990  1999         9\n",
       "22     2600  1980  1999        19\n",
       "23     PCFX  1996  1996         0\n",
       "24       NG  1993  1996         3\n",
       "25      3DO  1994  1995         1\n",
       "26     TG16  1995  1995         0\n",
       "27      SCD  1993  1994         1\n",
       "28      NES  1983  1994        11\n",
       "29      GEN  1990  1994         4\n",
       "30       GG  1992  1992         0"
      ]
     },
     "execution_count": 26,
     "metadata": {},
     "output_type": "execute_result"
    }
   ],
   "source": [
    "#Calculando el tiempo de vida de las plataformas\n",
    "platform_lifetime = data.groupby(['platform', 'year_of_release'], as_index=False)['total_sales'].sum().sort_values(by='year_of_release')\n",
    "platform_lifetime = platform_lifetime.groupby(['platform'])['year_of_release'].agg(['min', 'max']).reset_index()\n",
    "platform_lifetime['lifetime']=platform_lifetime['max']-platform_lifetime['min']\n",
    "platform_lifetime.sort_values(by='max',ascending=False).reset_index(drop=True)"
   ]
  },
  {
   "cell_type": "code",
   "execution_count": 27,
   "metadata": {
    "colab": {
     "base_uri": "https://localhost:8080/"
    },
    "id": "FgrRfBxEl_IB",
    "outputId": "04bfe2ef-19ac-4d8e-a2d1-feb5ef32e2f5"
   },
   "outputs": [
    {
     "data": {
      "text/plain": [
       "8.0"
      ]
     },
     "execution_count": 27,
     "metadata": {},
     "output_type": "execute_result"
    }
   ],
   "source": [
    "#Calculando la mediana de la vida de las plataformas\n",
    "platform_lifetime['lifetime'].median()"
   ]
  },
  {
   "cell_type": "markdown",
   "metadata": {
    "id": "lzhIwOhrDy64"
   },
   "source": [
    "### **Selección de periodo relevante**"
   ]
  },
  {
   "cell_type": "markdown",
   "metadata": {
    "id": "z2DXLSUe9yd-"
   },
   "source": [
    "La mediana de vida de una plataforma es de 8 años y como vimos anteriormente suele tomar de 4 a 6 años para que la plataforma llegue a su tope de ventas y es el valor que queremos buscar.\n",
    "\n",
    "Ante esto, excluiremos los datos de plataformas que hayan superado su tope de beneficios y de ahora en adelante, nos centraremos unicamente en las paltaformas que aún pueden llegar a su mayor alza para 2017, esto significa que excluiremos todos los datos por debajo del 2013."
   ]
  },
  {
   "cell_type": "code",
   "execution_count": 28,
   "metadata": {
    "colab": {
     "base_uri": "https://localhost:8080/",
     "height": 424
    },
    "id": "WgL9Yp1jDejT",
    "outputId": "7b4407d3-8ba1-4896-ec0d-5a4a41cea86d"
   },
   "outputs": [
    {
     "data": {
      "text/html": [
       "<div>\n",
       "<style scoped>\n",
       "    .dataframe tbody tr th:only-of-type {\n",
       "        vertical-align: middle;\n",
       "    }\n",
       "\n",
       "    .dataframe tbody tr th {\n",
       "        vertical-align: top;\n",
       "    }\n",
       "\n",
       "    .dataframe thead th {\n",
       "        text-align: right;\n",
       "    }\n",
       "</style>\n",
       "<table border=\"1\" class=\"dataframe\">\n",
       "  <thead>\n",
       "    <tr style=\"text-align: right;\">\n",
       "      <th></th>\n",
       "      <th>name</th>\n",
       "      <th>platform</th>\n",
       "      <th>year_of_release</th>\n",
       "      <th>genre</th>\n",
       "      <th>na_sales</th>\n",
       "      <th>eu_sales</th>\n",
       "      <th>jp_sales</th>\n",
       "      <th>other_sales</th>\n",
       "      <th>critic_score</th>\n",
       "      <th>user_score</th>\n",
       "      <th>rating</th>\n",
       "      <th>total_sales</th>\n",
       "    </tr>\n",
       "  </thead>\n",
       "  <tbody>\n",
       "    <tr>\n",
       "      <th>16</th>\n",
       "      <td>Grand Theft Auto V</td>\n",
       "      <td>PS3</td>\n",
       "      <td>2013</td>\n",
       "      <td>Action</td>\n",
       "      <td>7.02</td>\n",
       "      <td>9.09</td>\n",
       "      <td>0.98</td>\n",
       "      <td>3.96</td>\n",
       "      <td>97.0</td>\n",
       "      <td>8.2</td>\n",
       "      <td>M</td>\n",
       "      <td>21.05</td>\n",
       "    </tr>\n",
       "    <tr>\n",
       "      <th>23</th>\n",
       "      <td>Grand Theft Auto V</td>\n",
       "      <td>X360</td>\n",
       "      <td>2013</td>\n",
       "      <td>Action</td>\n",
       "      <td>9.66</td>\n",
       "      <td>5.14</td>\n",
       "      <td>0.06</td>\n",
       "      <td>1.41</td>\n",
       "      <td>97.0</td>\n",
       "      <td>8.1</td>\n",
       "      <td>M</td>\n",
       "      <td>16.27</td>\n",
       "    </tr>\n",
       "    <tr>\n",
       "      <th>31</th>\n",
       "      <td>Call of Duty: Black Ops 3</td>\n",
       "      <td>PS4</td>\n",
       "      <td>2015</td>\n",
       "      <td>Shooter</td>\n",
       "      <td>6.03</td>\n",
       "      <td>5.86</td>\n",
       "      <td>0.36</td>\n",
       "      <td>2.38</td>\n",
       "      <td>NaN</td>\n",
       "      <td>NaN</td>\n",
       "      <td>unknown</td>\n",
       "      <td>14.63</td>\n",
       "    </tr>\n",
       "    <tr>\n",
       "      <th>33</th>\n",
       "      <td>Pokemon X/Pokemon Y</td>\n",
       "      <td>3DS</td>\n",
       "      <td>2013</td>\n",
       "      <td>Role-Playing</td>\n",
       "      <td>5.28</td>\n",
       "      <td>4.19</td>\n",
       "      <td>4.35</td>\n",
       "      <td>0.78</td>\n",
       "      <td>NaN</td>\n",
       "      <td>NaN</td>\n",
       "      <td>unknown</td>\n",
       "      <td>14.60</td>\n",
       "    </tr>\n",
       "    <tr>\n",
       "      <th>42</th>\n",
       "      <td>Grand Theft Auto V</td>\n",
       "      <td>PS4</td>\n",
       "      <td>2014</td>\n",
       "      <td>Action</td>\n",
       "      <td>3.96</td>\n",
       "      <td>6.31</td>\n",
       "      <td>0.38</td>\n",
       "      <td>1.97</td>\n",
       "      <td>97.0</td>\n",
       "      <td>8.3</td>\n",
       "      <td>M</td>\n",
       "      <td>12.62</td>\n",
       "    </tr>\n",
       "    <tr>\n",
       "      <th>...</th>\n",
       "      <td>...</td>\n",
       "      <td>...</td>\n",
       "      <td>...</td>\n",
       "      <td>...</td>\n",
       "      <td>...</td>\n",
       "      <td>...</td>\n",
       "      <td>...</td>\n",
       "      <td>...</td>\n",
       "      <td>...</td>\n",
       "      <td>...</td>\n",
       "      <td>...</td>\n",
       "      <td>...</td>\n",
       "    </tr>\n",
       "    <tr>\n",
       "      <th>16555</th>\n",
       "      <td>Strawberry Nauts</td>\n",
       "      <td>PSV</td>\n",
       "      <td>2016</td>\n",
       "      <td>Adventure</td>\n",
       "      <td>0.00</td>\n",
       "      <td>0.00</td>\n",
       "      <td>0.01</td>\n",
       "      <td>0.00</td>\n",
       "      <td>NaN</td>\n",
       "      <td>NaN</td>\n",
       "      <td>unknown</td>\n",
       "      <td>0.01</td>\n",
       "    </tr>\n",
       "    <tr>\n",
       "      <th>16559</th>\n",
       "      <td>Aiyoku no Eustia</td>\n",
       "      <td>PSV</td>\n",
       "      <td>2014</td>\n",
       "      <td>Misc</td>\n",
       "      <td>0.00</td>\n",
       "      <td>0.00</td>\n",
       "      <td>0.01</td>\n",
       "      <td>0.00</td>\n",
       "      <td>NaN</td>\n",
       "      <td>NaN</td>\n",
       "      <td>unknown</td>\n",
       "      <td>0.01</td>\n",
       "    </tr>\n",
       "    <tr>\n",
       "      <th>16562</th>\n",
       "      <td>Samurai Warriors: Sanada Maru</td>\n",
       "      <td>PS3</td>\n",
       "      <td>2016</td>\n",
       "      <td>Action</td>\n",
       "      <td>0.00</td>\n",
       "      <td>0.00</td>\n",
       "      <td>0.01</td>\n",
       "      <td>0.00</td>\n",
       "      <td>NaN</td>\n",
       "      <td>NaN</td>\n",
       "      <td>unknown</td>\n",
       "      <td>0.01</td>\n",
       "    </tr>\n",
       "    <tr>\n",
       "      <th>16564</th>\n",
       "      <td>Haitaka no Psychedelica</td>\n",
       "      <td>PSV</td>\n",
       "      <td>2016</td>\n",
       "      <td>Adventure</td>\n",
       "      <td>0.00</td>\n",
       "      <td>0.00</td>\n",
       "      <td>0.01</td>\n",
       "      <td>0.00</td>\n",
       "      <td>NaN</td>\n",
       "      <td>NaN</td>\n",
       "      <td>unknown</td>\n",
       "      <td>0.01</td>\n",
       "    </tr>\n",
       "    <tr>\n",
       "      <th>16566</th>\n",
       "      <td>Winning Post 8 2016</td>\n",
       "      <td>PSV</td>\n",
       "      <td>2016</td>\n",
       "      <td>Simulation</td>\n",
       "      <td>0.00</td>\n",
       "      <td>0.00</td>\n",
       "      <td>0.01</td>\n",
       "      <td>0.00</td>\n",
       "      <td>NaN</td>\n",
       "      <td>NaN</td>\n",
       "      <td>unknown</td>\n",
       "      <td>0.01</td>\n",
       "    </tr>\n",
       "  </tbody>\n",
       "</table>\n",
       "<p>2237 rows × 12 columns</p>\n",
       "</div>"
      ],
      "text/plain": [
       "                                name platform  year_of_release         genre  \\\n",
       "16                Grand Theft Auto V      PS3             2013        Action   \n",
       "23                Grand Theft Auto V     X360             2013        Action   \n",
       "31         Call of Duty: Black Ops 3      PS4             2015       Shooter   \n",
       "33               Pokemon X/Pokemon Y      3DS             2013  Role-Playing   \n",
       "42                Grand Theft Auto V      PS4             2014        Action   \n",
       "...                              ...      ...              ...           ...   \n",
       "16555               Strawberry Nauts      PSV             2016     Adventure   \n",
       "16559               Aiyoku no Eustia      PSV             2014          Misc   \n",
       "16562  Samurai Warriors: Sanada Maru      PS3             2016        Action   \n",
       "16564        Haitaka no Psychedelica      PSV             2016     Adventure   \n",
       "16566            Winning Post 8 2016      PSV             2016    Simulation   \n",
       "\n",
       "       na_sales  eu_sales  jp_sales  other_sales  critic_score  user_score  \\\n",
       "16         7.02      9.09      0.98         3.96          97.0         8.2   \n",
       "23         9.66      5.14      0.06         1.41          97.0         8.1   \n",
       "31         6.03      5.86      0.36         2.38           NaN         NaN   \n",
       "33         5.28      4.19      4.35         0.78           NaN         NaN   \n",
       "42         3.96      6.31      0.38         1.97          97.0         8.3   \n",
       "...         ...       ...       ...          ...           ...         ...   \n",
       "16555      0.00      0.00      0.01         0.00           NaN         NaN   \n",
       "16559      0.00      0.00      0.01         0.00           NaN         NaN   \n",
       "16562      0.00      0.00      0.01         0.00           NaN         NaN   \n",
       "16564      0.00      0.00      0.01         0.00           NaN         NaN   \n",
       "16566      0.00      0.00      0.01         0.00           NaN         NaN   \n",
       "\n",
       "        rating  total_sales  \n",
       "16           M        21.05  \n",
       "23           M        16.27  \n",
       "31     unknown        14.63  \n",
       "33     unknown        14.60  \n",
       "42           M        12.62  \n",
       "...        ...          ...  \n",
       "16555  unknown         0.01  \n",
       "16559  unknown         0.01  \n",
       "16562  unknown         0.01  \n",
       "16564  unknown         0.01  \n",
       "16566  unknown         0.01  \n",
       "\n",
       "[2237 rows x 12 columns]"
      ]
     },
     "execution_count": 28,
     "metadata": {},
     "output_type": "execute_result"
    }
   ],
   "source": [
    "data_filtered=data[data['year_of_release'] >= 2013]\n",
    "data_filtered"
   ]
  },
  {
   "cell_type": "markdown",
   "metadata": {
    "id": "fDtwwlyID60p"
   },
   "source": [
    "### **Plataformas potencialmente rentables**"
   ]
  },
  {
   "cell_type": "markdown",
   "metadata": {
    "id": "I5skySJSEGTZ"
   },
   "source": [
    "¿Qué plataformas son líderes en ventas? ¿Cuáles crecen y cuáles se reducen?"
   ]
  },
  {
   "cell_type": "code",
   "execution_count": 29,
   "metadata": {
    "colab": {
     "base_uri": "https://localhost:8080/",
     "height": 394
    },
    "id": "bvaihAA-ESi9",
    "outputId": "51d65029-0fc9-42f3-f706-cd701d1aec3a"
   },
   "outputs": [
    {
     "data": {
      "text/html": [
       "<div>\n",
       "<style scoped>\n",
       "    .dataframe tbody tr th:only-of-type {\n",
       "        vertical-align: middle;\n",
       "    }\n",
       "\n",
       "    .dataframe tbody tr th {\n",
       "        vertical-align: top;\n",
       "    }\n",
       "\n",
       "    .dataframe thead th {\n",
       "        text-align: right;\n",
       "    }\n",
       "</style>\n",
       "<table border=\"1\" class=\"dataframe\">\n",
       "  <thead>\n",
       "    <tr style=\"text-align: right;\">\n",
       "      <th></th>\n",
       "      <th>platform</th>\n",
       "      <th>total_sales</th>\n",
       "    </tr>\n",
       "  </thead>\n",
       "  <tbody>\n",
       "    <tr>\n",
       "      <th>0</th>\n",
       "      <td>DS</td>\n",
       "      <td>1.54</td>\n",
       "    </tr>\n",
       "    <tr>\n",
       "      <th>1</th>\n",
       "      <td>PSP</td>\n",
       "      <td>3.74</td>\n",
       "    </tr>\n",
       "    <tr>\n",
       "      <th>2</th>\n",
       "      <td>Wii</td>\n",
       "      <td>13.66</td>\n",
       "    </tr>\n",
       "    <tr>\n",
       "      <th>3</th>\n",
       "      <td>PSV</td>\n",
       "      <td>32.99</td>\n",
       "    </tr>\n",
       "    <tr>\n",
       "      <th>4</th>\n",
       "      <td>PC</td>\n",
       "      <td>40.06</td>\n",
       "    </tr>\n",
       "    <tr>\n",
       "      <th>5</th>\n",
       "      <td>WiiU</td>\n",
       "      <td>64.63</td>\n",
       "    </tr>\n",
       "    <tr>\n",
       "      <th>6</th>\n",
       "      <td>X360</td>\n",
       "      <td>136.80</td>\n",
       "    </tr>\n",
       "    <tr>\n",
       "      <th>7</th>\n",
       "      <td>3DS</td>\n",
       "      <td>143.25</td>\n",
       "    </tr>\n",
       "    <tr>\n",
       "      <th>8</th>\n",
       "      <td>XOne</td>\n",
       "      <td>159.32</td>\n",
       "    </tr>\n",
       "    <tr>\n",
       "      <th>9</th>\n",
       "      <td>PS3</td>\n",
       "      <td>181.43</td>\n",
       "    </tr>\n",
       "    <tr>\n",
       "      <th>10</th>\n",
       "      <td>PS4</td>\n",
       "      <td>314.14</td>\n",
       "    </tr>\n",
       "  </tbody>\n",
       "</table>\n",
       "</div>"
      ],
      "text/plain": [
       "   platform  total_sales\n",
       "0        DS         1.54\n",
       "1       PSP         3.74\n",
       "2       Wii        13.66\n",
       "3       PSV        32.99\n",
       "4        PC        40.06\n",
       "5      WiiU        64.63\n",
       "6      X360       136.80\n",
       "7       3DS       143.25\n",
       "8      XOne       159.32\n",
       "9       PS3       181.43\n",
       "10      PS4       314.14"
      ]
     },
     "execution_count": 29,
     "metadata": {},
     "output_type": "execute_result"
    }
   ],
   "source": [
    "#Agrupamos nuestro df filtrado por plataforma y ordenamos por ventas totales\n",
    "data_filtered[['platform','total_sales']].groupby(['platform']).sum().sort_values(by='total_sales').reset_index()"
   ]
  },
  {
   "cell_type": "markdown",
   "metadata": {
    "id": "23kB5p9oEj5R"
   },
   "source": [
    "Podemos ver que la plataforma más rentable desde el 2013 es la `PS4`, seguido de la `PS3` y `XOne`."
   ]
  },
  {
   "cell_type": "code",
   "execution_count": 30,
   "metadata": {
    "colab": {
     "base_uri": "https://localhost:8080/",
     "height": 335
    },
    "id": "08F0Zb6EFKJN",
    "outputId": "3b1c0fc5-5e8a-4611-f456-21ed503ecf57"
   },
   "outputs": [
    {
     "data": {
      "image/png": "[encoded data removed]",
      "text/plain": [
       "<Figure size 1296x360 with 1 Axes>"
      ]
     },
     "metadata": {
      "needs_background": "light"
     },
     "output_type": "display_data"
    }
   ],
   "source": [
    "#Separando los datos de cada consola, usaremos el df sin filtrar para\n",
    "#tener el contexto completo\n",
    "plat_data = data[(data['platform']=='XOne') | (data['platform']=='PS3') | (data['platform']=='PS4')]\n",
    "\n",
    "#Graficando las ventas por año de cada plataforma potencialmente rentable\n",
    "\n",
    "fig, pprofit = plt.subplots(figsize=(18, 5))\n",
    "sns.countplot(data=plat_data,x='year_of_release', hue='platform')\n",
    "plt.show()"
   ]
  },
  {
   "cell_type": "markdown",
   "metadata": {
    "id": "fjbJGdYxF6T5"
   },
   "source": [
    "Podemos ver en el grafico que el tope de ventas de la `PS3` ya pasó y sus ventas están decayendo para el 2013, mientras que la `XOne` y la `PS4` van a la subida. La `PS4` tiene más ventas que la `XOne` pero ambas muestran ser potencialmente rentables para el 2017."
   ]
  },
  {
   "cell_type": "markdown",
   "metadata": {
    "id": "3RBRoXLvHMES"
   },
   "source": [
    "### **Ventas por plataforma del perdiodo relevante**"
   ]
  },
  {
   "cell_type": "code",
   "execution_count": 31,
   "metadata": {
    "colab": {
     "base_uri": "https://localhost:8080/",
     "height": 651
    },
    "id": "6QTVVwsyHkPL",
    "outputId": "ce3e4462-79ef-4e88-c529-3ae6edf4f0c3"
   },
   "outputs": [
    {
     "data": {
      "image/png": "[encoded data removed]",
      "text/plain": [
       "<Figure size 1296x360 with 1 Axes>"
      ]
     },
     "metadata": {
      "needs_background": "light"
     },
     "output_type": "display_data"
    },
    {
     "data": {
      "image/png": "[encoded data removed]",
      "text/plain": [
       "<Figure size 1296x360 with 1 Axes>"
      ]
     },
     "metadata": {
      "needs_background": "light"
     },
     "output_type": "display_data"
    }
   ],
   "source": [
    "#Realizando un diagrama de caja de las ventas globales desglozado por plataforma\n",
    "#Incluyendo marcadores de valores atipicos que sobrepasan los bigotes\n",
    "fig, axes = plt.subplots(figsize=(18, 5))\n",
    "ax=sns.boxplot(x='platform', y='total_sales', data=data_filtered)\n",
    "plt.show()\n",
    "#Excluyendo marcadores de valores atipicos que sobrepasan los bigotes para mejor visibilidad\n",
    "fig, axes = plt.subplots(figsize=(18, 5))\n",
    "ax=sns.boxplot(x='platform', y='total_sales', data=data_filtered,showfliers = False)\n",
    "plt.show()"
   ]
  },
  {
   "cell_type": "markdown",
   "metadata": {
    "id": "Zz-iNqnTJRkZ"
   },
   "source": [
    "Vemos que la plataforma con mayores ventas totales promedio es la `X360` la cuál sabemos que es una plataforma que está decayendo y para la cuál ya paso su tope de ventas alrededor del 2010. La `Wii` muestra limites altos pero un promedio relativamente bajo, esto por que tuvo un tope de ventas muy alto y luego un abaja continua que pudimos ver anteriormente.De las plataformas que más nos interesan son la `PS4` y `XOne` que parecen tener limites y valores atípicos relativamente promedio entre plataformas exitosas.\n",
    "\n",
    "En general, la diferencia en las ventas es significativa y las únicas plataformas rentables que se presentan en el gráfico de caja son `X360`, `PS4`, `XOne` y `Wii`.\n",
    "\n",
    "La `PS4` y `XOne`, se asemejan entre sí en valores de cuartiles, aunque el valor promedio de `XOne` es más alto que el promedio de `PS4`, el rango de cuartiles de `PS4` es un poco más grande que `XOne` y los valores atipicos de la `PS4` se extienden un poco más."
   ]
  },
  {
   "cell_type": "markdown",
   "metadata": {
    "id": "R4QKn5jUPJXU"
   },
   "source": [
    "### **Correlación entre reseñas y ventas**"
   ]
  },
  {
   "cell_type": "markdown",
   "metadata": {
    "id": "LhpROYFcQJ4i"
   },
   "source": [
    "Analicemos como las opiniones de profesionales y usuarios afectan a las ventas de nuestras plataformas potencialmente relevantes: `PS4` y `XOne`. Para ello realizaremos un DataFrame que muestre la correlación de los datos y lo presentaremos en un grafico de dispersión."
   ]
  },
  {
   "cell_type": "code",
   "execution_count": 32,
   "metadata": {
    "colab": {
     "base_uri": "https://localhost:8080/",
     "height": 424
    },
    "id": "tgtHdtrGQwwc",
    "outputId": "df9c834c-f5ae-424f-e449-eea87ef7aa76"
   },
   "outputs": [
    {
     "data": {
      "text/html": [
       "<div>\n",
       "<style scoped>\n",
       "    .dataframe tbody tr th:only-of-type {\n",
       "        vertical-align: middle;\n",
       "    }\n",
       "\n",
       "    .dataframe tbody tr th {\n",
       "        vertical-align: top;\n",
       "    }\n",
       "\n",
       "    .dataframe thead th {\n",
       "        text-align: right;\n",
       "    }\n",
       "</style>\n",
       "<table border=\"1\" class=\"dataframe\">\n",
       "  <thead>\n",
       "    <tr style=\"text-align: right;\">\n",
       "      <th></th>\n",
       "      <th>total_sales</th>\n",
       "      <th>critic_score</th>\n",
       "      <th>user_score</th>\n",
       "    </tr>\n",
       "  </thead>\n",
       "  <tbody>\n",
       "    <tr>\n",
       "      <th>31</th>\n",
       "      <td>14.63</td>\n",
       "      <td>NaN</td>\n",
       "      <td>NaN</td>\n",
       "    </tr>\n",
       "    <tr>\n",
       "      <th>42</th>\n",
       "      <td>12.62</td>\n",
       "      <td>97.0</td>\n",
       "      <td>8.3</td>\n",
       "    </tr>\n",
       "    <tr>\n",
       "      <th>77</th>\n",
       "      <td>8.58</td>\n",
       "      <td>82.0</td>\n",
       "      <td>4.3</td>\n",
       "    </tr>\n",
       "    <tr>\n",
       "      <th>87</th>\n",
       "      <td>7.98</td>\n",
       "      <td>NaN</td>\n",
       "      <td>NaN</td>\n",
       "    </tr>\n",
       "    <tr>\n",
       "      <th>92</th>\n",
       "      <td>7.66</td>\n",
       "      <td>83.0</td>\n",
       "      <td>5.7</td>\n",
       "    </tr>\n",
       "    <tr>\n",
       "      <th>...</th>\n",
       "      <td>...</td>\n",
       "      <td>...</td>\n",
       "      <td>...</td>\n",
       "    </tr>\n",
       "    <tr>\n",
       "      <th>16353</th>\n",
       "      <td>0.01</td>\n",
       "      <td>69.0</td>\n",
       "      <td>7.5</td>\n",
       "    </tr>\n",
       "    <tr>\n",
       "      <th>16356</th>\n",
       "      <td>0.01</td>\n",
       "      <td>NaN</td>\n",
       "      <td>NaN</td>\n",
       "    </tr>\n",
       "    <tr>\n",
       "      <th>16378</th>\n",
       "      <td>0.01</td>\n",
       "      <td>61.0</td>\n",
       "      <td>7.9</td>\n",
       "    </tr>\n",
       "    <tr>\n",
       "      <th>16382</th>\n",
       "      <td>0.01</td>\n",
       "      <td>51.0</td>\n",
       "      <td>5.5</td>\n",
       "    </tr>\n",
       "    <tr>\n",
       "      <th>16437</th>\n",
       "      <td>0.01</td>\n",
       "      <td>NaN</td>\n",
       "      <td>NaN</td>\n",
       "    </tr>\n",
       "  </tbody>\n",
       "</table>\n",
       "<p>392 rows × 3 columns</p>\n",
       "</div>"
      ],
      "text/plain": [
       "       total_sales  critic_score  user_score\n",
       "31           14.63           NaN         NaN\n",
       "42           12.62          97.0         8.3\n",
       "77            8.58          82.0         4.3\n",
       "87            7.98           NaN         NaN\n",
       "92            7.66          83.0         5.7\n",
       "...            ...           ...         ...\n",
       "16353         0.01          69.0         7.5\n",
       "16356         0.01           NaN         NaN\n",
       "16378         0.01          61.0         7.9\n",
       "16382         0.01          51.0         5.5\n",
       "16437         0.01           NaN         NaN\n",
       "\n",
       "[392 rows x 3 columns]"
      ]
     },
     "execution_count": 32,
     "metadata": {},
     "output_type": "execute_result"
    }
   ],
   "source": [
    "#Separando los datos relevantes para XOne y PS4\n",
    "xone_data_2013 =  data_filtered[data_filtered['platform']=='XOne']\n",
    "ps4_data_2013 =  data_filtered[data_filtered['platform']=='PS4']\n",
    "#Separando los datos a comparar\n",
    "ps4_scatter = ps4_data_2013[['total_sales','critic_score','user_score']]\n",
    "xone_scatter =  xone_data_2013[['total_sales','critic_score','user_score']]\n",
    "ps4_scatter"
   ]
  },
  {
   "cell_type": "code",
   "execution_count": 33,
   "metadata": {
    "colab": {
     "base_uri": "https://localhost:8080/",
     "height": 550
    },
    "id": "EmQPhbsIRbrL",
    "outputId": "85c35fa8-fd6b-45ef-f372-25275c69635b"
   },
   "outputs": [
    {
     "data": {
      "image/png": "[encoded data removed]",
      "text/plain": [
       "<Figure size 540x540 with 12 Axes>"
      ]
     },
     "metadata": {
      "needs_background": "light"
     },
     "output_type": "display_data"
    }
   ],
   "source": [
    "#Generando grafico de dispersión para PS4\n",
    "sns.pairplot(ps4_scatter)\n",
    "plt.show()"
   ]
  },
  {
   "cell_type": "code",
   "execution_count": 34,
   "metadata": {
    "colab": {
     "base_uri": "https://localhost:8080/",
     "height": 143
    },
    "id": "F95OaFUkSM6m",
    "outputId": "4cd29494-67f2-41ca-c2a7-376819045442"
   },
   "outputs": [
    {
     "data": {
      "text/html": [
       "<div>\n",
       "<style scoped>\n",
       "    .dataframe tbody tr th:only-of-type {\n",
       "        vertical-align: middle;\n",
       "    }\n",
       "\n",
       "    .dataframe tbody tr th {\n",
       "        vertical-align: top;\n",
       "    }\n",
       "\n",
       "    .dataframe thead th {\n",
       "        text-align: right;\n",
       "    }\n",
       "</style>\n",
       "<table border=\"1\" class=\"dataframe\">\n",
       "  <thead>\n",
       "    <tr style=\"text-align: right;\">\n",
       "      <th></th>\n",
       "      <th>total_sales</th>\n",
       "      <th>critic_score</th>\n",
       "      <th>user_score</th>\n",
       "    </tr>\n",
       "  </thead>\n",
       "  <tbody>\n",
       "    <tr>\n",
       "      <th>total_sales</th>\n",
       "      <td>1.000000</td>\n",
       "      <td>0.406568</td>\n",
       "      <td>-0.031957</td>\n",
       "    </tr>\n",
       "    <tr>\n",
       "      <th>critic_score</th>\n",
       "      <td>0.406568</td>\n",
       "      <td>1.000000</td>\n",
       "      <td>0.557654</td>\n",
       "    </tr>\n",
       "    <tr>\n",
       "      <th>user_score</th>\n",
       "      <td>-0.031957</td>\n",
       "      <td>0.557654</td>\n",
       "      <td>1.000000</td>\n",
       "    </tr>\n",
       "  </tbody>\n",
       "</table>\n",
       "</div>"
      ],
      "text/plain": [
       "              total_sales  critic_score  user_score\n",
       "total_sales      1.000000      0.406568   -0.031957\n",
       "critic_score     0.406568      1.000000    0.557654\n",
       "user_score      -0.031957      0.557654    1.000000"
      ]
     },
     "execution_count": 34,
     "metadata": {},
     "output_type": "execute_result"
    }
   ],
   "source": [
    "#Calculando coeficiente de correalción de las columnas para PS4\n",
    "ps4_scatter.corr()"
   ]
  },
  {
   "cell_type": "code",
   "execution_count": 35,
   "metadata": {
    "colab": {
     "base_uri": "https://localhost:8080/",
     "height": 548
    },
    "id": "B7DFccACSdNk",
    "outputId": "b77b5e81-efb8-431a-ab90-ef5715f9bc7a"
   },
   "outputs": [
    {
     "data": {
      "image/png": "[encoded data removed]",
      "text/plain": [
       "<Figure size 540x540 with 12 Axes>"
      ]
     },
     "metadata": {},
     "output_type": "display_data"
    }
   ],
   "source": [
    "#Generando grafico de dispersión para XOne\n",
    "sns.set_theme(style=\"ticks\")\n",
    "sns.pairplot(xone_scatter)\n",
    "plt.show()"
   ]
  },
  {
   "cell_type": "code",
   "execution_count": 36,
   "metadata": {
    "colab": {
     "base_uri": "https://localhost:8080/",
     "height": 143
    },
    "id": "6wQ9DnjpS8Tn",
    "outputId": "758cbe74-4cd0-4c28-a91c-3427f7421502"
   },
   "outputs": [
    {
     "data": {
      "text/html": [
       "<div>\n",
       "<style scoped>\n",
       "    .dataframe tbody tr th:only-of-type {\n",
       "        vertical-align: middle;\n",
       "    }\n",
       "\n",
       "    .dataframe tbody tr th {\n",
       "        vertical-align: top;\n",
       "    }\n",
       "\n",
       "    .dataframe thead th {\n",
       "        text-align: right;\n",
       "    }\n",
       "</style>\n",
       "<table border=\"1\" class=\"dataframe\">\n",
       "  <thead>\n",
       "    <tr style=\"text-align: right;\">\n",
       "      <th></th>\n",
       "      <th>total_sales</th>\n",
       "      <th>critic_score</th>\n",
       "      <th>user_score</th>\n",
       "    </tr>\n",
       "  </thead>\n",
       "  <tbody>\n",
       "    <tr>\n",
       "      <th>total_sales</th>\n",
       "      <td>1.000000</td>\n",
       "      <td>0.416998</td>\n",
       "      <td>-0.068925</td>\n",
       "    </tr>\n",
       "    <tr>\n",
       "      <th>critic_score</th>\n",
       "      <td>0.416998</td>\n",
       "      <td>1.000000</td>\n",
       "      <td>0.472462</td>\n",
       "    </tr>\n",
       "    <tr>\n",
       "      <th>user_score</th>\n",
       "      <td>-0.068925</td>\n",
       "      <td>0.472462</td>\n",
       "      <td>1.000000</td>\n",
       "    </tr>\n",
       "  </tbody>\n",
       "</table>\n",
       "</div>"
      ],
      "text/plain": [
       "              total_sales  critic_score  user_score\n",
       "total_sales      1.000000      0.416998   -0.068925\n",
       "critic_score     0.416998      1.000000    0.472462\n",
       "user_score      -0.068925      0.472462    1.000000"
      ]
     },
     "execution_count": 36,
     "metadata": {},
     "output_type": "execute_result"
    }
   ],
   "source": [
    "#Calculando coeficiente de correalción de las columnas para XOne\n",
    "xone_scatter.corr()"
   ]
  },
  {
   "cell_type": "markdown",
   "metadata": {
    "id": "FsR0VG-HTEtV"
   },
   "source": [
    "Los resultados para ambas consolas es bastante similar, en ambos casos existe correlación entre `total_sales`y `critic_score`, lo que sugiere que las criticas profesionales tienen un efecto sobre las ventas totales de juegos para las plataformas que seleccionamos. Por otro lado, sorprendentemente las reseñas de usuarios no tienen ninguna correlación con las ventas totales, al parecer los usuarios de estas plataformas no se fian de las evaluaciones de usuarios."
   ]
  },
  {
   "cell_type": "markdown",
   "metadata": {
    "id": "9WJ4U3epWCI_"
   },
   "source": [
    "### **Comparacion vs otras plataformas**"
   ]
  },
  {
   "cell_type": "markdown",
   "metadata": {
    "id": "b7u-aq0OXgzO"
   },
   "source": [
    "Comparemos los datos obtenidos para las plataformas potencialmente relevantes con otra plataforma que haya sido exitosa, en este caso seleccionamos la `X360`."
   ]
  },
  {
   "cell_type": "code",
   "execution_count": 37,
   "metadata": {
    "colab": {
     "base_uri": "https://localhost:8080/",
     "height": 548
    },
    "id": "sKXxkOs6YCf1",
    "outputId": "5e83f804-1844-455a-92db-3fa4237117bc"
   },
   "outputs": [
    {
     "data": {
      "image/png": "[encoded data removed]",
      "text/plain": [
       "<Figure size 540x540 with 12 Axes>"
      ]
     },
     "metadata": {},
     "output_type": "display_data"
    }
   ],
   "source": [
    "#Separando los datos relevantes para la X360\n",
    "x360_data_2013 =  data_filtered[data_filtered['platform']=='X360']\n",
    "#Separando los datos a comparar\n",
    "x360_scatter = x360_data_2013[['total_sales','critic_score','user_score']]\n",
    "#Generando grafico de disperción\n",
    "sns.pairplot(x360_scatter)\n",
    "plt.show()"
   ]
  },
  {
   "cell_type": "code",
   "execution_count": 38,
   "metadata": {
    "colab": {
     "base_uri": "https://localhost:8080/",
     "height": 143
    },
    "id": "9Zbrp8clYlM-",
    "outputId": "487af249-1fb0-4570-c547-10209b426070"
   },
   "outputs": [
    {
     "data": {
      "text/html": [
       "<div>\n",
       "<style scoped>\n",
       "    .dataframe tbody tr th:only-of-type {\n",
       "        vertical-align: middle;\n",
       "    }\n",
       "\n",
       "    .dataframe tbody tr th {\n",
       "        vertical-align: top;\n",
       "    }\n",
       "\n",
       "    .dataframe thead th {\n",
       "        text-align: right;\n",
       "    }\n",
       "</style>\n",
       "<table border=\"1\" class=\"dataframe\">\n",
       "  <thead>\n",
       "    <tr style=\"text-align: right;\">\n",
       "      <th></th>\n",
       "      <th>total_sales</th>\n",
       "      <th>critic_score</th>\n",
       "      <th>user_score</th>\n",
       "    </tr>\n",
       "  </thead>\n",
       "  <tbody>\n",
       "    <tr>\n",
       "      <th>total_sales</th>\n",
       "      <td>1.000000</td>\n",
       "      <td>0.350345</td>\n",
       "      <td>-0.011742</td>\n",
       "    </tr>\n",
       "    <tr>\n",
       "      <th>critic_score</th>\n",
       "      <td>0.350345</td>\n",
       "      <td>1.000000</td>\n",
       "      <td>0.520946</td>\n",
       "    </tr>\n",
       "    <tr>\n",
       "      <th>user_score</th>\n",
       "      <td>-0.011742</td>\n",
       "      <td>0.520946</td>\n",
       "      <td>1.000000</td>\n",
       "    </tr>\n",
       "  </tbody>\n",
       "</table>\n",
       "</div>"
      ],
      "text/plain": [
       "              total_sales  critic_score  user_score\n",
       "total_sales      1.000000      0.350345   -0.011742\n",
       "critic_score     0.350345      1.000000    0.520946\n",
       "user_score      -0.011742      0.520946    1.000000"
      ]
     },
     "execution_count": 38,
     "metadata": {},
     "output_type": "execute_result"
    }
   ],
   "source": [
    "#Calculando coeficiente de correalción de las columnas para X360\n",
    "x360_scatter.corr()"
   ]
  },
  {
   "cell_type": "markdown",
   "metadata": {
    "id": "_CaWKy00ZjrD"
   },
   "source": [
    "Podemos ver que para la `X360` también existe una correlación entre las criticas de profesionales y las ventas totales, mientras que la correlacion con las criticas de usuarios no tiene correlación clara."
   ]
  },
  {
   "cell_type": "markdown",
   "metadata": {
    "id": "qK1AVkeQaZOS"
   },
   "source": [
    "### **Distribución de ventas por genero**"
   ]
  },
  {
   "cell_type": "code",
   "execution_count": 39,
   "metadata": {
    "colab": {
     "base_uri": "https://localhost:8080/",
     "height": 426
    },
    "id": "R2emKWpiaipt",
    "outputId": "0b7e4f24-c3b5-496a-f8c2-02586232fb5c"
   },
   "outputs": [
    {
     "data": {
      "text/html": [
       "<div>\n",
       "<style scoped>\n",
       "    .dataframe tbody tr th:only-of-type {\n",
       "        vertical-align: middle;\n",
       "    }\n",
       "\n",
       "    .dataframe tbody tr th {\n",
       "        vertical-align: top;\n",
       "    }\n",
       "\n",
       "    .dataframe thead th {\n",
       "        text-align: right;\n",
       "    }\n",
       "</style>\n",
       "<table border=\"1\" class=\"dataframe\">\n",
       "  <thead>\n",
       "    <tr style=\"text-align: right;\">\n",
       "      <th></th>\n",
       "      <th>genre</th>\n",
       "      <th>name</th>\n",
       "      <th>total_sales</th>\n",
       "      <th>sales_per_game</th>\n",
       "    </tr>\n",
       "  </thead>\n",
       "  <tbody>\n",
       "    <tr>\n",
       "      <th>0</th>\n",
       "      <td>Shooter</td>\n",
       "      <td>187</td>\n",
       "      <td>232.98</td>\n",
       "      <td>1.245882</td>\n",
       "    </tr>\n",
       "    <tr>\n",
       "      <th>1</th>\n",
       "      <td>Sports</td>\n",
       "      <td>214</td>\n",
       "      <td>150.65</td>\n",
       "      <td>0.703972</td>\n",
       "    </tr>\n",
       "    <tr>\n",
       "      <th>2</th>\n",
       "      <td>Platform</td>\n",
       "      <td>74</td>\n",
       "      <td>42.63</td>\n",
       "      <td>0.576081</td>\n",
       "    </tr>\n",
       "    <tr>\n",
       "      <th>3</th>\n",
       "      <td>Role-Playing</td>\n",
       "      <td>292</td>\n",
       "      <td>145.89</td>\n",
       "      <td>0.499623</td>\n",
       "    </tr>\n",
       "    <tr>\n",
       "      <th>4</th>\n",
       "      <td>Racing</td>\n",
       "      <td>85</td>\n",
       "      <td>39.89</td>\n",
       "      <td>0.469294</td>\n",
       "    </tr>\n",
       "    <tr>\n",
       "      <th>5</th>\n",
       "      <td>Fighting</td>\n",
       "      <td>80</td>\n",
       "      <td>35.31</td>\n",
       "      <td>0.441375</td>\n",
       "    </tr>\n",
       "    <tr>\n",
       "      <th>6</th>\n",
       "      <td>Action</td>\n",
       "      <td>769</td>\n",
       "      <td>322.50</td>\n",
       "      <td>0.419376</td>\n",
       "    </tr>\n",
       "    <tr>\n",
       "      <th>7</th>\n",
       "      <td>Misc</td>\n",
       "      <td>156</td>\n",
       "      <td>63.06</td>\n",
       "      <td>0.404231</td>\n",
       "    </tr>\n",
       "    <tr>\n",
       "      <th>8</th>\n",
       "      <td>Simulation</td>\n",
       "      <td>62</td>\n",
       "      <td>21.76</td>\n",
       "      <td>0.350968</td>\n",
       "    </tr>\n",
       "    <tr>\n",
       "      <th>9</th>\n",
       "      <td>Puzzle</td>\n",
       "      <td>17</td>\n",
       "      <td>3.17</td>\n",
       "      <td>0.186471</td>\n",
       "    </tr>\n",
       "    <tr>\n",
       "      <th>10</th>\n",
       "      <td>Strategy</td>\n",
       "      <td>56</td>\n",
       "      <td>10.08</td>\n",
       "      <td>0.180000</td>\n",
       "    </tr>\n",
       "    <tr>\n",
       "      <th>11</th>\n",
       "      <td>Adventure</td>\n",
       "      <td>245</td>\n",
       "      <td>23.64</td>\n",
       "      <td>0.096490</td>\n",
       "    </tr>\n",
       "  </tbody>\n",
       "</table>\n",
       "</div>"
      ],
      "text/plain": [
       "           genre  name  total_sales  sales_per_game\n",
       "0        Shooter   187       232.98        1.245882\n",
       "1         Sports   214       150.65        0.703972\n",
       "2       Platform    74        42.63        0.576081\n",
       "3   Role-Playing   292       145.89        0.499623\n",
       "4         Racing    85        39.89        0.469294\n",
       "5       Fighting    80        35.31        0.441375\n",
       "6         Action   769       322.50        0.419376\n",
       "7           Misc   156        63.06        0.404231\n",
       "8     Simulation    62        21.76        0.350968\n",
       "9         Puzzle    17         3.17        0.186471\n",
       "10      Strategy    56        10.08        0.180000\n",
       "11     Adventure   245        23.64        0.096490"
      ]
     },
     "execution_count": 39,
     "metadata": {},
     "output_type": "execute_result"
    }
   ],
   "source": [
    "#Agrupamos nuestros datos por genero\n",
    "games_by_genre= data_filtered.groupby('genre')[['name', 'total_sales']].agg({'name': 'count', 'total_sales': 'sum'})\n",
    "#Calculando la proporcion de ventas por juego\n",
    "games_by_genre['sales_per_game']= games_by_genre['total_sales']/games_by_genre['name']\n",
    "games_by_genre.sort_values(by='sales_per_game', ascending= False).reset_index()"
   ]
  },
  {
   "cell_type": "code",
   "execution_count": 40,
   "metadata": {
    "colab": {
     "base_uri": "https://localhost:8080/",
     "height": 611
    },
    "id": "ud0oFIGkc3rE",
    "outputId": "2f990a31-1f53-48c5-94f9-7f1c5df8d41e"
   },
   "outputs": [
    {
     "data": {
      "image/png": "[encoded data removed]",
      "text/plain": [
       "<Figure size 1296x720 with 1 Axes>"
      ]
     },
     "metadata": {},
     "output_type": "display_data"
    }
   ],
   "source": [
    "fig, axes = plt.subplots(figsize=(18, 10))\n",
    "ax=sns.boxplot(x='genre', y='total_sales', data=data_filtered)\n",
    "plt.show()"
   ]
  },
  {
   "cell_type": "markdown",
   "metadata": {
    "id": "Tb-e8R1ua_fX"
   },
   "source": [
    "De la tabla y boxplot podemos concluir que el genero más rentable es `Shooter`, ya que tiene una mayor cantidad de ventas por juego por mucha diferencia. Tiene valores atípicos a considerar pero no son una cantidad muy grande como lo es para `Action` que tiene valores atípicos muy altos, que a pesar de ello y la gran cantidad de juegos de ese genero, no es muy rentable. \n",
    "\n",
    "El segundo genero más rentable es `Sports`, seguido de `Platform` del cuál no podemos generalizar ya que tiene una cantidad menor de juegos y sería ideal tener una muestra mayor para decirlo con seguridad."
   ]
  },
  {
   "cell_type": "markdown",
   "metadata": {
    "id": "admRSH5GhCb3"
   },
   "source": [
    "### **Conclusión del análisis**\n",
    "\n",
    "En el análisis exploratorio de datos hemos recopilado una buena cantidad de información sobre nuestros datos. Observamos cuántos juegos se lanzaron a través de los años y parece que en 2008 y 2009 se produjo la mayor cantidad de juegos. Notamos que los datos comenzaron a crecer notablemente en 1994, antes de que hubiera menos de 100 juegos anuales y después de 1994 ese número de juegos que fueron lanzados anualmente comenzó a aumentar y a veces duplicándose cada año. Después de 2008, hubo una tendencia decreciente de lanzamientos de juegos por año que se estabilizó entre 500-600 juegos en los últimos años de 2013 a 2016.\n",
    "\n",
    "En todos los gráficos de nuestras plataformas había una distribución visible de ascenso y descenso gradual en el periodo de 10 años. Por ejemplo, `PS2` solía ser la plataforma más popular a principios de 2000, ya que su distribución parecía ser la más estable a lo largo de los años hasta que alcanzó su maximo de ventas entre 2002 y 2004.\n",
    "\n",
    "En 2005 salió la `X360` y en 2006 la `Wii` y la `PS3`, que empezaron a ganar popularidad. Poco a poco, las ventas de `PS2` comenzaron a bajar y en 2010 las ventas de `X360` estaban disminuyendo e insinuando que había otra plataforma que estaba ganando popularidad, que era la `PS3`. Entonces vimos que la vida útil de nuestras plataformas líderes es de unos 10 años y que alcanzan su punto máximo en términos de beneficios a mediados de su vida útil, unos 5-6 años. \n",
    "\n",
    "Sabíamos que la vida útil media de una plataforma es de 6 años, pero como hemos visto en nuestros datos, las plataformas líderes tardan entre 5 y 6 años en alcanzar su límite de beneficios. Así que filtramos los datos a un año mínimo de 2013 con el fin de centrarnos en cualquier plataforma que estuviera en alza y pudiera ser rentable en 2017.\n",
    "\n",
    "A continuación, excluimos las plataformas que han superado su límite de beneficios para centrarnos únicamente en las plataformas que todavía pueden seguir creciendo en 2017. En general, la diferencia de ventas fue significativa y las únicas plataformas rentables que se presentaron en los datos fueron `X360`, `PS4`, `XOne` y `Wii`.\n",
    "\n",
    "Seleccionamos las plataformas que nos interesan como la `PS4` y `XOne`, que son aquellas con potencial para ser las plataformas éxitosas para el 2017. Vimos que el valor medio de `XOne` fue superior a la media de `PS4`, pero el rango de cuartiles de `PS4` es ligeramente inferior al de `XOne`.\n",
    "\n",
    "Curiosamente, encontramos que existe una correlación entre la puntuación de los críticos y las ventas totales. Lo que sugiere que las críticas profesionales tienen un efecto en las ventas totales de juegos para las plataformas que elegimos, pero las críticas de los usuarios no tenían ninguna correlación clara con las ventas totales, al parecer no es un factor a considerar al momento de comprar un juego de estas plataformas.\n",
    "\n",
    "Tras analizar los datos mediante gráficos de caja que comparan las ventas totales y los géneros, podemos afirmar que el género más popular `Action`, pero sorprendentemente está en el puesto 6 de los juegos más rentables. El genero más rentable con diferenecia fue `Shooter`, seguido de `Sports `ya que obtuvieron los mejores ratios de ventas por juego y una cantidad considerable de juegos de esos tipos.\n",
    "\n",
    "Como conclusión de los datos que hemos observado a través de estos gráficos, sugerimos que los géneros deportivos y de disparos son los que tienen mayor potencial de beneficios entre los géneros, ya que no tienen un elevado número de juegos, pero sí un elevado beneficio.\n"
   ]
  },
  {
   "cell_type": "markdown",
   "metadata": {
    "id": "swLkUTt-PC45"
   },
   "source": [
    "## **Crear un perfil de usuario para cada región**\n",
    "\n",
    "Necesitamos identificar que tipo de perfil tiene cada region, para ello realizaremos:\n",
    "* Para cada región (NA, UE, JP) determinaremos:\n",
    "  * Las cinco plataformas principales. Describir las variaciones en sus cuotas de mercado de una región a otra.\n",
    "  * Los cinco géneros principales. Explica la diferencia.\n",
    "  * Si las clasificaciones de ESRB afectan a las ventas en regiones individuales."
   ]
  },
  {
   "cell_type": "markdown",
   "metadata": {
    "id": "kYekUR9RpmTj"
   },
   "source": [
    "### **Creando un perfil para NA**"
   ]
  },
  {
   "cell_type": "markdown",
   "metadata": {
    "id": "AYHz1NNMprY-"
   },
   "source": [
    "* Cinco plataformas principales en NA"
   ]
  },
  {
   "cell_type": "code",
   "execution_count": 41,
   "metadata": {
    "colab": {
     "base_uri": "https://localhost:8080/",
     "height": 496
    },
    "id": "Fwht5zGQp0LV",
    "outputId": "977a2e7c-f983-449c-aa76-63e3760b0c22"
   },
   "outputs": [
    {
     "name": "stdout",
     "output_type": "stream",
     "text": [
      "          total_sales  na_sales\n",
      "platform                       \n",
      "PS4            314.14    108.74\n",
      "XOne           159.32     93.12\n",
      "X360           136.80     81.66\n",
      "PS3            181.43     63.50\n",
      "3DS            143.25     38.20\n"
     ]
    },
    {
     "data": {
      "text/plain": [
       "<AxesSubplot:ylabel='na_sales'>"
      ]
     },
     "execution_count": 41,
     "metadata": {},
     "output_type": "execute_result"
    },
    {
     "data": {
      "image/png": "[encoded data removed]",
      "text/plain": [
       "<Figure size 576x432 with 1 Axes>"
      ]
     },
     "metadata": {},
     "output_type": "display_data"
    }
   ],
   "source": [
    "#Generando tabla de ventas por plataforma en NA\n",
    "na_platform_profile = data_filtered.groupby(['platform'])['total_sales','na_sales'].sum().sort_values(by='na_sales',ascending=False)\n",
    "na_platform_profile = na_platform_profile.head(5)\n",
    "print(na_platform_profile)\n",
    "#Graficando ventas por plataforma en un grafico de pie\n",
    "na_platform_profile.plot(kind='pie',y='na_sales', shadow = True, figsize=(8,6),autopct='%1.1f%%')"
   ]
  },
  {
   "cell_type": "markdown",
   "metadata": {
    "id": "yvRNNMA7qdZ6"
   },
   "source": [
    "* Cinco generos principales en NA"
   ]
  },
  {
   "cell_type": "code",
   "execution_count": 42,
   "metadata": {
    "colab": {
     "base_uri": "https://localhost:8080/",
     "height": 496
    },
    "id": "2eH3C3qkqbtZ",
    "outputId": "5a782197-d380-4241-8db2-bc3ef980b466"
   },
   "outputs": [
    {
     "name": "stdout",
     "output_type": "stream",
     "text": [
      "              total_sales  na_sales\n",
      "genre                              \n",
      "Action             322.50    126.13\n",
      "Shooter            232.98    109.74\n",
      "Sports             150.65     65.27\n",
      "Role-Playing       145.89     46.40\n",
      "Misc                63.06     27.49\n"
     ]
    },
    {
     "data": {
      "text/plain": [
       "<AxesSubplot:ylabel='na_sales'>"
      ]
     },
     "execution_count": 42,
     "metadata": {},
     "output_type": "execute_result"
    },
    {
     "data": {
      "image/png": "[encoded data removed]",
      "text/plain": [
       "<Figure size 576x432 with 1 Axes>"
      ]
     },
     "metadata": {},
     "output_type": "display_data"
    }
   ],
   "source": [
    "#Generando tabla de ventas por genero en NA\n",
    "na_genre_profile = data_filtered.groupby(['genre'])['total_sales','na_sales'].sum().sort_values(by='na_sales',ascending=False)\n",
    "na_genre_profile = na_genre_profile.head(5)\n",
    "print(na_genre_profile)\n",
    "#Graficando ventas por genero en un grafico de pie\n",
    "na_genre_profile.plot(kind='pie',y='na_sales', shadow = True, figsize=(8,6),autopct='%1.1f%%')"
   ]
  },
  {
   "cell_type": "markdown",
   "metadata": {
    "id": "mg-aId_LrOtu"
   },
   "source": [
    "* Clasificacion ESRB vs ventas en NA."
   ]
  },
  {
   "cell_type": "code",
   "execution_count": 43,
   "metadata": {
    "colab": {
     "base_uri": "https://localhost:8080/",
     "height": 496
    },
    "id": "jFZBPQSXrhvt",
    "outputId": "e9427f8a-ade1-49bf-c256-1cf1241c7aaa"
   },
   "outputs": [
    {
     "name": "stdout",
     "output_type": "stream",
     "text": [
      "         total_sales  na_sales\n",
      "rating                        \n",
      "M             372.31    165.29\n",
      "unknown       277.08     89.42\n",
      "E             200.16     79.05\n",
      "E10+          115.39     54.24\n",
      "T             126.62     49.79\n"
     ]
    },
    {
     "data": {
      "text/plain": [
       "<AxesSubplot:ylabel='na_sales'>"
      ]
     },
     "execution_count": 43,
     "metadata": {},
     "output_type": "execute_result"
    },
    {
     "data": {
      "image/png": "[encoded data removed]",
      "text/plain": [
       "<Figure size 576x432 with 1 Axes>"
      ]
     },
     "metadata": {},
     "output_type": "display_data"
    }
   ],
   "source": [
    "#Generando tabla de ventas por Clasificacion\n",
    "na_rating_profile = data_filtered.groupby(['rating'])['total_sales','na_sales'].sum().sort_values(by='na_sales',ascending=False)\n",
    "print(na_rating_profile)\n",
    "#Graficando ventas por clasificacion en un grafico de pie\n",
    "na_rating_profile.plot(kind='pie',y='na_sales', shadow = True, figsize=(8,6),autopct='%1.1f%%')"
   ]
  },
  {
   "cell_type": "markdown",
   "metadata": {
    "id": "V36BUmIPsNYI"
   },
   "source": [
    "El perfil de la región NA:\n",
    "\n",
    "* La plataforma más popular para este perfil es `PS4`, seguida de `XOne` y `X360`.\n",
    "\n",
    "* La mayoría de las ventas de este perfil corresponden a juegos del género `Action` y `Shooter`.\n",
    "\n",
    "* La clasificación de sus juegos más populares es M."
   ]
  },
  {
   "cell_type": "markdown",
   "metadata": {
    "id": "ll_lT0zRsIsl"
   },
   "source": [
    "\n",
    "\n",
    "---\n",
    "\n"
   ]
  },
  {
   "cell_type": "markdown",
   "metadata": {
    "id": "ogxSwqVFsJiv"
   },
   "source": [
    "### **Creando un perfil para EU**"
   ]
  },
  {
   "cell_type": "markdown",
   "metadata": {
    "id": "k8b82KEctFvk"
   },
   "source": [
    "* Cinco plataformas principales en EU"
   ]
  },
  {
   "cell_type": "code",
   "execution_count": 44,
   "metadata": {
    "colab": {
     "base_uri": "https://localhost:8080/",
     "height": 496
    },
    "id": "jza-wBjOtC0d",
    "outputId": "c311b7c6-2847-40da-83a5-e1dcb1ce3f54"
   },
   "outputs": [
    {
     "name": "stdout",
     "output_type": "stream",
     "text": [
      "          total_sales  eu_sales\n",
      "platform                       \n",
      "PS4            314.14    141.09\n",
      "PS3            181.43     67.81\n",
      "XOne           159.32     51.59\n",
      "X360           136.80     42.52\n",
      "3DS            143.25     30.96\n"
     ]
    },
    {
     "data": {
      "text/plain": [
       "<AxesSubplot:ylabel='eu_sales'>"
      ]
     },
     "execution_count": 44,
     "metadata": {},
     "output_type": "execute_result"
    },
    {
     "data": {
      "image/png": "[encoded data removed]",
      "text/plain": [
       "<Figure size 576x432 with 1 Axes>"
      ]
     },
     "metadata": {},
     "output_type": "display_data"
    }
   ],
   "source": [
    "#Generando tabla de ventas por plataforma en NA\n",
    "eu_platform_profile = data_filtered.groupby(['platform'])['total_sales','eu_sales'].sum().sort_values(by='eu_sales',ascending=False)\n",
    "eu_platform_profile = eu_platform_profile.head(5)\n",
    "print(eu_platform_profile)\n",
    "#Graficando ventas por plataforma en un grafico de pie\n",
    "eu_platform_profile.plot(kind='pie',y='eu_sales', shadow = True, figsize=(8,6),autopct='%1.1f%%')"
   ]
  },
  {
   "cell_type": "markdown",
   "metadata": {
    "id": "wjwOXF8NtpmQ"
   },
   "source": [
    "* Cinco generos principales en EU"
   ]
  },
  {
   "cell_type": "code",
   "execution_count": 45,
   "metadata": {
    "colab": {
     "base_uri": "https://localhost:8080/",
     "height": 496
    },
    "id": "d-HIeooEtrvh",
    "outputId": "87e58084-96c4-410c-88e9-b58ab1ad67c5"
   },
   "outputs": [
    {
     "name": "stdout",
     "output_type": "stream",
     "text": [
      "              total_sales  eu_sales\n",
      "genre                              \n",
      "Action             322.50    118.61\n",
      "Shooter            232.98     87.86\n",
      "Sports             150.65     60.52\n",
      "Role-Playing       145.89     36.97\n",
      "Racing              39.89     20.19\n"
     ]
    },
    {
     "data": {
      "text/plain": [
       "<AxesSubplot:ylabel='eu_sales'>"
      ]
     },
     "execution_count": 45,
     "metadata": {},
     "output_type": "execute_result"
    },
    {
     "data": {
      "image/png": "[encoded data removed]",
      "text/plain": [
       "<Figure size 576x432 with 1 Axes>"
      ]
     },
     "metadata": {},
     "output_type": "display_data"
    }
   ],
   "source": [
    "#Generando tabla de ventas por genero en EU\n",
    "eu_genre_profile = data_filtered.groupby(['genre'])['total_sales','eu_sales'].sum().sort_values(by='eu_sales',ascending=False)\n",
    "eu_genre_profile = eu_genre_profile.head(5)\n",
    "print(eu_genre_profile)\n",
    "#Graficando ventas por genero en un grafico de pie\n",
    "eu_genre_profile.plot(kind='pie',y='eu_sales', shadow = True, figsize=(8,6),autopct='%1.1f%%')"
   ]
  },
  {
   "cell_type": "markdown",
   "metadata": {
    "id": "8-qt_KGvuFzp"
   },
   "source": [
    "* Clasificacion ESRB vs ventas en EU."
   ]
  },
  {
   "cell_type": "code",
   "execution_count": 46,
   "metadata": {
    "colab": {
     "base_uri": "https://localhost:8080/",
     "height": 496
    },
    "id": "duwM4kJWuOEy",
    "outputId": "f80533da-4b9c-4a95-e272-fa1eebbc0166"
   },
   "outputs": [
    {
     "name": "stdout",
     "output_type": "stream",
     "text": [
      "         total_sales  eu_sales\n",
      "rating                        \n",
      "M             372.31    145.80\n",
      "E             200.16     83.36\n",
      "unknown       277.08     78.91\n",
      "E10+          115.39     42.69\n",
      "T             126.62     41.95\n"
     ]
    },
    {
     "data": {
      "text/plain": [
       "<AxesSubplot:ylabel='eu_sales'>"
      ]
     },
     "execution_count": 46,
     "metadata": {},
     "output_type": "execute_result"
    },
    {
     "data": {
      "image/png": "[encoded data removed]",
      "text/plain": [
       "<Figure size 576x432 with 1 Axes>"
      ]
     },
     "metadata": {},
     "output_type": "display_data"
    }
   ],
   "source": [
    "#Generando tabla de ventas por Clasificacion\n",
    "eu_rating_profile = data_filtered.groupby(['rating'])['total_sales','eu_sales'].sum().sort_values(by='eu_sales',ascending=False)\n",
    "print(eu_rating_profile)\n",
    "#Graficando ventas por clasificacion en un grafico de pie\n",
    "eu_rating_profile.plot(kind='pie',y='eu_sales', shadow = True, figsize=(8,6),autopct='%1.1f%%')"
   ]
  },
  {
   "cell_type": "markdown",
   "metadata": {
    "id": "Y0SiOwZBuIrC"
   },
   "source": [
    "El perfil de la región de la EU:\n",
    "\n",
    "*La plataforma más popular para este perfil es `PS4`, seguida de `PS3` y `XOne`.\n",
    "\n",
    "* La mayoría de las ventas de este perfil corresponden a juegos del género `Action` y `Shooter`.\n",
    "\n",
    "* La clasificación de sus juegos más populares es `M`.\n",
    "\n",
    "Los perfiles NA y EU son muy similares en todos los parámetros seleccionados."
   ]
  },
  {
   "cell_type": "markdown",
   "metadata": {
    "id": "tqLqddYeuzrV"
   },
   "source": [
    "\n",
    "\n",
    "---\n",
    "\n"
   ]
  },
  {
   "cell_type": "markdown",
   "metadata": {
    "id": "u1aXcD5Ru1LB"
   },
   "source": [
    "### **Creando un perfil para JP**"
   ]
  },
  {
   "cell_type": "markdown",
   "metadata": {
    "id": "53hyNBB2yUJ3"
   },
   "source": [
    "* Cinco plataformas principales en JP"
   ]
  },
  {
   "cell_type": "code",
   "execution_count": 47,
   "metadata": {
    "colab": {
     "base_uri": "https://localhost:8080/",
     "height": 496
    },
    "id": "DVqUpRBByx2P",
    "outputId": "54b5237d-8734-4d38-aa70-b45a76e0ef3d"
   },
   "outputs": [
    {
     "name": "stdout",
     "output_type": "stream",
     "text": [
      "          total_sales  jp_sales\n",
      "platform                       \n",
      "3DS            143.25     67.81\n",
      "PS3            181.43     23.35\n",
      "PSV             32.99     18.59\n",
      "PS4            314.14     15.96\n",
      "WiiU            64.63     10.88\n"
     ]
    },
    {
     "data": {
      "text/plain": [
       "<AxesSubplot:ylabel='jp_sales'>"
      ]
     },
     "execution_count": 47,
     "metadata": {},
     "output_type": "execute_result"
    },
    {
     "data": {
      "image/png": "[encoded data removed]",
      "text/plain": [
       "<Figure size 576x432 with 1 Axes>"
      ]
     },
     "metadata": {},
     "output_type": "display_data"
    }
   ],
   "source": [
    "#Generando tabla de ventas por plataforma en JP\n",
    "jp_platform_profile = data_filtered.groupby(['platform'])['total_sales','jp_sales'].sum().sort_values(by='jp_sales',ascending=False)\n",
    "jp_platform_profile = jp_platform_profile.head(5)\n",
    "print(jp_platform_profile)\n",
    "#Graficando ventas por plataforma en un grafico de pie\n",
    "jp_platform_profile.plot(kind='pie',y='jp_sales', shadow = True, figsize=(8,6),autopct='%1.1f%%')"
   ]
  },
  {
   "cell_type": "markdown",
   "metadata": {
    "id": "FmOwZLjLzLgu"
   },
   "source": [
    "* Cinco generos principales en JP"
   ]
  },
  {
   "cell_type": "code",
   "execution_count": 48,
   "metadata": {
    "colab": {
     "base_uri": "https://localhost:8080/",
     "height": 496
    },
    "id": "UKbahFvLzXv8",
    "outputId": "650171e6-a26f-46a5-be2d-cf8e8d0b532e"
   },
   "outputs": [
    {
     "name": "stdout",
     "output_type": "stream",
     "text": [
      "              total_sales  jp_sales\n",
      "genre                              \n",
      "Role-Playing       145.89     51.04\n",
      "Action             322.50     40.49\n",
      "Misc                63.06      9.44\n",
      "Fighting            35.31      7.65\n",
      "Shooter            232.98      6.61\n"
     ]
    },
    {
     "data": {
      "text/plain": [
       "<AxesSubplot:ylabel='jp_sales'>"
      ]
     },
     "execution_count": 48,
     "metadata": {},
     "output_type": "execute_result"
    },
    {
     "data": {
      "image/png": "[encoded data removed]",
      "text/plain": [
       "<Figure size 576x432 with 1 Axes>"
      ]
     },
     "metadata": {},
     "output_type": "display_data"
    }
   ],
   "source": [
    "#Generando tabla de ventas por genero en EU\n",
    "jp_genre_profile = data_filtered.groupby(['genre'])['total_sales','jp_sales'].sum().sort_values(by='jp_sales',ascending=False)\n",
    "jp_genre_profile = jp_genre_profile.head(5)\n",
    "print(jp_genre_profile)\n",
    "#Graficando ventas por genero en un grafico de pie\n",
    "jp_genre_profile.plot(kind='pie',y='jp_sales', shadow = True, figsize=(8,6),autopct='%1.1f%%')"
   ]
  },
  {
   "cell_type": "markdown",
   "metadata": {
    "id": "w-CtXfFfzptp"
   },
   "source": [
    "* Clasificacion ESRB vs ventas en JP."
   ]
  },
  {
   "cell_type": "code",
   "execution_count": 49,
   "metadata": {
    "colab": {
     "base_uri": "https://localhost:8080/",
     "height": 496
    },
    "id": "nMMV8OC2zueN",
    "outputId": "04a5dc3b-7da7-4122-b4b8-e49a3a6bdb11"
   },
   "outputs": [
    {
     "name": "stdout",
     "output_type": "stream",
     "text": [
      "         total_sales  jp_sales\n",
      "rating                        \n",
      "unknown       277.08     85.29\n",
      "T             126.62     20.59\n",
      "E             200.16     15.14\n",
      "M             372.31     14.11\n",
      "E10+          115.39      5.89\n"
     ]
    },
    {
     "data": {
      "text/plain": [
       "<AxesSubplot:ylabel='jp_sales'>"
      ]
     },
     "execution_count": 49,
     "metadata": {},
     "output_type": "execute_result"
    },
    {
     "data": {
      "image/png": "[encoded data removed]",
      "text/plain": [
       "<Figure size 576x432 with 1 Axes>"
      ]
     },
     "metadata": {},
     "output_type": "display_data"
    }
   ],
   "source": [
    "#Generando tabla de ventas por Clasificacion\n",
    "jp_rating_profile = data_filtered.groupby(['rating'])['total_sales','jp_sales'].sum().sort_values(by='jp_sales',ascending=False)\n",
    "print(jp_rating_profile)\n",
    "#Graficando ventas por clasificacion en un grafico de pie\n",
    "jp_rating_profile.plot(kind='pie',y='jp_sales', shadow = True, figsize=(8,6),autopct='%1.1f%%')"
   ]
  },
  {
   "cell_type": "markdown",
   "metadata": {
    "id": "G-MH7ZOV0jsT"
   },
   "source": [
    "El perfil de la región JP:\n",
    "\n",
    "* La plataforma más popular para este perfil es la `3DS`, seguida de la `PS3`.\n",
    "\n",
    "* La mayoría de las ventas de este perfil corresponden a `Role-Playing` y `Action`.\n",
    "\n",
    "* Hay un gran número de valores desconocidos en la columna de clasificación que podrían indicar que Japón usa un sistema de clasificación diferente para los juegos.\n",
    "\n",
    "* La clasificación de sus juegos más populares es `T`.\n",
    "\n",
    "* Este perfil es muy diferente de los otros dos. Sin tener en cuenta su menor cuota de ventas, varía en todos los parámetros seleccionados con respecto a los otros perfiles."
   ]
  },
  {
   "cell_type": "markdown",
   "metadata": {
    "id": "9NJMmv8i1FMe"
   },
   "source": [
    "\n",
    "\n",
    "---\n",
    "\n"
   ]
  },
  {
   "cell_type": "markdown",
   "metadata": {
    "id": "2iWFVEjL1F7N"
   },
   "source": [
    "### **Conclusión**\n",
    "\n",
    "En este paso creamos un perfil de usuario para las regiones: NA, UN y JP.\n",
    "\n",
    "Tras comparar los 3 perfiles de usuario en dataframes y graficos de pie llegamos a las conclusiones de que:\n",
    "\n",
    "* Los perfiles NA y UE son similares en las preferencias: Las plataformas `PS4` y `XOne`, de género `Action` y `Shooter` y las clasificaciones ESRB `M`.\n",
    "* El perfil de JP difiere de NA y UE en todo, ya que prefiere la plataforma `3DS`, los juegos `Role-Playing` y para la clasificación `T` de la ESRB.\n",
    "* Japón presenta un número notablemente elevado de valores desconocidos en la columna de género en comparación con las demás regiones, lo que podría sugerir un sistema diferente de clasificación de juegos exclusivo para esta región.\n"
   ]
  },
  {
   "cell_type": "markdown",
   "metadata": {
    "id": "SKz3PWraPJT1"
   },
   "source": [
    "## **Prueba de hipótesis**\n",
    "\n",
    "Se nos presentan dos hipotesis para nuestros datos:\n",
    "\n",
    "1. Las calificaciones promedio de los usuarios para las plataformas Xbox One y PC son las mismas.\n",
    "2. Las calificaciones promedio de los usuarios para los géneros de Acción y Deportes son diferentes.\n",
    "\n",
    "En este punto probaremos ambas hipotesis usando un umbral alfa de 0.05:"
   ]
  },
  {
   "cell_type": "markdown",
   "metadata": {
    "id": "R_6_K1QY3PT_"
   },
   "source": [
    "### **Las calificaciones promedio de los usuarios para las plataformas Xbox One y PC son las mismas.**\n",
    "\n",
    "Comenzaremos separando la data que necesitamos del DataFrame original:"
   ]
  },
  {
   "cell_type": "code",
   "execution_count": 50,
   "metadata": {
    "id": "EpkyhaHe3bZ4"
   },
   "outputs": [],
   "source": [
    "xone = data[(data.platform == 'XOne')  & (data.user_score.notna())]['user_score'].astype(float)\n",
    "pc = data[(data.platform == 'PC')  & (data.user_score.notna())]['user_score'].astype(float)"
   ]
  },
  {
   "cell_type": "markdown",
   "metadata": {
    "id": "T0yxHDKJ3o_i"
   },
   "source": [
    "Antes de comenzar a realizar nuestro procedimiento para validar las calificaciones promedio de los usuarios para las plataformas Xbox One y PC son las mismas, validaremos si la varianza de las calificaciones para ambas plataformas varían, de esta forma podremos aplicar con mayor certeza nuestro t-test. Usaremos una prueba levene con los siguientes parametros:\n",
    "\n",
    "$$H_0: \\text{La varianza de las calificaciones para ambas plataformas no difiere.}$$\n",
    "$$H_1: \\text{La varianza de las calificaciones para ambas plataformas difiere.}$$\n",
    "$$alpha: \\text{5%}$$\n"
   ]
  },
  {
   "cell_type": "code",
   "execution_count": 51,
   "metadata": {
    "colab": {
     "base_uri": "https://localhost:8080/"
    },
    "id": "BfOLLrtH4RP1",
    "outputId": "7e030e6d-b65e-4432-d20b-eded3dcae23f"
   },
   "outputs": [
    {
     "name": "stdout",
     "output_type": "stream",
     "text": [
      "p-value: 0.2839056622829332\n",
      "No rechazamos la hipótesis nula\n"
     ]
    }
   ],
   "source": [
    "#importamos levene\n",
    "from scipy.stats import levene\n",
    "\n",
    "alpha = 0.05 # significación estadística crítica\n",
    "# si el valor p es menor que alfa, rechazamos la hipótesis\n",
    "\n",
    "stat, results= levene(xone, pc)\n",
    "\n",
    "print('p-value:', results)\n",
    "\n",
    "if (results < alpha):\n",
    "        print('Rechazamos la hipótesis nula')\n",
    "else:\n",
    "    print('No rechazamos la hipótesis nula')"
   ]
  },
  {
   "cell_type": "markdown",
   "metadata": {
    "id": "GeRnywHB4rnG"
   },
   "source": [
    "No se rechaza la hipótesis nula , por lo que la varianza de las calificaciones para ambas plataformas no difiere. Procedamos a usar esta información en nuestro t-test:\n",
    "\n",
    "$$H_0: \\text{Las calificaciones promedio de los usuarios para las plataformas Xbox One y PC son las mismas.}$$\n",
    "$$H_1: \\text{Las calificaciones promedio de los usuarios para las plataformas Xbox One y PC no son las mismas}$$\n",
    "$$alpha: \\text{5%}$$\n",
    "$$equal var = \\text{True}$$\n",
    "\n",
    "Empezamos con la hipótesis nula H₀ que es que las calificaciones promedio de los usuarios para las plataformas Xbox One y PC son las mismas. La hipótesis alternativa, H₁ es que las calificaciones promedio de los usuarios de ambas plataformas difieren. Para ello, utilizaremos un alfa de 0,05, lo que significa que sólo en el 5% de los casos rechazaremos la hipótesis nula cuando sea cierta. Sabemos además que la varianza de ambas muestras es igual por lo que el parametro equal_var será igual a True.\n"
   ]
  },
  {
   "cell_type": "code",
   "execution_count": 52,
   "metadata": {
    "colab": {
     "base_uri": "https://localhost:8080/"
    },
    "id": "M1yvu9-f53AF",
    "outputId": "0acb7259-9394-488f-b3ea-313d8e51e3e9"
   },
   "outputs": [
    {
     "name": "stdout",
     "output_type": "stream",
     "text": [
      "p-value: 1.1488002807200714e-05\n",
      "Rechazamos la hipótesis nula\n"
     ]
    }
   ],
   "source": [
    "alpha = 0.05 # significación estadística crítica\n",
    "# si el valor p es menor que alfa, rechazamos la hipótesis\n",
    "\n",
    "results = stats.ttest_ind(xone, pc, equal_var=True)\n",
    "\n",
    "print('p-value:', results.pvalue)\n",
    "\n",
    "if results.pvalue < alpha:\n",
    "    print(\"Rechazamos la hipótesis nula\")\n",
    "else:\n",
    "    print(\"No rechazamos la hipótesis nula\")"
   ]
  },
  {
   "cell_type": "markdown",
   "metadata": {
    "id": "9E_5KECT6lfk"
   },
   "source": [
    "Tras someter nuestra muestra de datos a la prueba con un nivel de significación estadística de 0,05, se ha rechazado nuestra hipótesis sobre la igualdad de los promedios de las muestras pareadas y las calificaciones promedio de los usuaeios para las plataformas Xbox One y PC no son las mismas."
   ]
  },
  {
   "cell_type": "markdown",
   "metadata": {
    "id": "g8coVZ9e7ZWi"
   },
   "source": [
    "\n",
    "\n",
    "---\n",
    "\n"
   ]
  },
  {
   "cell_type": "markdown",
   "metadata": {
    "id": "YBwODJqD7Zzz"
   },
   "source": [
    "### **Las calificaciones promedio de los usuarios para los géneros de Acción y Deportes son diferentes.**\n",
    "\n",
    "\n",
    "Comenzaremos separando la data que necesitamos del DataFrame original:"
   ]
  },
  {
   "cell_type": "code",
   "execution_count": 53,
   "metadata": {
    "id": "VCJjEqI_7v6g"
   },
   "outputs": [],
   "source": [
    "action = data[(data['genre'] == 'Action') & (data.user_score.notna())]['user_score'].astype(float)\n",
    "sports = data[(data['genre'] == 'Sports') & (data.user_score.notna())]['user_score'].astype(float)"
   ]
  },
  {
   "cell_type": "markdown",
   "metadata": {
    "id": "-HHYofed78y7"
   },
   "source": [
    "Antes de comenzar a realizar nuestro procedimiento para validar si las calificaciones promedio de los usuarios para los géneros de Acción y Deportes son diferentes, validaremos si la varianza de las calificaciones para ambos generos varían, de esta forma podremos aplicar con mayor certeza nuestro t-test. Usaremos una prueba levene con los siguientes parametros:\n",
    "\n",
    "$$H_0: \\text{La varianza de las calificaciones de los usuarios para los géneros de Acción y Deportes no difiere.}$$\n",
    "$$H_1: \\text{La varianza de las calificaciones de los usuarios para los géneros de Acción y Deportes difiere.}$$\n",
    "$$alpha: \\text{5%}$$"
   ]
  },
  {
   "cell_type": "code",
   "execution_count": 54,
   "metadata": {
    "colab": {
     "base_uri": "https://localhost:8080/"
    },
    "id": "6q1qH5YU8fi0",
    "outputId": "5588aac9-3dad-418d-d88f-d4f6a89b30dd"
   },
   "outputs": [
    {
     "name": "stdout",
     "output_type": "stream",
     "text": [
      "p-value: 0.00012737877390417462\n",
      "Rechazamos la hipótesis nula\n"
     ]
    }
   ],
   "source": [
    "alpha = 0.05 # significación estadística crítica\n",
    "# si el valor p es menor que alfa, rechazamos la hipótesis\n",
    "\n",
    "stat, results = levene(action, sports)\n",
    "\n",
    "print('p-value:', results)\n",
    "\n",
    "if (results < alpha):\n",
    "        print('Rechazamos la hipótesis nula')\n",
    "else:\n",
    "    print('No rechazamos la hipótesis nula')"
   ]
  },
  {
   "cell_type": "markdown",
   "metadata": {
    "id": "8M1K9rfj86gT"
   },
   "source": [
    "Se rechaza la hipótesis nula sobre la igualdad de varianzas para las calificaciones de los usuarios para los géneros de Acción y Deportes, por lo que hay una diferencia considerable entre la dispersion de los datos para ambos casos. Con esto podemos proceder a realizar un t-test a nuestros datos y determinar la hipotesis:\n",
    "\n",
    "$$H_0: \\text{Las calificaciones promedio de los usuarios para los géneros de Acción y Deportes son iguales}$$\n",
    "$$H_1: \\text{Las calificaciones promedio de los usuarios para los géneros de Acción y Deportes son diferentes}$$\n",
    "$$alpha: \\text{5%}$$\n",
    "$$equal var = \\text{False}$$\n",
    "\n",
    "Veamos los pasos para probar la segunda hipótesis. Empezamos con la hipótesis nula H₀ que son las calificaciones promedio de los usuarios para los géneros son iguales. La hipótesis alternativa, H₁ es que las calificaciones promedio de los usuarios para los géneros son diferentes. Para ello, utilizaremos un alfa de `0,05`, lo que significa que sólo en el 5% de los casos rechazaremos la hipótesis nula cuando sea cierta. Sabemos además que la varianza de ambas muestras no es igual por lo que el parametro `equal_var` será igual a `False`."
   ]
  },
  {
   "cell_type": "code",
   "execution_count": 55,
   "metadata": {
    "colab": {
     "base_uri": "https://localhost:8080/"
    },
    "id": "dAqtVsJI9qOE",
    "outputId": "76389aa7-23f1-470d-99ca-42e792be287e"
   },
   "outputs": [
    {
     "name": "stdout",
     "output_type": "stream",
     "text": [
      "p-value: 0.08991887133875968\n",
      "No rechazamos la hipótesis nula\n"
     ]
    }
   ],
   "source": [
    "alpha = 0.05 # significación estadística crítica\n",
    "# si el valor p es menor que alfa, rechazamos la hipótesis\n",
    "\n",
    "results = stats.ttest_ind(action, sports,equal_var=False)\n",
    "\n",
    "print('p-value:', results.pvalue)\n",
    "\n",
    "if results.pvalue < alpha:\n",
    "    print(\"Rechazamos la hipótesis nula\")\n",
    "else:\n",
    "    print(\"No rechazamos la hipótesis nula\")"
   ]
  },
  {
   "cell_type": "markdown",
   "metadata": {
    "id": "zbghTWp8BfaI"
   },
   "source": [
    "Tras someter nuestra muestra de datos a un t-test con un nivel de significación estadística de 0,05, nuestra hipótesis sobre la igualdad de las medias de muestras emparejadas fue que no rechazamos la hipótesis nula, ya que las valoraciones medias de los usuarios del género de acción son iguales a las valoraciones medias de los usuarios del género de deportes dentro del 95% de la muestra seleccionada."
   ]
  },
  {
   "cell_type": "markdown",
   "metadata": {
    "id": "M8bFtJ2MPfR1"
   },
   "source": [
    "## **Conclusión general**"
   ]
  },
  {
   "cell_type": "markdown",
   "metadata": {
    "id": "IU85gNsYCVsq"
   },
   "source": [
    "En este proyecto se nos asignó un conjunto de datos que cubre las ventas históricas de juegos de una fuente abierta. Nuestro objetivo era identificar los patrones que determinan si un juego tiene éxito o no con el fin de permitirnos detectar posibles proyectos prometedores y planificar campañas publicitarias para el próximo año 2017.\n",
    "\n",
    "Tras analizar y observar los datos, realizamos varias conclusiones que desarrollamos en 5 pasos.\n",
    "\n",
    "1. Inicialización\n",
    "\n",
    "  En este paso hemos echado un primer vistazo a los datos. Los datos constaban de 16715 y 11 columnas. Había una gran cantidad de valores perdidos en algunas columnas, algunos de los cuales no podíamos omitir debido a su gran cantidad.\n",
    "\n",
    "2. Preparar los datos\n",
    "\n",
    "  En este paso sustituimos los nombres de las columnas por letras minúsculas para mantener la homogeneidad de estas. A continuación, tratamos los valores ausentes en las columnas `name`, `genre` y `year_of_release`. En las columnas de valoración debido a la cantidad y la falta de una base de datos anexa para reemplazar los valores ausentes, no los modificamos ni eliminamos. Cambiamos el valor TBD a NaN en las columnas `year_of_release` y `user_score` para eliminar todos los textos de esas columnas y cambiar los tipos de las columnas sin problema. Finalmente enriquecimos nuestros datos creando una nueva columna que calcula las ventas totales de cada juego, la hemos llamado `total_sales`.\n",
    "\n",
    "3. Analizar los datos\n",
    "\n",
    "  En el análisis exploratorio de datos hemos recopilado una buena cantidad de información sobre nuestros datos. Observamos cuántos juegos se lanzaron a través de los años y parece que en 2008 y 2009 se produjo la mayor cantidad de juegos. Notamos que los datos comenzaron a crecer notablemente en 1994, antes de que hubiera menos de 100 juegos anuales y después de 1994 ese número de juegos que fueron lanzados anualmente comenzó a aumentar y a veces duplicándose cada año. Después de 2008, hubo una tendencia decreciente de lanzamientos de juegos por año que se estabilizó entre 500-600 juegos en los últimos años de 2013 a 2016.\n",
    "\n",
    "  En todos los gráficos de nuestras plataformas había una distribución visible de ascenso y descenso gradual en el periodo de 10 años. Por ejemplo, `PS2` solía ser la plataforma más popular a principios de 2000, ya que su distribución parecía ser la más estable a lo largo de los años hasta que alcanzó su maximo de ventas entre 2002 y 2004.\n",
    "\n",
    "  En 2005 salió la `X360` y en 2006 la `Wii` y la `PS3`, que empezaron a ganar popularidad. Poco a poco, las ventas de `PS2` comenzaron a bajar y en 2010 las ventas de `X360` estaban disminuyendo e insinuando que había otra plataforma que estaba ganando popularidad, que era la `PS3`. Entonces vimos que la vida útil de nuestras plataformas líderes es de unos 10 años y que alcanzan su punto máximo en términos de beneficios a mediados de su vida útil, unos 5-6 años. \n",
    "\n",
    "  Sabíamos que la vida útil media de una plataforma es de 6 años, pero como hemos visto en nuestros datos, las plataformas líderes tardan entre 5 y 6 años en alcanzar su límite de beneficios. Así que filtramos los datos a un año mínimo de 2013 con el fin de centrarnos en cualquier plataforma que estuviera en alza y pudiera ser rentable en 2017.\n",
    "\n",
    "  A continuación, excluimos las plataformas que han superado su límite de beneficios para centrarnos únicamente en las plataformas que todavía pueden seguir creciendo en 2017. En general, la diferencia de ventas fue significativa y las únicas plataformas rentables que se presentaron en los datos fueron `X360`, `PS4`, `XOne` y `Wii`.\n",
    "\n",
    "  Seleccionamos las plataformas que nos interesan como la `PS4` y `XOne`, que son aquellas con potencial para ser las plataformas éxitosas para el 2017. Vimos que el valor medio de `XOne` fue superior a la media de `PS4`, pero el rango de cuartiles de `PS4` es ligeramente inferior al de `XOne`.\n",
    "\n",
    "  Curiosamente, encontramos que existe una correlación entre la puntuación de los críticos y las ventas totales. Lo que sugiere que las críticas profesionales tienen un efecto en las ventas totales de juegos para las plataformas que elegimos, pero las críticas de los usuarios no tenían ninguna correlación clara con las ventas totales, al parecer no es un factor a considerar al momento de comprar un juego de estas plataformas.\n",
    "\n",
    "  Tras analizar los datos mediante gráficos de caja que comparan las ventas totales y los géneros, podemos afirmar que el género más popular `Action`, pero sorprendentemente está en el puesto 6 de los juegos más rentables. El genero más rentable con diferenecia fue `Shooter`, seguido de `Sports `ya que obtuvieron los mejores ratios de ventas por juego y una cantidad considerable de juegos de esos tipos.\n",
    "\n",
    "  Como conclusión de los datos que hemos observado a través de estos gráficos, sugerimos que los géneros deportivos y de disparos son los que tienen mayor potencial de beneficios entre los géneros, ya que no tienen un elevado número de juegos, pero sí un elevado beneficio.\n",
    "\n",
    "\n",
    "4. Crear un perfil de usuario para cada región\n",
    "\n",
    "  En este paso hicimos un perfil de usuario para las regiones: NA, UN y JP.\n",
    "\n",
    "  Tras comparar los 3 perfiles de usuario en dataframes y graficos de pie llegamos a las conclusiones de que los perfiles NA y UE son similares en las preferencias: Las plataformas `PS4` y `XOne`, de género `Action` y `Shooter` y las clasificaciones ESRB `M`.El perfil de JP difiere de NA y UE en todo, ya que prefiere la plataforma `3DS`, los juegos `Role-Playing` y para la clasificación `T` de la ESRB. Japón además presenta un número notablemente elevado de valores desconocidos en la columna de género en comparación con las demás regiones, lo que podría sugerir un sistema diferente de clasificación de juegos exclusivo para esta región.\n",
    "\n",
    "5. Prueba de hipótesis\n",
    "\n",
    " Para la primera hipótesis: \"Las calificaciones promedio de los usuarios para las plataformas Xbox One y PC son las mismas\". Tras someter nuestra muestra de datos a un t-test con un nivel de significación estadística de 0,05, nuestra hipótesis sobre la igualdad de las medias de muestras pareadas fue que rechazamos la hipótesis nula, ya que las valoraciones medias de los usuarios de la plataforma Xbox One no son iguales a las valoraciones medias de los usuarios de la plataforma PC en el 95% de la muestra seleccionada.\n",
    "\n",
    " Para la segunda hipótesis: \"Las calificaciones promedio de los usuarios para los géneros de Acción y Deportes son diferentes.\" Tras someter nuestra muestra de datos a un t-test con un nivel de significación estadística de 0,05, nuestra hipótesis sobre la igualdad de las medias de muestras pareadas fue que no rechazamos la hipótesis nula, ya que las calificaciones promedio de ambos generos son iguales en el 95% de la muestra seleccionada.\n",
    "\n",
    "\n",
    "**Recomendaciones para la campaña del 2017**\n",
    "\n",
    "* Centrar las campañas para las plataformas `PS4` y `XOne` para maximizar las ventas.\n",
    "* Validar las reseñas de expertos es importante para saber el éxito de un juego.\n",
    "* Centrar las campañas en los generos `Shooter` y `Sports` para maximizar las ventas.\n",
    "* Es posible unificar las campañas para las regiones de NA y EU ya que tienen intereses muy similares, centrarse en las plataformas `PS4` y `XOne`, género `Action` y `Shooter` y de clasificacion ESRB `M`.\n",
    "* En el caso de JP centrar las campañas en la plataforma `3DS`, los juegos `Role-Playing` y considerar investigar más a profundidad el sistema de clasificaciones dominante en Japón.\n"
   ]
  }
 ],
 "metadata": {
  "colab": {
   "provenance": []
  },
  "kernelspec": {
   "display_name": "Python 3 (ipykernel)",
   "language": "python",
   "name": "python3"
  },
  "language_info": {
   "codemirror_mode": {
    "name": "ipython",
    "version": 3
   },
   "file_extension": ".py",
   "mimetype": "text/x-python",
   "name": "python",
   "nbconvert_exporter": "python",
   "pygments_lexer": "ipython3",
   "version": "3.9.19"
  },
  "toc": {
   "base_numbering": 1,
   "nav_menu": {},
   "number_sections": true,
   "sideBar": true,
   "skip_h1_title": true,
   "title_cell": "Table of Contents",
   "title_sidebar": "Contents",
   "toc_cell": false,
   "toc_position": {
    "height": "calc(100% - 180px)",
    "left": "10px",
    "top": "150px",
    "width": "261.875px"
   },
   "toc_section_display": true,
   "toc_window_display": true
  },
  "vp": {
   "vp_note_display": false,
   "vp_note_width": 0,
   "vp_section_display": false
  }
 },
 "nbformat": 4,
 "nbformat_minor": 1
}
