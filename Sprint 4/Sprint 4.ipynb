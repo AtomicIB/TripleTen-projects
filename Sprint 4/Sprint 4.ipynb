{
 "cells": [
  {
   "cell_type": "markdown",
   "metadata": {
    "id": "I2tBv4ps91k7"
   },
   "source": [
    "# **Analisis de los planes prepago de Megaline**"
   ]
  },
  {
   "cell_type": "markdown",
   "metadata": {
    "id": "v5XVTcXaNObZ"
   },
   "source": [
    "# Descripción del proyecto.\n",
    "\n",
    "Trabajas como analista para el operador de telecomunicaciones Megaline. La empresa ofrece a sus clientes dos tarifas de prepago, `Surf` y `Ultimate`. El departamento comercial quiere saber cuál de los planes genera más ingresos para ajustar el presupuesto de publicidad.\n",
    "\n",
    "Vas a realizar un análisis preliminar de las tarifas basado en una selección de clientes relativamente pequeña. Tendrás los datos de 500 clientes de Megaline: quiénes son los clientes, de dónde son, qué tarifa usan y la cantidad de llamadas que hicieron y los mensajes de texto que enviaron en 2018. Tu trabajo es analizar el comportamiento de los clientes y determinar qué tarifa de prepago genera más ingresos.\n",
    "\n",
    "**Importante**\n",
    "\n",
    "Megaline redondea los `segundos` a `minutos` y los `megabytes` a `gigabytes`. Para llamadas, cada llamada individual se redondea: incluso si la llamada duró solo un segundo, se contará como un minuto. Para tráfico web, las sesiones web individuales no se redondean. En vez de esto, el total del mes se redondea hacia arriba. Si alguien usa 1025 megabytes este mes, se le cobrarán 2 gigabytes.\n",
    "\n",
    "**Sobre las tarifas**\n",
    "\n",
    "> Surf\n",
    "1.  Pago mensual: `20$`\n",
    "2.  500 minutos al mes, 50 SMS y 15 GB de datos\n",
    "3.  Si se exceden los límites del paquete:\n",
    "  *   1 minuto: 3 centavos\n",
    "  *   1 SMS: 3 centavos\n",
    "  *   1 GB de datos: `10$`\n",
    "\n",
    "\n",
    "> Ultimate\n",
    "1.  Pago mensual: `70$`\n",
    "2.  3000 minutos al mes, 1000 SMS y 30 GB de datos\n",
    "3.  Si se exceden los límites del paquete:\n",
    "  *   1 minuto: 1 centavo\n",
    "  *   1 SMS: 1 centavo\n",
    "  *   1 GB de datos: `7$`\n",
    "\n"
   ]
  },
  {
   "cell_type": "markdown",
   "metadata": {
    "id": "Groj2gGoR8XJ"
   },
   "source": [
    "# Inicialización "
   ]
  },
  {
   "cell_type": "markdown",
   "metadata": {
    "id": "9xmB_wLRSGXh"
   },
   "source": [
    "Cargamos las librerias a utilizar"
   ]
  },
  {
   "cell_type": "code",
   "execution_count": 1,
   "metadata": {
    "id": "2DAn7f2qLMnp"
   },
   "outputs": [],
   "source": [
    "#Cargamos las librerias a utilizar\n",
    "import pandas as pd\n",
    "import numpy as np\n",
    "import matplotlib.pyplot as plt\n",
    "import seaborn as sns\n",
    "from scipy import stats as st"
   ]
  },
  {
   "cell_type": "markdown",
   "metadata": {
    "id": "AFuwIQZBSn3M"
   },
   "source": [
    "### Cargar datos"
   ]
  },
  {
   "cell_type": "code",
   "execution_count": 2,
   "metadata": {
    "id": "6PrC1JyTStq6"
   },
   "outputs": [],
   "source": [
    "# Carga los archivos de datos\n",
    "try:\n",
    "    calls    = pd.read_csv('/datasets/megaline_calls.csv')\n",
    "    internet = pd.read_csv('/datasets/megaline_internet.csv')\n",
    "    messages = pd.read_csv('/datasets/megaline_messages.csv')\n",
    "    plans    = pd.read_csv('/datasets/megaline_plans.csv')\n",
    "    users    = pd.read_csv('/datasets/megaline_users.csv')\n",
    "except:\n",
    "    calls    = pd.read_csv('/content/megaline_calls.csv')\n",
    "    internet = pd.read_csv('/content/megaline_internet.csv')\n",
    "    messages = pd.read_csv('/content/megaline_messages.csv')\n",
    "    plans    = pd.read_csv('/content/megaline_plans.csv')\n",
    "    users    = pd.read_csv('/content/megaline_users.csv')"
   ]
  },
  {
   "cell_type": "markdown",
   "metadata": {
    "id": "TtAOtWfrTcav"
   },
   "source": [
    "### Explorar datos iniciales"
   ]
  },
  {
   "cell_type": "markdown",
   "metadata": {
    "id": "7c_pmqjnUgdY"
   },
   "source": [
    "La tabla `calls` (datos sobre las llamadas) contiene las columnas:\n",
    "*  `id` — identificador único de la llamada\n",
    "*  `call_date` — fecha de la llamada\n",
    "*  `duration` — duración de la llamada (en minutos)\n",
    "*  `user_id` — el identificador del usuario que realiza la llamada\n",
    "\n",
    "\n"
   ]
  },
  {
   "cell_type": "markdown",
   "metadata": {
    "id": "WsCn0crUUnZg"
   },
   "source": [
    "La tabla `internet` (datos sobre las sesiones web) contiene las columnas:\n",
    "*  `id` — identificador único de la sesión\n",
    "*  `mb_used` — el volumen de datos gastados durante la sesión (en megabytes)\n",
    "*  `session_date` — fecha de la sesión web\n",
    "*  `user_id` — identificador del usuario"
   ]
  },
  {
   "cell_type": "markdown",
   "metadata": {
    "id": "Fz_qWF_QUiAR"
   },
   "source": [
    "La tabla `messages` (datos sobre los SMS) contiene las columnas:\n",
    "*  `id` — identificador único del SMS\n",
    "*  `message_date` — fecha del SMS\n",
    "*  `user_id` — el identificador del usuario que manda el SMS"
   ]
  },
  {
   "cell_type": "markdown",
   "metadata": {
    "id": "01B2eWqqUpt9"
   },
   "source": [
    "La tabla plans (datos sobre las tarifas) contiene las columnas:\n",
    "*  `plan_name` — nombre de la tarifa\n",
    "*  `usd_monthly_fee` — pago mensual en dólares estadounidenses\n",
    "*  `minutes_included` — minutos incluidos al mes\n",
    "*  `messages_included` — SMS incluidos al mes\n",
    "*  `mb_per_month_included` — datos incluidos al mes (en megabytes)\n",
    "*  `usd_per_minute` — precio por minuto tras exceder los límites del paquete (por ejemplo, si el paquete incluye 100 minutos el operador cobrará el minuto 101)\n",
    "*  `usd_per_message` — precio por SMS tras exceder los límites del paquete\n",
    "*  `usd_per_gb` — precio por gigabyte de los datos extra tras exceder los límites del paquete (1 GB = 1024 megabytes)"
   ]
  },
  {
   "cell_type": "markdown",
   "metadata": {
    "id": "NQZUxr4CTiVI"
   },
   "source": [
    "La tabla `users` (datos sobre los usuarios) contiene las columnas:\n",
    "*  `user_id` — identificador único del usuario\n",
    "*  `first_name` — nombre del usuario\n",
    "*  `last_name` — apellido del usuario\n",
    "*  `age` — edad del usuario (en años)\n",
    "*  `reg_date` — fecha de suscripción (dd, mm, aa)\n",
    "*  `churn_date` — la fecha en que el usuario dejó de usar el servicio (si el valor es ausente, la tarifa se estaba usando cuando se recuperaron estos datos)\n",
    "*  `city` — ciudad de residencia del usuario\n",
    "*  `plan` — nombre de la tarifa\n",
    "\n",
    "\n"
   ]
  },
  {
   "cell_type": "markdown",
   "metadata": {
    "id": "LNO6Na10VaoB"
   },
   "source": [
    "Imprimimos la información general/resumida de cada DataFrame"
   ]
  },
  {
   "cell_type": "code",
   "execution_count": 3,
   "metadata": {
    "colab": {
     "base_uri": "https://localhost:8080/",
     "height": 554
    },
    "id": "_9YRNgM_Tge6",
    "outputId": "9603c5dc-ba9a-4c44-a102-24818b9aa48f"
   },
   "outputs": [
    {
     "name": "stdout",
     "output_type": "stream",
     "text": [
      "<class 'pandas.core.frame.DataFrame'>\n",
      "RangeIndex: 137735 entries, 0 to 137734\n",
      "Data columns (total 4 columns):\n",
      " #   Column     Non-Null Count   Dtype  \n",
      "---  ------     --------------   -----  \n",
      " 0   id         137735 non-null  object \n",
      " 1   user_id    137735 non-null  int64  \n",
      " 2   call_date  137735 non-null  object \n",
      " 3   duration   137735 non-null  float64\n",
      "dtypes: float64(1), int64(1), object(2)\n",
      "memory usage: 4.2+ MB\n"
     ]
    },
    {
     "data": {
      "text/html": [
       "<div>\n",
       "<style scoped>\n",
       "    .dataframe tbody tr th:only-of-type {\n",
       "        vertical-align: middle;\n",
       "    }\n",
       "\n",
       "    .dataframe tbody tr th {\n",
       "        vertical-align: top;\n",
       "    }\n",
       "\n",
       "    .dataframe thead th {\n",
       "        text-align: right;\n",
       "    }\n",
       "</style>\n",
       "<table border=\"1\" class=\"dataframe\">\n",
       "  <thead>\n",
       "    <tr style=\"text-align: right;\">\n",
       "      <th></th>\n",
       "      <th>id</th>\n",
       "      <th>user_id</th>\n",
       "      <th>call_date</th>\n",
       "      <th>duration</th>\n",
       "    </tr>\n",
       "  </thead>\n",
       "  <tbody>\n",
       "    <tr>\n",
       "      <th>0</th>\n",
       "      <td>1000_93</td>\n",
       "      <td>1000</td>\n",
       "      <td>2018-12-27</td>\n",
       "      <td>8.52</td>\n",
       "    </tr>\n",
       "    <tr>\n",
       "      <th>1</th>\n",
       "      <td>1000_145</td>\n",
       "      <td>1000</td>\n",
       "      <td>2018-12-27</td>\n",
       "      <td>13.66</td>\n",
       "    </tr>\n",
       "    <tr>\n",
       "      <th>2</th>\n",
       "      <td>1000_247</td>\n",
       "      <td>1000</td>\n",
       "      <td>2018-12-27</td>\n",
       "      <td>14.48</td>\n",
       "    </tr>\n",
       "    <tr>\n",
       "      <th>3</th>\n",
       "      <td>1000_309</td>\n",
       "      <td>1000</td>\n",
       "      <td>2018-12-28</td>\n",
       "      <td>5.76</td>\n",
       "    </tr>\n",
       "    <tr>\n",
       "      <th>4</th>\n",
       "      <td>1000_380</td>\n",
       "      <td>1000</td>\n",
       "      <td>2018-12-30</td>\n",
       "      <td>4.22</td>\n",
       "    </tr>\n",
       "    <tr>\n",
       "      <th>5</th>\n",
       "      <td>1000_388</td>\n",
       "      <td>1000</td>\n",
       "      <td>2018-12-31</td>\n",
       "      <td>2.20</td>\n",
       "    </tr>\n",
       "    <tr>\n",
       "      <th>6</th>\n",
       "      <td>1000_510</td>\n",
       "      <td>1000</td>\n",
       "      <td>2018-12-27</td>\n",
       "      <td>5.75</td>\n",
       "    </tr>\n",
       "    <tr>\n",
       "      <th>7</th>\n",
       "      <td>1000_521</td>\n",
       "      <td>1000</td>\n",
       "      <td>2018-12-28</td>\n",
       "      <td>14.18</td>\n",
       "    </tr>\n",
       "    <tr>\n",
       "      <th>8</th>\n",
       "      <td>1000_530</td>\n",
       "      <td>1000</td>\n",
       "      <td>2018-12-28</td>\n",
       "      <td>5.77</td>\n",
       "    </tr>\n",
       "    <tr>\n",
       "      <th>9</th>\n",
       "      <td>1000_544</td>\n",
       "      <td>1000</td>\n",
       "      <td>2018-12-26</td>\n",
       "      <td>4.40</td>\n",
       "    </tr>\n",
       "  </tbody>\n",
       "</table>\n",
       "</div>"
      ],
      "text/plain": [
       "         id  user_id   call_date  duration\n",
       "0   1000_93     1000  2018-12-27      8.52\n",
       "1  1000_145     1000  2018-12-27     13.66\n",
       "2  1000_247     1000  2018-12-27     14.48\n",
       "3  1000_309     1000  2018-12-28      5.76\n",
       "4  1000_380     1000  2018-12-30      4.22\n",
       "5  1000_388     1000  2018-12-31      2.20\n",
       "6  1000_510     1000  2018-12-27      5.75\n",
       "7  1000_521     1000  2018-12-28     14.18\n",
       "8  1000_530     1000  2018-12-28      5.77\n",
       "9  1000_544     1000  2018-12-26      4.40"
      ]
     },
     "execution_count": 3,
     "metadata": {},
     "output_type": "execute_result"
    }
   ],
   "source": [
    "# previsualizar los datos cargados\n",
    "calls.info()\n",
    "\n",
    "# devolver las n filas superiores del dataframe\n",
    "calls.head(10)"
   ]
  },
  {
   "cell_type": "code",
   "execution_count": 4,
   "metadata": {
    "colab": {
     "base_uri": "https://localhost:8080/",
     "height": 554
    },
    "id": "VmHMbO6fWD9n",
    "outputId": "5ecd1f08-f205-4290-e233-1352e09866b7"
   },
   "outputs": [
    {
     "name": "stdout",
     "output_type": "stream",
     "text": [
      "<class 'pandas.core.frame.DataFrame'>\n",
      "RangeIndex: 104825 entries, 0 to 104824\n",
      "Data columns (total 4 columns):\n",
      " #   Column        Non-Null Count   Dtype  \n",
      "---  ------        --------------   -----  \n",
      " 0   id            104825 non-null  object \n",
      " 1   user_id       104825 non-null  int64  \n",
      " 2   session_date  104825 non-null  object \n",
      " 3   mb_used       104825 non-null  float64\n",
      "dtypes: float64(1), int64(1), object(2)\n",
      "memory usage: 3.2+ MB\n"
     ]
    },
    {
     "data": {
      "text/html": [
       "<div>\n",
       "<style scoped>\n",
       "    .dataframe tbody tr th:only-of-type {\n",
       "        vertical-align: middle;\n",
       "    }\n",
       "\n",
       "    .dataframe tbody tr th {\n",
       "        vertical-align: top;\n",
       "    }\n",
       "\n",
       "    .dataframe thead th {\n",
       "        text-align: right;\n",
       "    }\n",
       "</style>\n",
       "<table border=\"1\" class=\"dataframe\">\n",
       "  <thead>\n",
       "    <tr style=\"text-align: right;\">\n",
       "      <th></th>\n",
       "      <th>id</th>\n",
       "      <th>user_id</th>\n",
       "      <th>session_date</th>\n",
       "      <th>mb_used</th>\n",
       "    </tr>\n",
       "  </thead>\n",
       "  <tbody>\n",
       "    <tr>\n",
       "      <th>0</th>\n",
       "      <td>1000_13</td>\n",
       "      <td>1000</td>\n",
       "      <td>2018-12-29</td>\n",
       "      <td>89.86</td>\n",
       "    </tr>\n",
       "    <tr>\n",
       "      <th>1</th>\n",
       "      <td>1000_204</td>\n",
       "      <td>1000</td>\n",
       "      <td>2018-12-31</td>\n",
       "      <td>0.00</td>\n",
       "    </tr>\n",
       "    <tr>\n",
       "      <th>2</th>\n",
       "      <td>1000_379</td>\n",
       "      <td>1000</td>\n",
       "      <td>2018-12-28</td>\n",
       "      <td>660.40</td>\n",
       "    </tr>\n",
       "    <tr>\n",
       "      <th>3</th>\n",
       "      <td>1000_413</td>\n",
       "      <td>1000</td>\n",
       "      <td>2018-12-26</td>\n",
       "      <td>270.99</td>\n",
       "    </tr>\n",
       "    <tr>\n",
       "      <th>4</th>\n",
       "      <td>1000_442</td>\n",
       "      <td>1000</td>\n",
       "      <td>2018-12-27</td>\n",
       "      <td>880.22</td>\n",
       "    </tr>\n",
       "    <tr>\n",
       "      <th>5</th>\n",
       "      <td>1001_0</td>\n",
       "      <td>1001</td>\n",
       "      <td>2018-08-24</td>\n",
       "      <td>284.68</td>\n",
       "    </tr>\n",
       "    <tr>\n",
       "      <th>6</th>\n",
       "      <td>1001_3</td>\n",
       "      <td>1001</td>\n",
       "      <td>2018-12-09</td>\n",
       "      <td>656.04</td>\n",
       "    </tr>\n",
       "    <tr>\n",
       "      <th>7</th>\n",
       "      <td>1001_4</td>\n",
       "      <td>1001</td>\n",
       "      <td>2018-11-04</td>\n",
       "      <td>16.97</td>\n",
       "    </tr>\n",
       "    <tr>\n",
       "      <th>8</th>\n",
       "      <td>1001_10</td>\n",
       "      <td>1001</td>\n",
       "      <td>2018-11-27</td>\n",
       "      <td>135.18</td>\n",
       "    </tr>\n",
       "    <tr>\n",
       "      <th>9</th>\n",
       "      <td>1001_15</td>\n",
       "      <td>1001</td>\n",
       "      <td>2018-12-13</td>\n",
       "      <td>761.92</td>\n",
       "    </tr>\n",
       "  </tbody>\n",
       "</table>\n",
       "</div>"
      ],
      "text/plain": [
       "         id  user_id session_date  mb_used\n",
       "0   1000_13     1000   2018-12-29    89.86\n",
       "1  1000_204     1000   2018-12-31     0.00\n",
       "2  1000_379     1000   2018-12-28   660.40\n",
       "3  1000_413     1000   2018-12-26   270.99\n",
       "4  1000_442     1000   2018-12-27   880.22\n",
       "5    1001_0     1001   2018-08-24   284.68\n",
       "6    1001_3     1001   2018-12-09   656.04\n",
       "7    1001_4     1001   2018-11-04    16.97\n",
       "8   1001_10     1001   2018-11-27   135.18\n",
       "9   1001_15     1001   2018-12-13   761.92"
      ]
     },
     "execution_count": 4,
     "metadata": {},
     "output_type": "execute_result"
    }
   ],
   "source": [
    "# previsualizar los datos cargados\n",
    "internet.info()\n",
    "\n",
    "# devolver las n filas superiores del dataframe\n",
    "internet.head(10)"
   ]
  },
  {
   "cell_type": "code",
   "execution_count": 5,
   "metadata": {
    "colab": {
     "base_uri": "https://localhost:8080/",
     "height": 537
    },
    "id": "Uenn-kzyWNkI",
    "outputId": "eca592e9-7dcf-43ae-870c-b5c5687cbcef"
   },
   "outputs": [
    {
     "name": "stdout",
     "output_type": "stream",
     "text": [
      "<class 'pandas.core.frame.DataFrame'>\n",
      "RangeIndex: 76051 entries, 0 to 76050\n",
      "Data columns (total 3 columns):\n",
      " #   Column        Non-Null Count  Dtype \n",
      "---  ------        --------------  ----- \n",
      " 0   id            76051 non-null  object\n",
      " 1   user_id       76051 non-null  int64 \n",
      " 2   message_date  76051 non-null  object\n",
      "dtypes: int64(1), object(2)\n",
      "memory usage: 1.7+ MB\n"
     ]
    },
    {
     "data": {
      "text/html": [
       "<div>\n",
       "<style scoped>\n",
       "    .dataframe tbody tr th:only-of-type {\n",
       "        vertical-align: middle;\n",
       "    }\n",
       "\n",
       "    .dataframe tbody tr th {\n",
       "        vertical-align: top;\n",
       "    }\n",
       "\n",
       "    .dataframe thead th {\n",
       "        text-align: right;\n",
       "    }\n",
       "</style>\n",
       "<table border=\"1\" class=\"dataframe\">\n",
       "  <thead>\n",
       "    <tr style=\"text-align: right;\">\n",
       "      <th></th>\n",
       "      <th>id</th>\n",
       "      <th>user_id</th>\n",
       "      <th>message_date</th>\n",
       "    </tr>\n",
       "  </thead>\n",
       "  <tbody>\n",
       "    <tr>\n",
       "      <th>0</th>\n",
       "      <td>1000_125</td>\n",
       "      <td>1000</td>\n",
       "      <td>2018-12-27</td>\n",
       "    </tr>\n",
       "    <tr>\n",
       "      <th>1</th>\n",
       "      <td>1000_160</td>\n",
       "      <td>1000</td>\n",
       "      <td>2018-12-31</td>\n",
       "    </tr>\n",
       "    <tr>\n",
       "      <th>2</th>\n",
       "      <td>1000_223</td>\n",
       "      <td>1000</td>\n",
       "      <td>2018-12-31</td>\n",
       "    </tr>\n",
       "    <tr>\n",
       "      <th>3</th>\n",
       "      <td>1000_251</td>\n",
       "      <td>1000</td>\n",
       "      <td>2018-12-27</td>\n",
       "    </tr>\n",
       "    <tr>\n",
       "      <th>4</th>\n",
       "      <td>1000_255</td>\n",
       "      <td>1000</td>\n",
       "      <td>2018-12-26</td>\n",
       "    </tr>\n",
       "    <tr>\n",
       "      <th>5</th>\n",
       "      <td>1000_346</td>\n",
       "      <td>1000</td>\n",
       "      <td>2018-12-29</td>\n",
       "    </tr>\n",
       "    <tr>\n",
       "      <th>6</th>\n",
       "      <td>1000_386</td>\n",
       "      <td>1000</td>\n",
       "      <td>2018-12-30</td>\n",
       "    </tr>\n",
       "    <tr>\n",
       "      <th>7</th>\n",
       "      <td>1000_413</td>\n",
       "      <td>1000</td>\n",
       "      <td>2018-12-31</td>\n",
       "    </tr>\n",
       "    <tr>\n",
       "      <th>8</th>\n",
       "      <td>1000_502</td>\n",
       "      <td>1000</td>\n",
       "      <td>2018-12-27</td>\n",
       "    </tr>\n",
       "    <tr>\n",
       "      <th>9</th>\n",
       "      <td>1000_525</td>\n",
       "      <td>1000</td>\n",
       "      <td>2018-12-28</td>\n",
       "    </tr>\n",
       "  </tbody>\n",
       "</table>\n",
       "</div>"
      ],
      "text/plain": [
       "         id  user_id message_date\n",
       "0  1000_125     1000   2018-12-27\n",
       "1  1000_160     1000   2018-12-31\n",
       "2  1000_223     1000   2018-12-31\n",
       "3  1000_251     1000   2018-12-27\n",
       "4  1000_255     1000   2018-12-26\n",
       "5  1000_346     1000   2018-12-29\n",
       "6  1000_386     1000   2018-12-30\n",
       "7  1000_413     1000   2018-12-31\n",
       "8  1000_502     1000   2018-12-27\n",
       "9  1000_525     1000   2018-12-28"
      ]
     },
     "execution_count": 5,
     "metadata": {},
     "output_type": "execute_result"
    }
   ],
   "source": [
    "# previsualizar los datos cargados\n",
    "messages.info()\n",
    "\n",
    "# devolver las n filas superiores del dataframe\n",
    "messages.head(10)"
   ]
  },
  {
   "cell_type": "code",
   "execution_count": 6,
   "metadata": {
    "colab": {
     "base_uri": "https://localhost:8080/",
     "height": 372
    },
    "id": "-ZuEX3Q0WRxo",
    "outputId": "f6937a23-321f-4542-9964-c353a3b3ad7e"
   },
   "outputs": [
    {
     "name": "stdout",
     "output_type": "stream",
     "text": [
      "<class 'pandas.core.frame.DataFrame'>\n",
      "RangeIndex: 2 entries, 0 to 1\n",
      "Data columns (total 8 columns):\n",
      " #   Column                 Non-Null Count  Dtype  \n",
      "---  ------                 --------------  -----  \n",
      " 0   messages_included      2 non-null      int64  \n",
      " 1   mb_per_month_included  2 non-null      int64  \n",
      " 2   minutes_included       2 non-null      int64  \n",
      " 3   usd_monthly_pay        2 non-null      int64  \n",
      " 4   usd_per_gb             2 non-null      int64  \n",
      " 5   usd_per_message        2 non-null      float64\n",
      " 6   usd_per_minute         2 non-null      float64\n",
      " 7   plan_name              2 non-null      object \n",
      "dtypes: float64(2), int64(5), object(1)\n",
      "memory usage: 256.0+ bytes\n"
     ]
    },
    {
     "data": {
      "text/html": [
       "<div>\n",
       "<style scoped>\n",
       "    .dataframe tbody tr th:only-of-type {\n",
       "        vertical-align: middle;\n",
       "    }\n",
       "\n",
       "    .dataframe tbody tr th {\n",
       "        vertical-align: top;\n",
       "    }\n",
       "\n",
       "    .dataframe thead th {\n",
       "        text-align: right;\n",
       "    }\n",
       "</style>\n",
       "<table border=\"1\" class=\"dataframe\">\n",
       "  <thead>\n",
       "    <tr style=\"text-align: right;\">\n",
       "      <th></th>\n",
       "      <th>messages_included</th>\n",
       "      <th>mb_per_month_included</th>\n",
       "      <th>minutes_included</th>\n",
       "      <th>usd_monthly_pay</th>\n",
       "      <th>usd_per_gb</th>\n",
       "      <th>usd_per_message</th>\n",
       "      <th>usd_per_minute</th>\n",
       "      <th>plan_name</th>\n",
       "    </tr>\n",
       "  </thead>\n",
       "  <tbody>\n",
       "    <tr>\n",
       "      <th>0</th>\n",
       "      <td>50</td>\n",
       "      <td>15360</td>\n",
       "      <td>500</td>\n",
       "      <td>20</td>\n",
       "      <td>10</td>\n",
       "      <td>0.03</td>\n",
       "      <td>0.03</td>\n",
       "      <td>surf</td>\n",
       "    </tr>\n",
       "    <tr>\n",
       "      <th>1</th>\n",
       "      <td>1000</td>\n",
       "      <td>30720</td>\n",
       "      <td>3000</td>\n",
       "      <td>70</td>\n",
       "      <td>7</td>\n",
       "      <td>0.01</td>\n",
       "      <td>0.01</td>\n",
       "      <td>ultimate</td>\n",
       "    </tr>\n",
       "  </tbody>\n",
       "</table>\n",
       "</div>"
      ],
      "text/plain": [
       "   messages_included  mb_per_month_included  minutes_included  \\\n",
       "0                 50                  15360               500   \n",
       "1               1000                  30720              3000   \n",
       "\n",
       "   usd_monthly_pay  usd_per_gb  usd_per_message  usd_per_minute plan_name  \n",
       "0               20          10             0.03            0.03      surf  \n",
       "1               70           7             0.01            0.01  ultimate  "
      ]
     },
     "execution_count": 6,
     "metadata": {},
     "output_type": "execute_result"
    }
   ],
   "source": [
    "# previsualizar los datos cargados\n",
    "plans.info()\n",
    "\n",
    "# devolver las n filas superiores del dataframe\n",
    "plans.head(10)"
   ]
  },
  {
   "cell_type": "code",
   "execution_count": 7,
   "metadata": {
    "colab": {
     "base_uri": "https://localhost:8080/",
     "height": 623
    },
    "id": "WJABu97LWXie",
    "outputId": "046a6de6-a222-4551-e5c5-998c0de785b5"
   },
   "outputs": [
    {
     "name": "stdout",
     "output_type": "stream",
     "text": [
      "<class 'pandas.core.frame.DataFrame'>\n",
      "RangeIndex: 500 entries, 0 to 499\n",
      "Data columns (total 8 columns):\n",
      " #   Column      Non-Null Count  Dtype \n",
      "---  ------      --------------  ----- \n",
      " 0   user_id     500 non-null    int64 \n",
      " 1   first_name  500 non-null    object\n",
      " 2   last_name   500 non-null    object\n",
      " 3   age         500 non-null    int64 \n",
      " 4   city        500 non-null    object\n",
      " 5   reg_date    500 non-null    object\n",
      " 6   plan        500 non-null    object\n",
      " 7   churn_date  34 non-null     object\n",
      "dtypes: int64(2), object(6)\n",
      "memory usage: 31.4+ KB\n"
     ]
    },
    {
     "data": {
      "text/html": [
       "<div>\n",
       "<style scoped>\n",
       "    .dataframe tbody tr th:only-of-type {\n",
       "        vertical-align: middle;\n",
       "    }\n",
       "\n",
       "    .dataframe tbody tr th {\n",
       "        vertical-align: top;\n",
       "    }\n",
       "\n",
       "    .dataframe thead th {\n",
       "        text-align: right;\n",
       "    }\n",
       "</style>\n",
       "<table border=\"1\" class=\"dataframe\">\n",
       "  <thead>\n",
       "    <tr style=\"text-align: right;\">\n",
       "      <th></th>\n",
       "      <th>user_id</th>\n",
       "      <th>first_name</th>\n",
       "      <th>last_name</th>\n",
       "      <th>age</th>\n",
       "      <th>city</th>\n",
       "      <th>reg_date</th>\n",
       "      <th>plan</th>\n",
       "      <th>churn_date</th>\n",
       "    </tr>\n",
       "  </thead>\n",
       "  <tbody>\n",
       "    <tr>\n",
       "      <th>0</th>\n",
       "      <td>1000</td>\n",
       "      <td>Anamaria</td>\n",
       "      <td>Bauer</td>\n",
       "      <td>45</td>\n",
       "      <td>Atlanta-Sandy Springs-Roswell, GA MSA</td>\n",
       "      <td>2018-12-24</td>\n",
       "      <td>ultimate</td>\n",
       "      <td>NaN</td>\n",
       "    </tr>\n",
       "    <tr>\n",
       "      <th>1</th>\n",
       "      <td>1001</td>\n",
       "      <td>Mickey</td>\n",
       "      <td>Wilkerson</td>\n",
       "      <td>28</td>\n",
       "      <td>Seattle-Tacoma-Bellevue, WA MSA</td>\n",
       "      <td>2018-08-13</td>\n",
       "      <td>surf</td>\n",
       "      <td>NaN</td>\n",
       "    </tr>\n",
       "    <tr>\n",
       "      <th>2</th>\n",
       "      <td>1002</td>\n",
       "      <td>Carlee</td>\n",
       "      <td>Hoffman</td>\n",
       "      <td>36</td>\n",
       "      <td>Las Vegas-Henderson-Paradise, NV MSA</td>\n",
       "      <td>2018-10-21</td>\n",
       "      <td>surf</td>\n",
       "      <td>NaN</td>\n",
       "    </tr>\n",
       "    <tr>\n",
       "      <th>3</th>\n",
       "      <td>1003</td>\n",
       "      <td>Reynaldo</td>\n",
       "      <td>Jenkins</td>\n",
       "      <td>52</td>\n",
       "      <td>Tulsa, OK MSA</td>\n",
       "      <td>2018-01-28</td>\n",
       "      <td>surf</td>\n",
       "      <td>NaN</td>\n",
       "    </tr>\n",
       "    <tr>\n",
       "      <th>4</th>\n",
       "      <td>1004</td>\n",
       "      <td>Leonila</td>\n",
       "      <td>Thompson</td>\n",
       "      <td>40</td>\n",
       "      <td>Seattle-Tacoma-Bellevue, WA MSA</td>\n",
       "      <td>2018-05-23</td>\n",
       "      <td>surf</td>\n",
       "      <td>NaN</td>\n",
       "    </tr>\n",
       "    <tr>\n",
       "      <th>5</th>\n",
       "      <td>1005</td>\n",
       "      <td>Livia</td>\n",
       "      <td>Shields</td>\n",
       "      <td>31</td>\n",
       "      <td>Dallas-Fort Worth-Arlington, TX MSA</td>\n",
       "      <td>2018-11-29</td>\n",
       "      <td>surf</td>\n",
       "      <td>NaN</td>\n",
       "    </tr>\n",
       "    <tr>\n",
       "      <th>6</th>\n",
       "      <td>1006</td>\n",
       "      <td>Jesusa</td>\n",
       "      <td>Bradford</td>\n",
       "      <td>73</td>\n",
       "      <td>San Francisco-Oakland-Berkeley, CA MSA</td>\n",
       "      <td>2018-11-27</td>\n",
       "      <td>ultimate</td>\n",
       "      <td>2018-12-18</td>\n",
       "    </tr>\n",
       "    <tr>\n",
       "      <th>7</th>\n",
       "      <td>1007</td>\n",
       "      <td>Eusebio</td>\n",
       "      <td>Welch</td>\n",
       "      <td>42</td>\n",
       "      <td>Grand Rapids-Kentwood, MI MSA</td>\n",
       "      <td>2018-07-11</td>\n",
       "      <td>surf</td>\n",
       "      <td>NaN</td>\n",
       "    </tr>\n",
       "    <tr>\n",
       "      <th>8</th>\n",
       "      <td>1008</td>\n",
       "      <td>Emely</td>\n",
       "      <td>Hoffman</td>\n",
       "      <td>53</td>\n",
       "      <td>Orlando-Kissimmee-Sanford, FL MSA</td>\n",
       "      <td>2018-08-03</td>\n",
       "      <td>ultimate</td>\n",
       "      <td>NaN</td>\n",
       "    </tr>\n",
       "    <tr>\n",
       "      <th>9</th>\n",
       "      <td>1009</td>\n",
       "      <td>Gerry</td>\n",
       "      <td>Little</td>\n",
       "      <td>19</td>\n",
       "      <td>San Jose-Sunnyvale-Santa Clara, CA MSA</td>\n",
       "      <td>2018-04-22</td>\n",
       "      <td>surf</td>\n",
       "      <td>NaN</td>\n",
       "    </tr>\n",
       "  </tbody>\n",
       "</table>\n",
       "</div>"
      ],
      "text/plain": [
       "   user_id first_name  last_name  age                                    city  \\\n",
       "0     1000   Anamaria      Bauer   45   Atlanta-Sandy Springs-Roswell, GA MSA   \n",
       "1     1001     Mickey  Wilkerson   28         Seattle-Tacoma-Bellevue, WA MSA   \n",
       "2     1002     Carlee    Hoffman   36    Las Vegas-Henderson-Paradise, NV MSA   \n",
       "3     1003   Reynaldo    Jenkins   52                           Tulsa, OK MSA   \n",
       "4     1004    Leonila   Thompson   40         Seattle-Tacoma-Bellevue, WA MSA   \n",
       "5     1005      Livia    Shields   31     Dallas-Fort Worth-Arlington, TX MSA   \n",
       "6     1006     Jesusa   Bradford   73  San Francisco-Oakland-Berkeley, CA MSA   \n",
       "7     1007    Eusebio      Welch   42           Grand Rapids-Kentwood, MI MSA   \n",
       "8     1008      Emely    Hoffman   53       Orlando-Kissimmee-Sanford, FL MSA   \n",
       "9     1009      Gerry     Little   19  San Jose-Sunnyvale-Santa Clara, CA MSA   \n",
       "\n",
       "     reg_date      plan  churn_date  \n",
       "0  2018-12-24  ultimate         NaN  \n",
       "1  2018-08-13      surf         NaN  \n",
       "2  2018-10-21      surf         NaN  \n",
       "3  2018-01-28      surf         NaN  \n",
       "4  2018-05-23      surf         NaN  \n",
       "5  2018-11-29      surf         NaN  \n",
       "6  2018-11-27  ultimate  2018-12-18  \n",
       "7  2018-07-11      surf         NaN  \n",
       "8  2018-08-03  ultimate         NaN  \n",
       "9  2018-04-22      surf         NaN  "
      ]
     },
     "execution_count": 7,
     "metadata": {},
     "output_type": "execute_result"
    }
   ],
   "source": [
    "# previsualizar los datos cargados\n",
    "users.info()\n",
    "\n",
    "# devolver las n filas superiores del dataframe\n",
    "users.head(10)"
   ]
  },
  {
   "cell_type": "code",
   "execution_count": 8,
   "metadata": {
    "colab": {
     "base_uri": "https://localhost:8080/",
     "height": 1000
    },
    "id": "sFGtgLh9Wjan",
    "outputId": "4523adbd-2aed-4426-aafb-796d0eb0f06f"
   },
   "outputs": [
    {
     "data": {
      "text/html": [
       "<div>\n",
       "<style scoped>\n",
       "    .dataframe tbody tr th:only-of-type {\n",
       "        vertical-align: middle;\n",
       "    }\n",
       "\n",
       "    .dataframe tbody tr th {\n",
       "        vertical-align: top;\n",
       "    }\n",
       "\n",
       "    .dataframe thead th {\n",
       "        text-align: right;\n",
       "    }\n",
       "</style>\n",
       "<table border=\"1\" class=\"dataframe\">\n",
       "  <thead>\n",
       "    <tr style=\"text-align: right;\">\n",
       "      <th></th>\n",
       "      <th>user_id</th>\n",
       "      <th>duration</th>\n",
       "    </tr>\n",
       "  </thead>\n",
       "  <tbody>\n",
       "    <tr>\n",
       "      <th>count</th>\n",
       "      <td>137735.000000</td>\n",
       "      <td>137735.000000</td>\n",
       "    </tr>\n",
       "    <tr>\n",
       "      <th>mean</th>\n",
       "      <td>1247.658046</td>\n",
       "      <td>6.745927</td>\n",
       "    </tr>\n",
       "    <tr>\n",
       "      <th>std</th>\n",
       "      <td>139.416268</td>\n",
       "      <td>5.839241</td>\n",
       "    </tr>\n",
       "    <tr>\n",
       "      <th>min</th>\n",
       "      <td>1000.000000</td>\n",
       "      <td>0.000000</td>\n",
       "    </tr>\n",
       "    <tr>\n",
       "      <th>25%</th>\n",
       "      <td>1128.000000</td>\n",
       "      <td>1.290000</td>\n",
       "    </tr>\n",
       "    <tr>\n",
       "      <th>50%</th>\n",
       "      <td>1247.000000</td>\n",
       "      <td>5.980000</td>\n",
       "    </tr>\n",
       "    <tr>\n",
       "      <th>75%</th>\n",
       "      <td>1365.000000</td>\n",
       "      <td>10.690000</td>\n",
       "    </tr>\n",
       "    <tr>\n",
       "      <th>max</th>\n",
       "      <td>1499.000000</td>\n",
       "      <td>37.600000</td>\n",
       "    </tr>\n",
       "  </tbody>\n",
       "</table>\n",
       "</div>"
      ],
      "text/plain": [
       "             user_id       duration\n",
       "count  137735.000000  137735.000000\n",
       "mean     1247.658046       6.745927\n",
       "std       139.416268       5.839241\n",
       "min      1000.000000       0.000000\n",
       "25%      1128.000000       1.290000\n",
       "50%      1247.000000       5.980000\n",
       "75%      1365.000000      10.690000\n",
       "max      1499.000000      37.600000"
      ]
     },
     "metadata": {},
     "output_type": "display_data"
    },
    {
     "data": {
      "text/html": [
       "<div>\n",
       "<style scoped>\n",
       "    .dataframe tbody tr th:only-of-type {\n",
       "        vertical-align: middle;\n",
       "    }\n",
       "\n",
       "    .dataframe tbody tr th {\n",
       "        vertical-align: top;\n",
       "    }\n",
       "\n",
       "    .dataframe thead th {\n",
       "        text-align: right;\n",
       "    }\n",
       "</style>\n",
       "<table border=\"1\" class=\"dataframe\">\n",
       "  <thead>\n",
       "    <tr style=\"text-align: right;\">\n",
       "      <th></th>\n",
       "      <th>user_id</th>\n",
       "      <th>mb_used</th>\n",
       "    </tr>\n",
       "  </thead>\n",
       "  <tbody>\n",
       "    <tr>\n",
       "      <th>count</th>\n",
       "      <td>104825.000000</td>\n",
       "      <td>104825.000000</td>\n",
       "    </tr>\n",
       "    <tr>\n",
       "      <th>mean</th>\n",
       "      <td>1242.496361</td>\n",
       "      <td>366.713701</td>\n",
       "    </tr>\n",
       "    <tr>\n",
       "      <th>std</th>\n",
       "      <td>142.053913</td>\n",
       "      <td>277.170542</td>\n",
       "    </tr>\n",
       "    <tr>\n",
       "      <th>min</th>\n",
       "      <td>1000.000000</td>\n",
       "      <td>0.000000</td>\n",
       "    </tr>\n",
       "    <tr>\n",
       "      <th>25%</th>\n",
       "      <td>1122.000000</td>\n",
       "      <td>136.080000</td>\n",
       "    </tr>\n",
       "    <tr>\n",
       "      <th>50%</th>\n",
       "      <td>1236.000000</td>\n",
       "      <td>343.980000</td>\n",
       "    </tr>\n",
       "    <tr>\n",
       "      <th>75%</th>\n",
       "      <td>1367.000000</td>\n",
       "      <td>554.610000</td>\n",
       "    </tr>\n",
       "    <tr>\n",
       "      <th>max</th>\n",
       "      <td>1499.000000</td>\n",
       "      <td>1693.470000</td>\n",
       "    </tr>\n",
       "  </tbody>\n",
       "</table>\n",
       "</div>"
      ],
      "text/plain": [
       "             user_id        mb_used\n",
       "count  104825.000000  104825.000000\n",
       "mean     1242.496361     366.713701\n",
       "std       142.053913     277.170542\n",
       "min      1000.000000       0.000000\n",
       "25%      1122.000000     136.080000\n",
       "50%      1236.000000     343.980000\n",
       "75%      1367.000000     554.610000\n",
       "max      1499.000000    1693.470000"
      ]
     },
     "metadata": {},
     "output_type": "display_data"
    },
    {
     "data": {
      "text/html": [
       "<div>\n",
       "<style scoped>\n",
       "    .dataframe tbody tr th:only-of-type {\n",
       "        vertical-align: middle;\n",
       "    }\n",
       "\n",
       "    .dataframe tbody tr th {\n",
       "        vertical-align: top;\n",
       "    }\n",
       "\n",
       "    .dataframe thead th {\n",
       "        text-align: right;\n",
       "    }\n",
       "</style>\n",
       "<table border=\"1\" class=\"dataframe\">\n",
       "  <thead>\n",
       "    <tr style=\"text-align: right;\">\n",
       "      <th></th>\n",
       "      <th>user_id</th>\n",
       "    </tr>\n",
       "  </thead>\n",
       "  <tbody>\n",
       "    <tr>\n",
       "      <th>count</th>\n",
       "      <td>76051.000000</td>\n",
       "    </tr>\n",
       "    <tr>\n",
       "      <th>mean</th>\n",
       "      <td>1245.972768</td>\n",
       "    </tr>\n",
       "    <tr>\n",
       "      <th>std</th>\n",
       "      <td>139.843635</td>\n",
       "    </tr>\n",
       "    <tr>\n",
       "      <th>min</th>\n",
       "      <td>1000.000000</td>\n",
       "    </tr>\n",
       "    <tr>\n",
       "      <th>25%</th>\n",
       "      <td>1123.000000</td>\n",
       "    </tr>\n",
       "    <tr>\n",
       "      <th>50%</th>\n",
       "      <td>1251.000000</td>\n",
       "    </tr>\n",
       "    <tr>\n",
       "      <th>75%</th>\n",
       "      <td>1362.000000</td>\n",
       "    </tr>\n",
       "    <tr>\n",
       "      <th>max</th>\n",
       "      <td>1497.000000</td>\n",
       "    </tr>\n",
       "  </tbody>\n",
       "</table>\n",
       "</div>"
      ],
      "text/plain": [
       "            user_id\n",
       "count  76051.000000\n",
       "mean    1245.972768\n",
       "std      139.843635\n",
       "min     1000.000000\n",
       "25%     1123.000000\n",
       "50%     1251.000000\n",
       "75%     1362.000000\n",
       "max     1497.000000"
      ]
     },
     "metadata": {},
     "output_type": "display_data"
    },
    {
     "data": {
      "text/html": [
       "<div>\n",
       "<style scoped>\n",
       "    .dataframe tbody tr th:only-of-type {\n",
       "        vertical-align: middle;\n",
       "    }\n",
       "\n",
       "    .dataframe tbody tr th {\n",
       "        vertical-align: top;\n",
       "    }\n",
       "\n",
       "    .dataframe thead th {\n",
       "        text-align: right;\n",
       "    }\n",
       "</style>\n",
       "<table border=\"1\" class=\"dataframe\">\n",
       "  <thead>\n",
       "    <tr style=\"text-align: right;\">\n",
       "      <th></th>\n",
       "      <th>user_id</th>\n",
       "      <th>age</th>\n",
       "    </tr>\n",
       "  </thead>\n",
       "  <tbody>\n",
       "    <tr>\n",
       "      <th>count</th>\n",
       "      <td>500.000000</td>\n",
       "      <td>500.000000</td>\n",
       "    </tr>\n",
       "    <tr>\n",
       "      <th>mean</th>\n",
       "      <td>1249.500000</td>\n",
       "      <td>45.486000</td>\n",
       "    </tr>\n",
       "    <tr>\n",
       "      <th>std</th>\n",
       "      <td>144.481833</td>\n",
       "      <td>16.972269</td>\n",
       "    </tr>\n",
       "    <tr>\n",
       "      <th>min</th>\n",
       "      <td>1000.000000</td>\n",
       "      <td>18.000000</td>\n",
       "    </tr>\n",
       "    <tr>\n",
       "      <th>25%</th>\n",
       "      <td>1124.750000</td>\n",
       "      <td>30.000000</td>\n",
       "    </tr>\n",
       "    <tr>\n",
       "      <th>50%</th>\n",
       "      <td>1249.500000</td>\n",
       "      <td>46.000000</td>\n",
       "    </tr>\n",
       "    <tr>\n",
       "      <th>75%</th>\n",
       "      <td>1374.250000</td>\n",
       "      <td>61.000000</td>\n",
       "    </tr>\n",
       "    <tr>\n",
       "      <th>max</th>\n",
       "      <td>1499.000000</td>\n",
       "      <td>75.000000</td>\n",
       "    </tr>\n",
       "  </tbody>\n",
       "</table>\n",
       "</div>"
      ],
      "text/plain": [
       "           user_id         age\n",
       "count   500.000000  500.000000\n",
       "mean   1249.500000   45.486000\n",
       "std     144.481833   16.972269\n",
       "min    1000.000000   18.000000\n",
       "25%    1124.750000   30.000000\n",
       "50%    1249.500000   46.000000\n",
       "75%    1374.250000   61.000000\n",
       "max    1499.000000   75.000000"
      ]
     },
     "metadata": {},
     "output_type": "display_data"
    }
   ],
   "source": [
    "#Visualizar estadisticas descriptivas\n",
    "\n",
    "display(calls.describe()) \n",
    "\n",
    "display(internet.describe()) \n",
    "\n",
    "display(messages.describe()) \n",
    "\n",
    "display(users.describe()) "
   ]
  },
  {
   "cell_type": "markdown",
   "metadata": {
    "id": "W8yGlM70W5pS"
   },
   "source": [
    "### Conclusiones\n",
    "\n",
    "*   Realizamos un checkeo inicial de nuestros datasets.\n",
    "*   Con el checkeo realizado pudimos notar que no hay muchos problemas con la información, exceptuando por que los tipos de datos para `id`, `call_date`, `duration`, `session_date`, `message_date`,`first_name`,`last_name`,`city`,`reg_date`,`plan` y `churn_date`.\n",
    "*  Solo faltan valores para la columna `chur_date`. Sin embargo, esta es la fecha en que el usuario dejó de usar el servicio, anteriormente nos explicaron que si no hay datos en esta columna es porque el plan aún se está utilizando.\n",
    "* Podemos visualizar que los planes `Surf` y `Ultimate` incluyen 15 GB y 30 GB correspondientemente, pero en la tabla tienen el consumo incluido en MB (columna `mb_per_month_included`), sería más util tenerlo en GB, ya que además se cobra por GB consumido.\n",
    "\n",
    "Procederemos a corregir los tipos de dato.\n",
    "\n"
   ]
  },
  {
   "cell_type": "markdown",
   "metadata": {
    "id": "OtR7qeQEkxsL"
   },
   "source": [
    "# Preparar los datos\n",
    "\n",
    "En este paso procederemos a corregir el tipo de datos que detectamos anteriormente fueron establecidos erroneamente además de redondear los datos según los requerimientos."
   ]
  },
  {
   "cell_type": "code",
   "execution_count": 9,
   "metadata": {
    "colab": {
     "base_uri": "https://localhost:8080/"
    },
    "id": "BWJ3LgWukw89",
    "outputId": "225e707d-1870-4423-c7bf-d527b2a91c9c"
   },
   "outputs": [
    {
     "data": {
      "text/plain": [
       "id                    int64\n",
       "user_id               int64\n",
       "call_date    datetime64[ns]\n",
       "duration              int64\n",
       "dtype: object"
      ]
     },
     "execution_count": 9,
     "metadata": {},
     "output_type": "execute_result"
    }
   ],
   "source": [
    "#cambiando los tipos de datos para \"calls\"\n",
    "\n",
    "#convertir datos a integers\n",
    "calls['id'] = calls['id'].astype('int')\n",
    "#redondeando los valores de \"duration\"\n",
    "calls['duration'] = np.ceil(calls['duration']).astype(int)\n",
    "#convertir datos a date time\n",
    "calls['call_date'] = pd.to_datetime(calls['call_date'])\n",
    "\n",
    "calls.dtypes"
   ]
  },
  {
   "cell_type": "markdown",
   "metadata": {
    "id": "5shmtJGVwk0X"
   },
   "source": [
    "Megaline tiene como requerimiento que cada llamada individual se redondea: incluso si la llamada duró solo un segundo, se contará como un minuto.  Ante esto, validamos que los datos de `duration` esten en valores enteros (minutos)."
   ]
  },
  {
   "cell_type": "code",
   "execution_count": 10,
   "metadata": {
    "colab": {
     "base_uri": "https://localhost:8080/"
    },
    "id": "SpzBFm6qxeJf",
    "outputId": "eba035a3-188e-48ee-e8eb-5b648afc663f"
   },
   "outputs": [
    {
     "data": {
      "text/plain": [
       "0     26834\n",
       "6      7848\n",
       "5      7778\n",
       "7      7769\n",
       "8      7718\n",
       "4      7434\n",
       "9      7357\n",
       "3      6942\n",
       "10     6918\n",
       "2      6446\n",
       "11     6407\n",
       "1      5795\n",
       "12     5750\n",
       "13     5070\n",
       "14     4402\n",
       "15     3889\n",
       "16     3011\n",
       "17     2461\n",
       "18     1992\n",
       "19     1604\n",
       "20     1243\n",
       "21      910\n",
       "22      671\n",
       "23      461\n",
       "24      324\n",
       "25      235\n",
       "26      157\n",
       "27      118\n",
       "28       62\n",
       "29       58\n",
       "30       27\n",
       "31       18\n",
       "32       13\n",
       "33        6\n",
       "36        3\n",
       "34        2\n",
       "37        1\n",
       "38        1\n",
       "Name: duration, dtype: int64"
      ]
     },
     "execution_count": 10,
     "metadata": {},
     "output_type": "execute_result"
    }
   ],
   "source": [
    "calls['duration'].value_counts()"
   ]
  },
  {
   "cell_type": "markdown",
   "metadata": {
    "id": "5fKgM3eQyGYw"
   },
   "source": [
    "Todos los datos son números enteros, además tambien detectamos que hay una gran cantidad de llamadas en 0 minutos. Estas probablemente son llamadas perdidas, vamos a mantenerlos ya que de todas maneras son llamadas."
   ]
  },
  {
   "cell_type": "code",
   "execution_count": 11,
   "metadata": {
    "colab": {
     "base_uri": "https://localhost:8080/"
    },
    "id": "tMJtrmP1oLGG",
    "outputId": "0bbc1087-7160-476c-f6a2-31e864035903"
   },
   "outputs": [
    {
     "data": {
      "text/plain": [
       "id                       int64\n",
       "user_id                  int64\n",
       "message_date    datetime64[ns]\n",
       "dtype: object"
      ]
     },
     "execution_count": 11,
     "metadata": {},
     "output_type": "execute_result"
    }
   ],
   "source": [
    "#cambiando los tipos de datos para \"messages\"\n",
    "\n",
    "#convertir datos a integers\n",
    "messages['id'] = messages['id'].astype('int')\n",
    "#convertir datos a date time\n",
    "messages['message_date'] = pd.to_datetime(messages['message_date'])\n",
    "\n",
    "messages.dtypes"
   ]
  },
  {
   "cell_type": "markdown",
   "metadata": {
    "id": "Y9UZq2I7y1Z2"
   },
   "source": [
    "Para tráfico web, las sesiones web individuales no se redondean. En vez de esto, el total del mes se redondea hacia arriba."
   ]
  },
  {
   "cell_type": "code",
   "execution_count": 12,
   "metadata": {
    "colab": {
     "base_uri": "https://localhost:8080/"
    },
    "id": "Qpv7N9Kqvwuk",
    "outputId": "dee7e09f-1bd2-47aa-db7a-52a93d564a0e"
   },
   "outputs": [
    {
     "data": {
      "text/plain": [
       "id                       int64\n",
       "user_id                  int64\n",
       "session_date    datetime64[ns]\n",
       "mb_used                float64\n",
       "dtype: object"
      ]
     },
     "execution_count": 12,
     "metadata": {},
     "output_type": "execute_result"
    }
   ],
   "source": [
    "# cambiando los tipos de datos para \"internet\"\n",
    "\n",
    "#convertir datos a integers\n",
    "internet['id'] = internet['id'].astype('int')\n",
    "#convertir datos a date time\n",
    "internet['session_date'] = pd.to_datetime(internet['session_date'])\n",
    "\n",
    "internet.dtypes"
   ]
  },
  {
   "cell_type": "markdown",
   "metadata": {
    "id": "9bMJxBO01qZY"
   },
   "source": [
    "En el caso de los planes, transformamos nuestra columna `mb_per_month_included` para que sus datos sean presentados en GB."
   ]
  },
  {
   "cell_type": "code",
   "execution_count": 13,
   "metadata": {
    "colab": {
     "base_uri": "https://localhost:8080/"
    },
    "id": "pdvAipwfv56L",
    "outputId": "9ac0e6dd-639a-44f6-991f-d923858c67e4"
   },
   "outputs": [
    {
     "data": {
      "text/plain": [
       "messages_included          int64\n",
       "gb_per_month_included      int64\n",
       "minutes_included           int64\n",
       "usd_monthly_pay            int64\n",
       "usd_per_gb                 int64\n",
       "usd_per_message          float64\n",
       "usd_per_minute           float64\n",
       "plan_name                 object\n",
       "dtype: object"
      ]
     },
     "execution_count": 13,
     "metadata": {},
     "output_type": "execute_result"
    }
   ],
   "source": [
    "#Transformando MB a GB\n",
    "plans['mb_per_month_included'] = plans['mb_per_month_included'] / 1024\n",
    "plans['mb_per_month_included'] = np.ceil(plans['mb_per_month_included']).astype(int)\n",
    "#Renombrando la columna 'mb_per_month_included' a 'gb_per_month_included' \n",
    "plans = plans.rename(columns={'mb_per_month_included': 'gb_per_month_included'})\n",
    "\n",
    "plans.dtypes"
   ]
  },
  {
   "cell_type": "code",
   "execution_count": 14,
   "metadata": {
    "colab": {
     "base_uri": "https://localhost:8080/"
    },
    "id": "k8QCXKJF2g8S",
    "outputId": "ac02f438-2cca-42d2-ebb2-85ba5d3b47ea"
   },
   "outputs": [
    {
     "data": {
      "text/plain": [
       "user_id                int64\n",
       "first_name            object\n",
       "last_name             object\n",
       "age                    int64\n",
       "city                  object\n",
       "reg_date      datetime64[ns]\n",
       "plan                  object\n",
       "churn_date    datetime64[ns]\n",
       "dtype: object"
      ]
     },
     "execution_count": 14,
     "metadata": {},
     "output_type": "execute_result"
    }
   ],
   "source": [
    "# cambiando los tipos de datos para \"users\"\n",
    "\n",
    "#convertir datos a date time\n",
    "users['churn_date'] = pd.to_datetime(users['churn_date'])\n",
    "users['reg_date'] = pd.to_datetime(users['reg_date'])\n",
    "#homogenizando nuestros datos de tipo string\n",
    "users['city'] = users['city'].str.lower()\n",
    "users['first_name'] = users['first_name'].str.lower()\n",
    "users['last_name'] = users['last_name'].str.lower()\n",
    "\n",
    "users.dtypes"
   ]
  },
  {
   "cell_type": "code",
   "execution_count": 15,
   "metadata": {
    "colab": {
     "base_uri": "https://localhost:8080/"
    },
    "id": "cQZFVurk7gIA",
    "outputId": "b1c589a9-cccb-4eb0-a0f6-d2de52c8a826"
   },
   "outputs": [
    {
     "data": {
      "text/plain": [
       "0"
      ]
     },
     "execution_count": 15,
     "metadata": {},
     "output_type": "execute_result"
    }
   ],
   "source": [
    "#Validamos duplicados\n",
    "calls.duplicated().sum()\n",
    "messages.duplicated().sum()\n",
    "internet.duplicated().sum()\n",
    "users.duplicated().sum()"
   ]
  },
  {
   "cell_type": "markdown",
   "metadata": {
    "id": "_Mq6iE1l-Rdq"
   },
   "source": [
    "No tenemos datos duplicados."
   ]
  },
  {
   "cell_type": "code",
   "execution_count": 16,
   "metadata": {
    "colab": {
     "base_uri": "https://localhost:8080/"
    },
    "id": "HC6jJiSg3n_A",
    "outputId": "cab2273c-56bf-44c1-9563-504ccf368ffc"
   },
   "outputs": [
    {
     "data": {
      "text/plain": [
       "user_id         0\n",
       "first_name      0\n",
       "last_name       0\n",
       "age             0\n",
       "city            0\n",
       "reg_date        0\n",
       "plan            0\n",
       "churn_date    466\n",
       "dtype: int64"
      ]
     },
     "execution_count": 16,
     "metadata": {},
     "output_type": "execute_result"
    }
   ],
   "source": [
    "#Validamos datos ausentes\n",
    "calls.isnull().sum()\n",
    "internet.isnull().sum()\n",
    "plans.isnull().sum()\n",
    "messages.isnull().sum()\n",
    "users.isnull().sum()"
   ]
  },
  {
   "cell_type": "code",
   "execution_count": 17,
   "metadata": {
    "colab": {
     "base_uri": "https://localhost:8080/"
    },
    "id": "l95MAZwqK6Ti",
    "outputId": "a15d7338-a35d-4973-9f89-c0e393ae712c"
   },
   "outputs": [
    {
     "data": {
      "text/plain": [
       "array([                          'NaT', '2018-12-18T00:00:00.000000000',\n",
       "       '2018-11-16T00:00:00.000000000', '2018-09-07T00:00:00.000000000',\n",
       "       '2018-12-30T00:00:00.000000000', '2018-10-07T00:00:00.000000000',\n",
       "       '2018-12-31T00:00:00.000000000', '2018-11-24T00:00:00.000000000',\n",
       "       '2018-11-11T00:00:00.000000000', '2018-12-12T00:00:00.000000000',\n",
       "       '2018-11-14T00:00:00.000000000', '2018-12-27T00:00:00.000000000',\n",
       "       '2018-11-29T00:00:00.000000000', '2018-12-22T00:00:00.000000000',\n",
       "       '2018-11-30T00:00:00.000000000', '2018-10-13T00:00:00.000000000',\n",
       "       '2018-07-31T00:00:00.000000000', '2018-12-15T00:00:00.000000000',\n",
       "       '2018-12-19T00:00:00.000000000', '2018-10-03T00:00:00.000000000',\n",
       "       '2018-10-22T00:00:00.000000000', '2018-08-16T00:00:00.000000000',\n",
       "       '2018-12-26T00:00:00.000000000', '2018-09-01T00:00:00.000000000',\n",
       "       '2018-11-21T00:00:00.000000000', '2018-08-19T00:00:00.000000000',\n",
       "       '2018-12-10T00:00:00.000000000', '2018-09-17T00:00:00.000000000',\n",
       "       '2018-11-18T00:00:00.000000000', '2018-09-18T00:00:00.000000000'],\n",
       "      dtype='datetime64[ns]')"
      ]
     },
     "execution_count": 17,
     "metadata": {},
     "output_type": "execute_result"
    }
   ],
   "source": [
    "#Verificar fechas de \"churn_date\"\n",
    "users['churn_date'].unique()"
   ]
  },
  {
   "cell_type": "markdown",
   "metadata": {
    "id": "RL4a_edw8M7j"
   },
   "source": [
    "Solo tenemos los 466 valores ausentes de `churn_date`, que sabemos que indican que aún mantienen su plan activo. De todas maneras no es lo más optimo mantener estos datos como nulos, por lo que reemplazaremos estos datos por una fecha lejana a los datos como 2222-02-02 (los fechas de nuestro conjunto de datos son del año 2018 como acabamos de verificar)."
   ]
  },
  {
   "cell_type": "code",
   "execution_count": 18,
   "metadata": {
    "colab": {
     "base_uri": "https://localhost:8080/"
    },
    "id": "u7LgBz4ZJOsl",
    "outputId": "e427d013-5b61-4d8d-e754-ae0b6bfe9a8a"
   },
   "outputs": [
    {
     "name": "stdout",
     "output_type": "stream",
     "text": [
      "<class 'pandas.core.frame.DataFrame'>\n",
      "RangeIndex: 500 entries, 0 to 499\n",
      "Data columns (total 8 columns):\n",
      " #   Column      Non-Null Count  Dtype         \n",
      "---  ------      --------------  -----         \n",
      " 0   user_id     500 non-null    int64         \n",
      " 1   first_name  500 non-null    object        \n",
      " 2   last_name   500 non-null    object        \n",
      " 3   age         500 non-null    int64         \n",
      " 4   city        500 non-null    object        \n",
      " 5   reg_date    500 non-null    datetime64[ns]\n",
      " 6   plan        500 non-null    object        \n",
      " 7   churn_date  500 non-null    datetime64[ns]\n",
      "dtypes: datetime64[ns](2), int64(2), object(4)\n",
      "memory usage: 31.4+ KB\n"
     ]
    },
    {
     "name": "stderr",
     "output_type": "stream",
     "text": [
      "/tmp/ipykernel_73/982810282.py:2: FutureWarning: The pandas.datetime class is deprecated and will be removed from pandas in a future version. Import from datetime module instead.\n",
      "  users['churn_date']=pd.to_datetime(users['churn_date'].fillna(pd.datetime.now().date().replace(month=2, day=2, year=2222)))\n"
     ]
    }
   ],
   "source": [
    "# Rellenando los valores ausentes en \"churn_date\" con 09-09-9999\n",
    "users['churn_date']=pd.to_datetime(users['churn_date'].fillna(pd.datetime.now().date().replace(month=2, day=2, year=2222)))\n",
    "users.info()"
   ]
  },
  {
   "cell_type": "markdown",
   "metadata": {
    "id": "ExgCnSuk8lzr"
   },
   "source": [
    "## Conclusion\n",
    "\n",
    "*  Notamos una gran cantidad de llamadas de 0 minutos, decidimos mantenerlas ya que de todas maneras son llamadas realizadas.\n",
    "*  Cambiamos los tipos de dato que estaban mal establecidos por los correctos, homogenizamos los string poniendolos en minúsculas y nos aseguramos de que los requerimientos de Megaline se cumplan (datos en GB, tiempo de llamadas en minutos). Hemos cambiado el nombre de la columna `mb_per_month_included` por `gb_per_month_included` en el conjunto de datos `plan` para mantener la coherencia. \n",
    "*  Verificamos los valores ausentes de nuestros datos y solo encontramos los 466 datos ausentes de `churn_date`, esto porque el plan de ese cliente sigue activo. no es conveniente dejar esos datos como nulos, por lo que decidimos reemplazar los datos ausentes por una fecha alejada de nuestro conjunto original.\n",
    "*  Verificamos que no hay datos duplicados.\n"
   ]
  },
  {
   "cell_type": "markdown",
   "metadata": {
    "id": "PKXfKi5ymZMO"
   },
   "source": [
    "# Enriquecer datos\n",
    "\n",
    "Para facilitar nuestro analisis posterior vamos a buscar los siguientes parametros por usuario:\n",
    "\n",
    "*  El número de llamadas realizadas y minutos utilizados al mes\n",
    "*  La cantidad de los SMS enviados por mes.\n",
    "*  El volumen de datos por mes.\n",
    "*  Los ingresos mensuales de cada usuario"
   ]
  },
  {
   "cell_type": "code",
   "execution_count": 19,
   "metadata": {
    "colab": {
     "base_uri": "https://localhost:8080/",
     "height": 363
    },
    "id": "Q-26zxXsWlw8",
    "outputId": "0609e6f9-7015-4480-edb6-eec25b5fca28"
   },
   "outputs": [
    {
     "data": {
      "text/html": [
       "<div>\n",
       "<style scoped>\n",
       "    .dataframe tbody tr th:only-of-type {\n",
       "        vertical-align: middle;\n",
       "    }\n",
       "\n",
       "    .dataframe tbody tr th {\n",
       "        vertical-align: top;\n",
       "    }\n",
       "\n",
       "    .dataframe thead th {\n",
       "        text-align: right;\n",
       "    }\n",
       "</style>\n",
       "<table border=\"1\" class=\"dataframe\">\n",
       "  <thead>\n",
       "    <tr style=\"text-align: right;\">\n",
       "      <th></th>\n",
       "      <th>month</th>\n",
       "      <th>user_id</th>\n",
       "      <th>total_calls</th>\n",
       "      <th>total_duration</th>\n",
       "    </tr>\n",
       "  </thead>\n",
       "  <tbody>\n",
       "    <tr>\n",
       "      <th>0</th>\n",
       "      <td>1</td>\n",
       "      <td>1042</td>\n",
       "      <td>18</td>\n",
       "      <td>114</td>\n",
       "    </tr>\n",
       "    <tr>\n",
       "      <th>1</th>\n",
       "      <td>1</td>\n",
       "      <td>1077</td>\n",
       "      <td>42</td>\n",
       "      <td>290</td>\n",
       "    </tr>\n",
       "    <tr>\n",
       "      <th>2</th>\n",
       "      <td>1</td>\n",
       "      <td>1185</td>\n",
       "      <td>23</td>\n",
       "      <td>181</td>\n",
       "    </tr>\n",
       "    <tr>\n",
       "      <th>3</th>\n",
       "      <td>1</td>\n",
       "      <td>1196</td>\n",
       "      <td>42</td>\n",
       "      <td>287</td>\n",
       "    </tr>\n",
       "    <tr>\n",
       "      <th>4</th>\n",
       "      <td>1</td>\n",
       "      <td>1214</td>\n",
       "      <td>5</td>\n",
       "      <td>16</td>\n",
       "    </tr>\n",
       "    <tr>\n",
       "      <th>5</th>\n",
       "      <td>1</td>\n",
       "      <td>1362</td>\n",
       "      <td>42</td>\n",
       "      <td>292</td>\n",
       "    </tr>\n",
       "    <tr>\n",
       "      <th>6</th>\n",
       "      <td>2</td>\n",
       "      <td>1042</td>\n",
       "      <td>37</td>\n",
       "      <td>254</td>\n",
       "    </tr>\n",
       "    <tr>\n",
       "      <th>7</th>\n",
       "      <td>2</td>\n",
       "      <td>1077</td>\n",
       "      <td>111</td>\n",
       "      <td>776</td>\n",
       "    </tr>\n",
       "    <tr>\n",
       "      <th>8</th>\n",
       "      <td>2</td>\n",
       "      <td>1099</td>\n",
       "      <td>7</td>\n",
       "      <td>39</td>\n",
       "    </tr>\n",
       "    <tr>\n",
       "      <th>9</th>\n",
       "      <td>2</td>\n",
       "      <td>1138</td>\n",
       "      <td>42</td>\n",
       "      <td>307</td>\n",
       "    </tr>\n",
       "  </tbody>\n",
       "</table>\n",
       "</div>"
      ],
      "text/plain": [
       "   month  user_id  total_calls  total_duration\n",
       "0      1     1042           18             114\n",
       "1      1     1077           42             290\n",
       "2      1     1185           23             181\n",
       "3      1     1196           42             287\n",
       "4      1     1214            5              16\n",
       "5      1     1362           42             292\n",
       "6      2     1042           37             254\n",
       "7      2     1077          111             776\n",
       "8      2     1099            7              39\n",
       "9      2     1138           42             307"
      ]
     },
     "execution_count": 19,
     "metadata": {},
     "output_type": "execute_result"
    }
   ],
   "source": [
    "# Encontrando el número de llamadas realizadas y minutos utilizados al mes por cada usuario\n",
    "\n",
    "#extraemos el mes de la fecha para poder agregar las llamadas realizadas en un mes\n",
    "calls['month'] = pd.DatetimeIndex(calls['call_date']).month \n",
    "\n",
    "#realizamos una tabla dinamica con la información que buscamos\n",
    "total_calls = calls.pivot_table(index=['month', 'user_id'], values='duration', aggfunc=['count', 'sum'])\n",
    "total_calls.reset_index(inplace=True)\n",
    "total_calls.columns = ['month', 'user_id', 'total_calls', 'total_duration']\n",
    "\n",
    "total_calls.head(10)"
   ]
  },
  {
   "cell_type": "code",
   "execution_count": 20,
   "metadata": {
    "colab": {
     "base_uri": "https://localhost:8080/",
     "height": 424
    },
    "id": "TZCkln50XbwE",
    "outputId": "a0a4a5ad-e7b9-4b4e-916f-8ee9358255db"
   },
   "outputs": [
    {
     "data": {
      "text/html": [
       "<div>\n",
       "<style scoped>\n",
       "    .dataframe tbody tr th:only-of-type {\n",
       "        vertical-align: middle;\n",
       "    }\n",
       "\n",
       "    .dataframe tbody tr th {\n",
       "        vertical-align: top;\n",
       "    }\n",
       "\n",
       "    .dataframe thead th {\n",
       "        text-align: right;\n",
       "    }\n",
       "</style>\n",
       "<table border=\"1\" class=\"dataframe\">\n",
       "  <thead>\n",
       "    <tr style=\"text-align: right;\">\n",
       "      <th></th>\n",
       "      <th>month</th>\n",
       "      <th>user_id</th>\n",
       "      <th>total_msgs</th>\n",
       "    </tr>\n",
       "  </thead>\n",
       "  <tbody>\n",
       "    <tr>\n",
       "      <th>0</th>\n",
       "      <td>1</td>\n",
       "      <td>1077</td>\n",
       "      <td>37</td>\n",
       "    </tr>\n",
       "    <tr>\n",
       "      <th>1</th>\n",
       "      <td>1</td>\n",
       "      <td>1196</td>\n",
       "      <td>23</td>\n",
       "    </tr>\n",
       "    <tr>\n",
       "      <th>2</th>\n",
       "      <td>1</td>\n",
       "      <td>1214</td>\n",
       "      <td>2</td>\n",
       "    </tr>\n",
       "    <tr>\n",
       "      <th>3</th>\n",
       "      <td>1</td>\n",
       "      <td>1362</td>\n",
       "      <td>21</td>\n",
       "    </tr>\n",
       "    <tr>\n",
       "      <th>4</th>\n",
       "      <td>2</td>\n",
       "      <td>1028</td>\n",
       "      <td>12</td>\n",
       "    </tr>\n",
       "    <tr>\n",
       "      <th>...</th>\n",
       "      <td>...</td>\n",
       "      <td>...</td>\n",
       "      <td>...</td>\n",
       "    </tr>\n",
       "    <tr>\n",
       "      <th>1801</th>\n",
       "      <td>12</td>\n",
       "      <td>1491</td>\n",
       "      <td>43</td>\n",
       "    </tr>\n",
       "    <tr>\n",
       "      <th>1802</th>\n",
       "      <td>12</td>\n",
       "      <td>1492</td>\n",
       "      <td>37</td>\n",
       "    </tr>\n",
       "    <tr>\n",
       "      <th>1803</th>\n",
       "      <td>12</td>\n",
       "      <td>1494</td>\n",
       "      <td>33</td>\n",
       "    </tr>\n",
       "    <tr>\n",
       "      <th>1804</th>\n",
       "      <td>12</td>\n",
       "      <td>1496</td>\n",
       "      <td>11</td>\n",
       "    </tr>\n",
       "    <tr>\n",
       "      <th>1805</th>\n",
       "      <td>12</td>\n",
       "      <td>1497</td>\n",
       "      <td>50</td>\n",
       "    </tr>\n",
       "  </tbody>\n",
       "</table>\n",
       "<p>1806 rows × 3 columns</p>\n",
       "</div>"
      ],
      "text/plain": [
       "      month  user_id  total_msgs\n",
       "0         1     1077          37\n",
       "1         1     1196          23\n",
       "2         1     1214           2\n",
       "3         1     1362          21\n",
       "4         2     1028          12\n",
       "...     ...      ...         ...\n",
       "1801     12     1491          43\n",
       "1802     12     1492          37\n",
       "1803     12     1494          33\n",
       "1804     12     1496          11\n",
       "1805     12     1497          50\n",
       "\n",
       "[1806 rows x 3 columns]"
      ]
     },
     "execution_count": 20,
     "metadata": {},
     "output_type": "execute_result"
    }
   ],
   "source": [
    "#encontrando la cantidad de SMS enviados por mes.\n",
    "\n",
    "#extraemos el mes de la fecha para poder agregar los SMS realizados en un mes\n",
    "messages['month'] = pd. DatetimeIndex(messages['message_date']).month\n",
    "\n",
    "#realizamos una tabla dinamica con la información que buscamos\n",
    "total_messages = messages. pivot_table(index=['month','user_id'], values='id', aggfunc='count')\n",
    "total_messages.reset_index(inplace=True)\n",
    "total_messages.columns = ['month', 'user_id', 'total_msgs']\n",
    "\n",
    "total_messages"
   ]
  },
  {
   "cell_type": "code",
   "execution_count": 21,
   "metadata": {
    "colab": {
     "base_uri": "https://localhost:8080/",
     "height": 424
    },
    "id": "HtJlvH_rX0FE",
    "outputId": "febd6e2f-ee14-4891-9736-b072893b79a7"
   },
   "outputs": [
    {
     "data": {
      "text/html": [
       "<div>\n",
       "<style scoped>\n",
       "    .dataframe tbody tr th:only-of-type {\n",
       "        vertical-align: middle;\n",
       "    }\n",
       "\n",
       "    .dataframe tbody tr th {\n",
       "        vertical-align: top;\n",
       "    }\n",
       "\n",
       "    .dataframe thead th {\n",
       "        text-align: right;\n",
       "    }\n",
       "</style>\n",
       "<table border=\"1\" class=\"dataframe\">\n",
       "  <thead>\n",
       "    <tr style=\"text-align: right;\">\n",
       "      <th></th>\n",
       "      <th>month</th>\n",
       "      <th>user_id</th>\n",
       "      <th>total_mb_used</th>\n",
       "    </tr>\n",
       "  </thead>\n",
       "  <tbody>\n",
       "    <tr>\n",
       "      <th>0</th>\n",
       "      <td>1</td>\n",
       "      <td>1042</td>\n",
       "      <td>1854.93</td>\n",
       "    </tr>\n",
       "    <tr>\n",
       "      <th>1</th>\n",
       "      <td>1</td>\n",
       "      <td>1077</td>\n",
       "      <td>10635.64</td>\n",
       "    </tr>\n",
       "    <tr>\n",
       "      <th>2</th>\n",
       "      <td>1</td>\n",
       "      <td>1185</td>\n",
       "      <td>6812.77</td>\n",
       "    </tr>\n",
       "    <tr>\n",
       "      <th>3</th>\n",
       "      <td>1</td>\n",
       "      <td>1196</td>\n",
       "      <td>8908.61</td>\n",
       "    </tr>\n",
       "    <tr>\n",
       "      <th>4</th>\n",
       "      <td>1</td>\n",
       "      <td>1214</td>\n",
       "      <td>1315.35</td>\n",
       "    </tr>\n",
       "    <tr>\n",
       "      <th>...</th>\n",
       "      <td>...</td>\n",
       "      <td>...</td>\n",
       "      <td>...</td>\n",
       "    </tr>\n",
       "    <tr>\n",
       "      <th>2272</th>\n",
       "      <td>12</td>\n",
       "      <td>1495</td>\n",
       "      <td>24097.40</td>\n",
       "    </tr>\n",
       "    <tr>\n",
       "      <th>2273</th>\n",
       "      <td>12</td>\n",
       "      <td>1496</td>\n",
       "      <td>16438.99</td>\n",
       "    </tr>\n",
       "    <tr>\n",
       "      <th>2274</th>\n",
       "      <td>12</td>\n",
       "      <td>1497</td>\n",
       "      <td>11106.55</td>\n",
       "    </tr>\n",
       "    <tr>\n",
       "      <th>2275</th>\n",
       "      <td>12</td>\n",
       "      <td>1498</td>\n",
       "      <td>23137.69</td>\n",
       "    </tr>\n",
       "    <tr>\n",
       "      <th>2276</th>\n",
       "      <td>12</td>\n",
       "      <td>1499</td>\n",
       "      <td>22059.21</td>\n",
       "    </tr>\n",
       "  </tbody>\n",
       "</table>\n",
       "<p>2277 rows × 3 columns</p>\n",
       "</div>"
      ],
      "text/plain": [
       "      month  user_id  total_mb_used\n",
       "0         1     1042        1854.93\n",
       "1         1     1077       10635.64\n",
       "2         1     1185        6812.77\n",
       "3         1     1196        8908.61\n",
       "4         1     1214        1315.35\n",
       "...     ...      ...            ...\n",
       "2272     12     1495       24097.40\n",
       "2273     12     1496       16438.99\n",
       "2274     12     1497       11106.55\n",
       "2275     12     1498       23137.69\n",
       "2276     12     1499       22059.21\n",
       "\n",
       "[2277 rows x 3 columns]"
      ]
     },
     "execution_count": 21,
     "metadata": {},
     "output_type": "execute_result"
    }
   ],
   "source": [
    "#Encontrando el volumen de datos por mes.\n",
    "\n",
    "#extraemos el mes de la fecha para poder agregar los datos utilizados en un mes\n",
    "internet['month'] = pd. DatetimeIndex(internet['session_date']). month\n",
    "\n",
    "#realizamos una tabla dinámica con la información que buscamos\n",
    "total_internet = internet.pivot_table(index=['month','user_id'], values='mb_used', aggfunc='sum')\n",
    "total_internet.reset_index(inplace=True)\n",
    "total_internet.columns = ['month', 'user_id', 'total_mb_used']\n",
    "\n",
    "total_internet"
   ]
  },
  {
   "cell_type": "code",
   "execution_count": 22,
   "metadata": {
    "colab": {
     "base_uri": "https://localhost:8080/",
     "height": 424
    },
    "id": "jfOLgjmNYcSt",
    "outputId": "ffd853f6-aea4-4333-d3db-0d06a206ecdf"
   },
   "outputs": [
    {
     "data": {
      "text/html": [
       "<div>\n",
       "<style scoped>\n",
       "    .dataframe tbody tr th:only-of-type {\n",
       "        vertical-align: middle;\n",
       "    }\n",
       "\n",
       "    .dataframe tbody tr th {\n",
       "        vertical-align: top;\n",
       "    }\n",
       "\n",
       "    .dataframe thead th {\n",
       "        text-align: right;\n",
       "    }\n",
       "</style>\n",
       "<table border=\"1\" class=\"dataframe\">\n",
       "  <thead>\n",
       "    <tr style=\"text-align: right;\">\n",
       "      <th></th>\n",
       "      <th>user_id</th>\n",
       "      <th>plan</th>\n",
       "      <th>city</th>\n",
       "      <th>month</th>\n",
       "      <th>calls</th>\n",
       "      <th>duration</th>\n",
       "      <th>gb_used</th>\n",
       "      <th>messages</th>\n",
       "    </tr>\n",
       "  </thead>\n",
       "  <tbody>\n",
       "    <tr>\n",
       "      <th>0</th>\n",
       "      <td>1000</td>\n",
       "      <td>ultimate</td>\n",
       "      <td>atlanta-sandy springs-roswell, ga msa</td>\n",
       "      <td>12.0</td>\n",
       "      <td>16.0</td>\n",
       "      <td>124.0</td>\n",
       "      <td>2.0</td>\n",
       "      <td>11.0</td>\n",
       "    </tr>\n",
       "    <tr>\n",
       "      <th>1</th>\n",
       "      <td>1001</td>\n",
       "      <td>surf</td>\n",
       "      <td>seattle-tacoma-bellevue, wa msa</td>\n",
       "      <td>8.0</td>\n",
       "      <td>27.0</td>\n",
       "      <td>182.0</td>\n",
       "      <td>7.0</td>\n",
       "      <td>30.0</td>\n",
       "    </tr>\n",
       "    <tr>\n",
       "      <th>2</th>\n",
       "      <td>1001</td>\n",
       "      <td>surf</td>\n",
       "      <td>seattle-tacoma-bellevue, wa msa</td>\n",
       "      <td>9.0</td>\n",
       "      <td>49.0</td>\n",
       "      <td>315.0</td>\n",
       "      <td>14.0</td>\n",
       "      <td>44.0</td>\n",
       "    </tr>\n",
       "    <tr>\n",
       "      <th>3</th>\n",
       "      <td>1001</td>\n",
       "      <td>surf</td>\n",
       "      <td>seattle-tacoma-bellevue, wa msa</td>\n",
       "      <td>10.0</td>\n",
       "      <td>65.0</td>\n",
       "      <td>393.0</td>\n",
       "      <td>22.0</td>\n",
       "      <td>53.0</td>\n",
       "    </tr>\n",
       "    <tr>\n",
       "      <th>4</th>\n",
       "      <td>1001</td>\n",
       "      <td>surf</td>\n",
       "      <td>seattle-tacoma-bellevue, wa msa</td>\n",
       "      <td>11.0</td>\n",
       "      <td>64.0</td>\n",
       "      <td>426.0</td>\n",
       "      <td>19.0</td>\n",
       "      <td>36.0</td>\n",
       "    </tr>\n",
       "    <tr>\n",
       "      <th>...</th>\n",
       "      <td>...</td>\n",
       "      <td>...</td>\n",
       "      <td>...</td>\n",
       "      <td>...</td>\n",
       "      <td>...</td>\n",
       "      <td>...</td>\n",
       "      <td>...</td>\n",
       "      <td>...</td>\n",
       "    </tr>\n",
       "    <tr>\n",
       "      <th>2298</th>\n",
       "      <td>1498</td>\n",
       "      <td>surf</td>\n",
       "      <td>new york-newark-jersey city, ny-nj-pa msa</td>\n",
       "      <td>12.0</td>\n",
       "      <td>39.0</td>\n",
       "      <td>339.0</td>\n",
       "      <td>23.0</td>\n",
       "      <td>NaN</td>\n",
       "    </tr>\n",
       "    <tr>\n",
       "      <th>2299</th>\n",
       "      <td>1499</td>\n",
       "      <td>surf</td>\n",
       "      <td>orlando-kissimmee-sanford, fl msa</td>\n",
       "      <td>9.0</td>\n",
       "      <td>41.0</td>\n",
       "      <td>346.0</td>\n",
       "      <td>13.0</td>\n",
       "      <td>NaN</td>\n",
       "    </tr>\n",
       "    <tr>\n",
       "      <th>2300</th>\n",
       "      <td>1499</td>\n",
       "      <td>surf</td>\n",
       "      <td>orlando-kissimmee-sanford, fl msa</td>\n",
       "      <td>10.0</td>\n",
       "      <td>53.0</td>\n",
       "      <td>385.0</td>\n",
       "      <td>20.0</td>\n",
       "      <td>NaN</td>\n",
       "    </tr>\n",
       "    <tr>\n",
       "      <th>2301</th>\n",
       "      <td>1499</td>\n",
       "      <td>surf</td>\n",
       "      <td>orlando-kissimmee-sanford, fl msa</td>\n",
       "      <td>11.0</td>\n",
       "      <td>45.0</td>\n",
       "      <td>308.0</td>\n",
       "      <td>17.0</td>\n",
       "      <td>NaN</td>\n",
       "    </tr>\n",
       "    <tr>\n",
       "      <th>2302</th>\n",
       "      <td>1499</td>\n",
       "      <td>surf</td>\n",
       "      <td>orlando-kissimmee-sanford, fl msa</td>\n",
       "      <td>12.0</td>\n",
       "      <td>65.0</td>\n",
       "      <td>496.0</td>\n",
       "      <td>22.0</td>\n",
       "      <td>NaN</td>\n",
       "    </tr>\n",
       "  </tbody>\n",
       "</table>\n",
       "<p>2303 rows × 8 columns</p>\n",
       "</div>"
      ],
      "text/plain": [
       "      user_id      plan                                       city  month  \\\n",
       "0        1000  ultimate      atlanta-sandy springs-roswell, ga msa   12.0   \n",
       "1        1001      surf            seattle-tacoma-bellevue, wa msa    8.0   \n",
       "2        1001      surf            seattle-tacoma-bellevue, wa msa    9.0   \n",
       "3        1001      surf            seattle-tacoma-bellevue, wa msa   10.0   \n",
       "4        1001      surf            seattle-tacoma-bellevue, wa msa   11.0   \n",
       "...       ...       ...                                        ...    ...   \n",
       "2298     1498      surf  new york-newark-jersey city, ny-nj-pa msa   12.0   \n",
       "2299     1499      surf          orlando-kissimmee-sanford, fl msa    9.0   \n",
       "2300     1499      surf          orlando-kissimmee-sanford, fl msa   10.0   \n",
       "2301     1499      surf          orlando-kissimmee-sanford, fl msa   11.0   \n",
       "2302     1499      surf          orlando-kissimmee-sanford, fl msa   12.0   \n",
       "\n",
       "      calls  duration  gb_used  messages  \n",
       "0      16.0     124.0      2.0      11.0  \n",
       "1      27.0     182.0      7.0      30.0  \n",
       "2      49.0     315.0     14.0      44.0  \n",
       "3      65.0     393.0     22.0      53.0  \n",
       "4      64.0     426.0     19.0      36.0  \n",
       "...     ...       ...      ...       ...  \n",
       "2298   39.0     339.0     23.0       NaN  \n",
       "2299   41.0     346.0     13.0       NaN  \n",
       "2300   53.0     385.0     20.0       NaN  \n",
       "2301   45.0     308.0     17.0       NaN  \n",
       "2302   65.0     496.0     22.0       NaN  \n",
       "\n",
       "[2303 rows x 8 columns]"
      ]
     },
     "execution_count": 22,
     "metadata": {},
     "output_type": "execute_result"
    }
   ],
   "source": [
    "# Para calcular los ingresos mensuales por usuario, combinaremos el uso de datos, llamadas y SMS juntos\n",
    "\n",
    "#Llamadas mensuales por usuario\n",
    "calls_made = calls.groupby(['user_id','month']).agg({'id':'count'}).rename(columns={'id':'calls'})\n",
    "\n",
    "#Minutos mensuales por usuario\n",
    "min_spent = calls.groupby(['user_id','month']).agg({'duration':'sum'}).rename(columns={'duration':'duration'})\n",
    "\n",
    "#Datos mensuales por usuario\n",
    "gb_used = internet.groupby(['user_id','month']).agg({'mb_used':'sum'}).rename(columns={'mb_used':'gb_used'})\n",
    "#pasamos de MB a GB\n",
    "gb_used['gb_used'] = np.ceil(gb_used['gb_used']/1024)\n",
    "\n",
    "#SMS mensuales por usuario\n",
    "messages_sent = messages.groupby(['user_id','month']).agg({'id':'count'}).rename(columns={'id':'messages'})\n",
    "\n",
    "#Plan para cada usuario\n",
    "user_plan = users[['user_id','plan','city']]\n",
    "callplan_data = pd.concat([calls_made, min_spent, gb_used, messages_sent],axis=1)\n",
    "callplan_data  = user_plan.merge(callplan_data.reset_index(),on='user_id', how='outer')\n",
    "\n",
    "callplan_data"
   ]
  },
  {
   "cell_type": "code",
   "execution_count": 23,
   "metadata": {},
   "outputs": [
    {
     "data": {
      "text/plain": [
       "500"
      ]
     },
     "execution_count": 23,
     "metadata": {},
     "output_type": "execute_result"
    }
   ],
   "source": [
    "#Nos aseguramos de que aún se mantienen nuestros 500 usuarios\n",
    "callplan_data[\"user_id\"].nunique()"
   ]
  },
  {
   "cell_type": "code",
   "execution_count": 24,
   "metadata": {
    "colab": {
     "base_uri": "https://localhost:8080/"
    },
    "id": "VT2FgYv4aQK4",
    "outputId": "23a40a9d-c144-44d3-a76e-210193f0fd64"
   },
   "outputs": [
    {
     "data": {
      "text/plain": [
       "user_id       0\n",
       "plan          0\n",
       "city          0\n",
       "month        10\n",
       "calls        45\n",
       "duration     45\n",
       "gb_used      26\n",
       "messages    497\n",
       "dtype: int64"
      ]
     },
     "execution_count": 24,
     "metadata": {},
     "output_type": "execute_result"
    }
   ],
   "source": [
    "#Verificamos valores ausentes\n",
    "callplan_data.isnull().sum()"
   ]
  },
  {
   "cell_type": "markdown",
   "metadata": {},
   "source": [
    "Podemos ver que tenemos usuarios que aún no han realizado llamadas, usado SMS o datos, de todas maneras son usuarios validos."
   ]
  },
  {
   "cell_type": "code",
   "execution_count": 25,
   "metadata": {
    "colab": {
     "base_uri": "https://localhost:8080/",
     "height": 424
    },
    "id": "nfjVwjrPaj3K",
    "outputId": "86a56233-0efb-4e71-bcd9-5bc5add2fe9b"
   },
   "outputs": [
    {
     "data": {
      "text/html": [
       "<div>\n",
       "<style scoped>\n",
       "    .dataframe tbody tr th:only-of-type {\n",
       "        vertical-align: middle;\n",
       "    }\n",
       "\n",
       "    .dataframe tbody tr th {\n",
       "        vertical-align: top;\n",
       "    }\n",
       "\n",
       "    .dataframe thead th {\n",
       "        text-align: right;\n",
       "    }\n",
       "</style>\n",
       "<table border=\"1\" class=\"dataframe\">\n",
       "  <thead>\n",
       "    <tr style=\"text-align: right;\">\n",
       "      <th></th>\n",
       "      <th>user_id</th>\n",
       "      <th>plan</th>\n",
       "      <th>city</th>\n",
       "      <th>month</th>\n",
       "      <th>calls</th>\n",
       "      <th>duration</th>\n",
       "      <th>gb_used</th>\n",
       "      <th>messages</th>\n",
       "    </tr>\n",
       "  </thead>\n",
       "  <tbody>\n",
       "    <tr>\n",
       "      <th>0</th>\n",
       "      <td>1000</td>\n",
       "      <td>ultimate</td>\n",
       "      <td>atlanta-sandy springs-roswell, ga msa</td>\n",
       "      <td>12.0</td>\n",
       "      <td>16.0</td>\n",
       "      <td>124.0</td>\n",
       "      <td>2.0</td>\n",
       "      <td>11.0</td>\n",
       "    </tr>\n",
       "    <tr>\n",
       "      <th>1</th>\n",
       "      <td>1001</td>\n",
       "      <td>surf</td>\n",
       "      <td>seattle-tacoma-bellevue, wa msa</td>\n",
       "      <td>8.0</td>\n",
       "      <td>27.0</td>\n",
       "      <td>182.0</td>\n",
       "      <td>7.0</td>\n",
       "      <td>30.0</td>\n",
       "    </tr>\n",
       "    <tr>\n",
       "      <th>2</th>\n",
       "      <td>1001</td>\n",
       "      <td>surf</td>\n",
       "      <td>seattle-tacoma-bellevue, wa msa</td>\n",
       "      <td>9.0</td>\n",
       "      <td>49.0</td>\n",
       "      <td>315.0</td>\n",
       "      <td>14.0</td>\n",
       "      <td>44.0</td>\n",
       "    </tr>\n",
       "    <tr>\n",
       "      <th>3</th>\n",
       "      <td>1001</td>\n",
       "      <td>surf</td>\n",
       "      <td>seattle-tacoma-bellevue, wa msa</td>\n",
       "      <td>10.0</td>\n",
       "      <td>65.0</td>\n",
       "      <td>393.0</td>\n",
       "      <td>22.0</td>\n",
       "      <td>53.0</td>\n",
       "    </tr>\n",
       "    <tr>\n",
       "      <th>4</th>\n",
       "      <td>1001</td>\n",
       "      <td>surf</td>\n",
       "      <td>seattle-tacoma-bellevue, wa msa</td>\n",
       "      <td>11.0</td>\n",
       "      <td>64.0</td>\n",
       "      <td>426.0</td>\n",
       "      <td>19.0</td>\n",
       "      <td>36.0</td>\n",
       "    </tr>\n",
       "    <tr>\n",
       "      <th>...</th>\n",
       "      <td>...</td>\n",
       "      <td>...</td>\n",
       "      <td>...</td>\n",
       "      <td>...</td>\n",
       "      <td>...</td>\n",
       "      <td>...</td>\n",
       "      <td>...</td>\n",
       "      <td>...</td>\n",
       "    </tr>\n",
       "    <tr>\n",
       "      <th>2298</th>\n",
       "      <td>1498</td>\n",
       "      <td>surf</td>\n",
       "      <td>new york-newark-jersey city, ny-nj-pa msa</td>\n",
       "      <td>12.0</td>\n",
       "      <td>39.0</td>\n",
       "      <td>339.0</td>\n",
       "      <td>23.0</td>\n",
       "      <td>0.0</td>\n",
       "    </tr>\n",
       "    <tr>\n",
       "      <th>2299</th>\n",
       "      <td>1499</td>\n",
       "      <td>surf</td>\n",
       "      <td>orlando-kissimmee-sanford, fl msa</td>\n",
       "      <td>9.0</td>\n",
       "      <td>41.0</td>\n",
       "      <td>346.0</td>\n",
       "      <td>13.0</td>\n",
       "      <td>0.0</td>\n",
       "    </tr>\n",
       "    <tr>\n",
       "      <th>2300</th>\n",
       "      <td>1499</td>\n",
       "      <td>surf</td>\n",
       "      <td>orlando-kissimmee-sanford, fl msa</td>\n",
       "      <td>10.0</td>\n",
       "      <td>53.0</td>\n",
       "      <td>385.0</td>\n",
       "      <td>20.0</td>\n",
       "      <td>0.0</td>\n",
       "    </tr>\n",
       "    <tr>\n",
       "      <th>2301</th>\n",
       "      <td>1499</td>\n",
       "      <td>surf</td>\n",
       "      <td>orlando-kissimmee-sanford, fl msa</td>\n",
       "      <td>11.0</td>\n",
       "      <td>45.0</td>\n",
       "      <td>308.0</td>\n",
       "      <td>17.0</td>\n",
       "      <td>0.0</td>\n",
       "    </tr>\n",
       "    <tr>\n",
       "      <th>2302</th>\n",
       "      <td>1499</td>\n",
       "      <td>surf</td>\n",
       "      <td>orlando-kissimmee-sanford, fl msa</td>\n",
       "      <td>12.0</td>\n",
       "      <td>65.0</td>\n",
       "      <td>496.0</td>\n",
       "      <td>22.0</td>\n",
       "      <td>0.0</td>\n",
       "    </tr>\n",
       "  </tbody>\n",
       "</table>\n",
       "<p>2303 rows × 8 columns</p>\n",
       "</div>"
      ],
      "text/plain": [
       "      user_id      plan                                       city  month  \\\n",
       "0        1000  ultimate      atlanta-sandy springs-roswell, ga msa   12.0   \n",
       "1        1001      surf            seattle-tacoma-bellevue, wa msa    8.0   \n",
       "2        1001      surf            seattle-tacoma-bellevue, wa msa    9.0   \n",
       "3        1001      surf            seattle-tacoma-bellevue, wa msa   10.0   \n",
       "4        1001      surf            seattle-tacoma-bellevue, wa msa   11.0   \n",
       "...       ...       ...                                        ...    ...   \n",
       "2298     1498      surf  new york-newark-jersey city, ny-nj-pa msa   12.0   \n",
       "2299     1499      surf          orlando-kissimmee-sanford, fl msa    9.0   \n",
       "2300     1499      surf          orlando-kissimmee-sanford, fl msa   10.0   \n",
       "2301     1499      surf          orlando-kissimmee-sanford, fl msa   11.0   \n",
       "2302     1499      surf          orlando-kissimmee-sanford, fl msa   12.0   \n",
       "\n",
       "      calls  duration  gb_used  messages  \n",
       "0      16.0     124.0      2.0      11.0  \n",
       "1      27.0     182.0      7.0      30.0  \n",
       "2      49.0     315.0     14.0      44.0  \n",
       "3      65.0     393.0     22.0      53.0  \n",
       "4      64.0     426.0     19.0      36.0  \n",
       "...     ...       ...      ...       ...  \n",
       "2298   39.0     339.0     23.0       0.0  \n",
       "2299   41.0     346.0     13.0       0.0  \n",
       "2300   53.0     385.0     20.0       0.0  \n",
       "2301   45.0     308.0     17.0       0.0  \n",
       "2302   65.0     496.0     22.0       0.0  \n",
       "\n",
       "[2303 rows x 8 columns]"
      ]
     },
     "execution_count": 25,
     "metadata": {},
     "output_type": "execute_result"
    }
   ],
   "source": [
    "#Reemplazamos los valores ausentes por 0\n",
    "callplan_data  =  callplan_data.fillna(0)\n",
    "callplan_data"
   ]
  },
  {
   "cell_type": "code",
   "execution_count": 26,
   "metadata": {
    "colab": {
     "base_uri": "https://localhost:8080/",
     "height": 424
    },
    "id": "x_E8mXM-a19L",
    "outputId": "06d36420-35c1-4d59-efc8-e22c74589eac"
   },
   "outputs": [
    {
     "data": {
      "text/html": [
       "<div>\n",
       "<style scoped>\n",
       "    .dataframe tbody tr th:only-of-type {\n",
       "        vertical-align: middle;\n",
       "    }\n",
       "\n",
       "    .dataframe tbody tr th {\n",
       "        vertical-align: top;\n",
       "    }\n",
       "\n",
       "    .dataframe thead th {\n",
       "        text-align: right;\n",
       "    }\n",
       "</style>\n",
       "<table border=\"1\" class=\"dataframe\">\n",
       "  <thead>\n",
       "    <tr style=\"text-align: right;\">\n",
       "      <th></th>\n",
       "      <th>user_id</th>\n",
       "      <th>plan</th>\n",
       "      <th>city</th>\n",
       "      <th>month</th>\n",
       "      <th>calls</th>\n",
       "      <th>duration</th>\n",
       "      <th>gb_used</th>\n",
       "      <th>messages</th>\n",
       "      <th>revenue</th>\n",
       "    </tr>\n",
       "  </thead>\n",
       "  <tbody>\n",
       "    <tr>\n",
       "      <th>0</th>\n",
       "      <td>1000</td>\n",
       "      <td>ultimate</td>\n",
       "      <td>atlanta-sandy springs-roswell, ga msa</td>\n",
       "      <td>12.0</td>\n",
       "      <td>16.0</td>\n",
       "      <td>124.0</td>\n",
       "      <td>2.0</td>\n",
       "      <td>11.0</td>\n",
       "      <td>70.00</td>\n",
       "    </tr>\n",
       "    <tr>\n",
       "      <th>1</th>\n",
       "      <td>1001</td>\n",
       "      <td>surf</td>\n",
       "      <td>seattle-tacoma-bellevue, wa msa</td>\n",
       "      <td>8.0</td>\n",
       "      <td>27.0</td>\n",
       "      <td>182.0</td>\n",
       "      <td>7.0</td>\n",
       "      <td>30.0</td>\n",
       "      <td>20.00</td>\n",
       "    </tr>\n",
       "    <tr>\n",
       "      <th>2</th>\n",
       "      <td>1001</td>\n",
       "      <td>surf</td>\n",
       "      <td>seattle-tacoma-bellevue, wa msa</td>\n",
       "      <td>9.0</td>\n",
       "      <td>49.0</td>\n",
       "      <td>315.0</td>\n",
       "      <td>14.0</td>\n",
       "      <td>44.0</td>\n",
       "      <td>20.00</td>\n",
       "    </tr>\n",
       "    <tr>\n",
       "      <th>3</th>\n",
       "      <td>1001</td>\n",
       "      <td>surf</td>\n",
       "      <td>seattle-tacoma-bellevue, wa msa</td>\n",
       "      <td>10.0</td>\n",
       "      <td>65.0</td>\n",
       "      <td>393.0</td>\n",
       "      <td>22.0</td>\n",
       "      <td>53.0</td>\n",
       "      <td>90.09</td>\n",
       "    </tr>\n",
       "    <tr>\n",
       "      <th>4</th>\n",
       "      <td>1001</td>\n",
       "      <td>surf</td>\n",
       "      <td>seattle-tacoma-bellevue, wa msa</td>\n",
       "      <td>11.0</td>\n",
       "      <td>64.0</td>\n",
       "      <td>426.0</td>\n",
       "      <td>19.0</td>\n",
       "      <td>36.0</td>\n",
       "      <td>60.00</td>\n",
       "    </tr>\n",
       "    <tr>\n",
       "      <th>...</th>\n",
       "      <td>...</td>\n",
       "      <td>...</td>\n",
       "      <td>...</td>\n",
       "      <td>...</td>\n",
       "      <td>...</td>\n",
       "      <td>...</td>\n",
       "      <td>...</td>\n",
       "      <td>...</td>\n",
       "      <td>...</td>\n",
       "    </tr>\n",
       "    <tr>\n",
       "      <th>2298</th>\n",
       "      <td>1498</td>\n",
       "      <td>surf</td>\n",
       "      <td>new york-newark-jersey city, ny-nj-pa msa</td>\n",
       "      <td>12.0</td>\n",
       "      <td>39.0</td>\n",
       "      <td>339.0</td>\n",
       "      <td>23.0</td>\n",
       "      <td>0.0</td>\n",
       "      <td>100.00</td>\n",
       "    </tr>\n",
       "    <tr>\n",
       "      <th>2299</th>\n",
       "      <td>1499</td>\n",
       "      <td>surf</td>\n",
       "      <td>orlando-kissimmee-sanford, fl msa</td>\n",
       "      <td>9.0</td>\n",
       "      <td>41.0</td>\n",
       "      <td>346.0</td>\n",
       "      <td>13.0</td>\n",
       "      <td>0.0</td>\n",
       "      <td>20.00</td>\n",
       "    </tr>\n",
       "    <tr>\n",
       "      <th>2300</th>\n",
       "      <td>1499</td>\n",
       "      <td>surf</td>\n",
       "      <td>orlando-kissimmee-sanford, fl msa</td>\n",
       "      <td>10.0</td>\n",
       "      <td>53.0</td>\n",
       "      <td>385.0</td>\n",
       "      <td>20.0</td>\n",
       "      <td>0.0</td>\n",
       "      <td>70.00</td>\n",
       "    </tr>\n",
       "    <tr>\n",
       "      <th>2301</th>\n",
       "      <td>1499</td>\n",
       "      <td>surf</td>\n",
       "      <td>orlando-kissimmee-sanford, fl msa</td>\n",
       "      <td>11.0</td>\n",
       "      <td>45.0</td>\n",
       "      <td>308.0</td>\n",
       "      <td>17.0</td>\n",
       "      <td>0.0</td>\n",
       "      <td>40.00</td>\n",
       "    </tr>\n",
       "    <tr>\n",
       "      <th>2302</th>\n",
       "      <td>1499</td>\n",
       "      <td>surf</td>\n",
       "      <td>orlando-kissimmee-sanford, fl msa</td>\n",
       "      <td>12.0</td>\n",
       "      <td>65.0</td>\n",
       "      <td>496.0</td>\n",
       "      <td>22.0</td>\n",
       "      <td>0.0</td>\n",
       "      <td>90.00</td>\n",
       "    </tr>\n",
       "  </tbody>\n",
       "</table>\n",
       "<p>2303 rows × 9 columns</p>\n",
       "</div>"
      ],
      "text/plain": [
       "      user_id      plan                                       city  month  \\\n",
       "0        1000  ultimate      atlanta-sandy springs-roswell, ga msa   12.0   \n",
       "1        1001      surf            seattle-tacoma-bellevue, wa msa    8.0   \n",
       "2        1001      surf            seattle-tacoma-bellevue, wa msa    9.0   \n",
       "3        1001      surf            seattle-tacoma-bellevue, wa msa   10.0   \n",
       "4        1001      surf            seattle-tacoma-bellevue, wa msa   11.0   \n",
       "...       ...       ...                                        ...    ...   \n",
       "2298     1498      surf  new york-newark-jersey city, ny-nj-pa msa   12.0   \n",
       "2299     1499      surf          orlando-kissimmee-sanford, fl msa    9.0   \n",
       "2300     1499      surf          orlando-kissimmee-sanford, fl msa   10.0   \n",
       "2301     1499      surf          orlando-kissimmee-sanford, fl msa   11.0   \n",
       "2302     1499      surf          orlando-kissimmee-sanford, fl msa   12.0   \n",
       "\n",
       "      calls  duration  gb_used  messages  revenue  \n",
       "0      16.0     124.0      2.0      11.0    70.00  \n",
       "1      27.0     182.0      7.0      30.0    20.00  \n",
       "2      49.0     315.0     14.0      44.0    20.00  \n",
       "3      65.0     393.0     22.0      53.0    90.09  \n",
       "4      64.0     426.0     19.0      36.0    60.00  \n",
       "...     ...       ...      ...       ...      ...  \n",
       "2298   39.0     339.0     23.0       0.0   100.00  \n",
       "2299   41.0     346.0     13.0       0.0    20.00  \n",
       "2300   53.0     385.0     20.0       0.0    70.00  \n",
       "2301   45.0     308.0     17.0       0.0    40.00  \n",
       "2302   65.0     496.0     22.0       0.0    90.00  \n",
       "\n",
       "[2303 rows x 9 columns]"
      ]
     },
     "execution_count": 26,
     "metadata": {},
     "output_type": "execute_result"
    }
   ],
   "source": [
    "# Calculando los ingresos mensuales de cada usuario\n",
    "\n",
    "#Creamos una funcion\n",
    "def calculate_revenue(row):\n",
    "    user_id = row['user_id']\n",
    "    gb_used = row['gb_used']\n",
    "    messages_sent = row['messages']\n",
    "    minutes_sent = row['duration']\n",
    "\n",
    "    #Extraemos el plan y los detalles para guardarlos en variables\n",
    "    plan_type = users.loc[users['user_id'] == user_id, 'plan'].iloc[0]\n",
    "    plan_detail = plans.loc[plans['plan_name'] == plan_type]\n",
    "    \n",
    "    #Extraemos los detalles de cada plan y los guardamos en variables\n",
    "    minutes_included = plan_detail['minutes_included'].iloc[0]\n",
    "    messages_included = plan_detail['messages_included'].iloc[0]\n",
    "    gb_per_month_included = plan_detail['gb_per_month_included'].iloc[0]\n",
    "\n",
    "    #Extraemos el valor mensual de cada plan\n",
    "    usd_monthly_pay = plan_detail['usd_monthly_pay'].iloc[0]\n",
    "\n",
    "    #Extraemos los valores luego de exceder los limites\n",
    "    usd_per_gb = plan_detail['usd_per_gb'].iloc[0]\n",
    "    usd_per_message =plan_detail['usd_per_message'].iloc[0]\n",
    "    usd_per_minute = plan_detail['usd_per_minute'].iloc[0]\n",
    "\n",
    "    #Creamos nuestras variables para guardar los totales luego de exceder los limites del plan\n",
    "    total_internet_cost = 0\n",
    "    total_message_cost = 0    \n",
    "    total_minute_cost = 0  \n",
    "    #Realizamos los calculos segun corresponda\n",
    "    if minutes_sent > minutes_included:\n",
    "        total_minute_cost = (minutes_sent - minutes_included) * usd_per_minute \n",
    "    if messages_sent > messages_included:\n",
    "        total_message_cost = (messages_sent - messages_included) *  usd_per_message\n",
    "    if gb_used > gb_per_month_included:\n",
    "        total_internet_cost = (gb_used - gb_per_month_included) *  usd_per_gb \n",
    "    \n",
    "    return (total_minute_cost+total_message_cost+total_internet_cost+usd_monthly_pay)\n",
    "\n",
    "#Aplicamos nuestra función a nuestra tabla combinada\n",
    "callplan_data['revenue'] = callplan_data.apply(calculate_revenue, axis=1)\n",
    "\n",
    "callplan_data"
   ]
  },
  {
   "cell_type": "code",
   "execution_count": 27,
   "metadata": {},
   "outputs": [
    {
     "data": {
      "text/plain": [
       "500"
      ]
     },
     "execution_count": 27,
     "metadata": {},
     "output_type": "execute_result"
    }
   ],
   "source": [
    "#Nos aseguramos de que aún se mantienen nuestros 500 usuarios\n",
    "callplan_data[\"user_id\"].nunique()"
   ]
  },
  {
   "cell_type": "markdown",
   "metadata": {
    "id": "Pn8B-OG2jStf"
   },
   "source": [
    "## Conclusión\n",
    "Calculamos los ingresos mensuales de cada usuario fusionando los conjuntos de datos de llamadas, SMS, datos y usuarios. Ahora nuestros datos se combinan con todas las columnas de uso de los usuarios e ingresos."
   ]
  },
  {
   "cell_type": "markdown",
   "metadata": {
    "id": "3bc5p1NMkoZE"
   },
   "source": [
    "# Analizar los datos\n",
    "\n",
    "Procederemos a analizar el comportamiento de los clientes, para ello calcularemos la media, la varianza y la desviación estándar para los clientes de cada plan.\n"
   ]
  },
  {
   "cell_type": "code",
   "execution_count": 28,
   "metadata": {
    "colab": {
     "base_uri": "https://localhost:8080/"
    },
    "id": "ne46Doexjoh5",
    "outputId": "e1e9fafd-bbe7-4fa6-8790-ba6fc92fdadc"
   },
   "outputs": [
    {
     "name": "stdout",
     "output_type": "stream",
     "text": [
      "Media de calls: 59.58\n",
      "Mediana de calls: 60.00\n",
      "Varianza de calls: 1034.15\n",
      "Desviación estandar de calls: 32.16 \n",
      "\n",
      "Media de duration: 427.12\n",
      "Mediana de duration: 424.00\n",
      "Varianza de duration: 55420.46\n",
      "Desviación estandar de duration: 235.42 \n",
      "\n",
      "Media de messages: 31.04\n",
      "Mediana de messages: 24.00\n",
      "Varianza de messages: 1125.40\n",
      "Desviación estandar de messages: 33.55 \n",
      "\n",
      "Media de gb_used: 16.61\n",
      "Mediana de gb_used: 17.00\n",
      "Varianza de gb_used: 62.36\n",
      "Desviación estandar de gb_used: 7.90 \n",
      "\n",
      "Media de revenue: 60.55\n",
      "Mediana de revenue: 40.18\n",
      "Varianza de revenue: 3060.51\n",
      "Desviación estandar de revenue: 55.32 \n",
      "\n"
     ]
    }
   ],
   "source": [
    "# Calculamos la media, varianza y desviación estándar para el plan Surf\n",
    "\n",
    "#Separamos nuestros datos del plan surf\n",
    "surf_data = callplan_data.query('plan ==\"surf\"')\n",
    "#Aplicamos una funcion para calcular los ingresos\n",
    "for column in surf_data[['calls','duration','messages','gb_used','revenue']]:\n",
    "    \n",
    "    print('Media de {}: {:.2f}'.format(column,surf_data[column].mean()))\n",
    "    \n",
    "    print('Mediana de {}: {:.2f}'.format(column,surf_data[column].median()))\n",
    "    \n",
    "    print('Varianza de {}: {:.2f}'.format(column,np.var(surf_data[column])))\n",
    "    \n",
    "    print('Desviación estandar de {}: {:.2f} \\n'.format(column,np.std(surf_data[column])))"
   ]
  },
  {
   "cell_type": "code",
   "execution_count": 29,
   "metadata": {
    "colab": {
     "base_uri": "https://localhost:8080/"
    },
    "id": "pGHXiLLIm6VG",
    "outputId": "1da57c06-161b-411b-ebc8-5d0d1d475092"
   },
   "outputs": [
    {
     "name": "stdout",
     "output_type": "stream",
     "text": [
      "Media de calls: 60.29\n",
      "Mediana de calls: 61.00\n",
      "Varianza de calls: 1117.66\n",
      "Desviación estándar de calls: 33.43 \n",
      "\n",
      "Media de duration: 428.07\n",
      "Mediana de duration: 421.50\n",
      "Varianza de duration: 58463.02\n",
      "Desviación estándar de duration: 241.79 \n",
      "\n",
      "Media de messages: 37.34\n",
      "Mediana de messages: 30.00\n",
      "Varianza de messages: 1208.16\n",
      "Desviación estándar de messages: 34.76 \n",
      "\n",
      "Media de gb_used: 17.21\n",
      "Mediana de gb_used: 17.00\n",
      "Varianza de gb_used: 60.07\n",
      "Desviación estándar de gb_used: 7.75 \n",
      "\n",
      "Media de revenue: 72.30\n",
      "Mediana de revenue: 70.00\n",
      "Varianza de revenue: 128.98\n",
      "Desviación estándar de revenue: 11.36 \n",
      "\n"
     ]
    }
   ],
   "source": [
    "# Calculamos la media, varianza y desviación estándar para el plan Ultimate\n",
    "\n",
    "#Separamos nuestros datos del plan ultimate\n",
    "ultimate_data = callplan_data.query('plan ==\"ultimate\"')\n",
    "#Aplicamos una funcion para calcular los ingresos\n",
    "for column in ultimate_data[['calls','duration','messages','gb_used','revenue']]:\n",
    "    \n",
    "    print('Media de {}: {:.2f}'. format(column,ultimate_data[column].mean()))\n",
    "    \n",
    "    print('Mediana de {}: {:.2f}'. format(column,ultimate_data[column].median()))\n",
    "    \n",
    "    print('Varianza de {}: {:.2f}'. format(column,np.var(ultimate_data[column])))\n",
    "    \n",
    "    print('Desviación estándar de {}: {:.2f} \\n'.format(column,np.std(ultimate_data[column])))"
   ]
  },
  {
   "cell_type": "markdown",
   "metadata": {
    "id": "ZV9zwscnk40-"
   },
   "source": [
    "*   En promedio los usuarios del plan `Surf` realiza `60` llamadas de `428` minutos, envía `32` mensajes y usa `17 GB` en datos al mes.\n",
    "*   Mientras que los usuarios del plan `Ultimate` realiza `61` llamadas de `429` minutos, envía `38` mensajes y usa `18 GB` en datos al mes.\n",
    "*   Podemos ver que los usuarios del plan `Ultimate` tiende a tener un consumo levemente mayor que los del plan `Surf`, que es imaginable por las caracteristicas de cada plan.\n",
    "*   En promedio los usuarios del plan `Surf` suele exceder los límites de datos de su plan base, por lo que deben pagar extra por cada GB excedido.\n",
    "*   En el caso del plan `Ultimate`, el usuario promedio no suele excederse en ningún limite de los establecidos en su plan, porque no suelen pagar extras.\n",
    "*   El uso típico que se le da a cada plan es muy similar pero en el caso del plan `Ultimate` es levemente mayor, a pesar de ello, los que suelen excederse de sus limites son los usuarios del plan `Surf`. \n",
    "* A pesar de que los usuarios de `Surf` suelen pagar por excedentes, el plan con más ingresos sigue siendo `Ultimate` por el valor base mensual.\n"
   ]
  },
  {
   "cell_type": "markdown",
   "metadata": {
    "id": "pzHDsXPardca"
   },
   "source": [
    "Continuemos investigando y trazemos histogramas para comprobar nuestras hipotesis."
   ]
  },
  {
   "cell_type": "code",
   "execution_count": 30,
   "metadata": {},
   "outputs": [],
   "source": [
    "def distribution(parameter):\n",
    "    print('Histograma y boxplot de {}'.format(parameter))\n",
    "    print('')\n",
    "    fig, axes = plt.subplots(1,2,figsize=(16, 5))\n",
    "    sns.histplot(data=callplan_data,bins=80,x=parameter,hue='plan',ax=axes[0])\n",
    "    sns.boxplot(data=callplan_data,x=parameter,y='plan',showfliers = True, orient=\"h\", palette=\"Set2\",ax=axes[1])\n",
    "    if callplan_data[parameter].median()>callplan_data[parameter].median():\n",
    "        print('La distribución está sesgada a la derecha')\n",
    "    else:\n",
    "        print('La distribución está sesgada a la izquierda.')"
   ]
  },
  {
   "cell_type": "markdown",
   "metadata": {},
   "source": [
    "<div class=\"alert alert-block alert-info\">\n",
    "Toda la razón.<a class=\"tocSkip\"></a>\n",
    "</div>"
   ]
  },
  {
   "cell_type": "code",
   "execution_count": 31,
   "metadata": {
    "scrolled": false
   },
   "outputs": [
    {
     "name": "stdout",
     "output_type": "stream",
     "text": [
      "Histograma y boxplot de calls\n",
      "\n",
      "La distribución está sesgada a la izquierda.\n"
     ]
    },
    {
     "data": {
      "image/png": "[encoded data removed]",
      "text/plain": [
       "<Figure size 1152x360 with 2 Axes>"
      ]
     },
     "metadata": {
      "needs_background": "light"
     },
     "output_type": "display_data"
    }
   ],
   "source": [
    "distribution('calls')"
   ]
  },
  {
   "cell_type": "code",
   "execution_count": 32,
   "metadata": {
    "colab": {
     "base_uri": "https://localhost:8080/",
     "height": 312
    },
    "id": "sk3-IVqetNWn",
    "outputId": "ab8421fb-bf1b-4d83-9813-fcb7337800dc"
   },
   "outputs": [
    {
     "name": "stdout",
     "output_type": "stream",
     "text": [
      "Histograma y boxplot de duration\n",
      "\n",
      "La distribución está sesgada a la izquierda.\n"
     ]
    },
    {
     "data": {
      "image/png": "[encoded data removed]",
      "text/plain": [
       "<Figure size 1152x360 with 2 Axes>"
      ]
     },
     "metadata": {
      "needs_background": "light"
     },
     "output_type": "display_data"
    }
   ],
   "source": [
    "distribution('duration')"
   ]
  },
  {
   "cell_type": "code",
   "execution_count": 33,
   "metadata": {},
   "outputs": [
    {
     "name": "stdout",
     "output_type": "stream",
     "text": [
      "Histograma y boxplot de messages\n",
      "\n",
      "La distribución está sesgada a la izquierda.\n"
     ]
    },
    {
     "data": {
      "image/png": "[encoded data removed]",
      "text/plain": [
       "<Figure size 1152x360 with 2 Axes>"
      ]
     },
     "metadata": {
      "needs_background": "light"
     },
     "output_type": "display_data"
    }
   ],
   "source": [
    "distribution('messages')"
   ]
  },
  {
   "cell_type": "code",
   "execution_count": 34,
   "metadata": {},
   "outputs": [
    {
     "name": "stdout",
     "output_type": "stream",
     "text": [
      "Histograma y boxplot de gb_used\n",
      "\n",
      "La distribución está sesgada a la izquierda.\n"
     ]
    },
    {
     "data": {
      "image/png": "[encoded data removed]",
      "text/plain": [
       "<Figure size 1152x360 with 2 Axes>"
      ]
     },
     "metadata": {
      "needs_background": "light"
     },
     "output_type": "display_data"
    }
   ],
   "source": [
    "distribution('gb_used')"
   ]
  },
  {
   "cell_type": "code",
   "execution_count": 35,
   "metadata": {
    "scrolled": false
   },
   "outputs": [
    {
     "name": "stdout",
     "output_type": "stream",
     "text": [
      "Histograma y boxplot de revenue\n",
      "\n",
      "La distribución está sesgada a la izquierda.\n"
     ]
    },
    {
     "data": {
      "image/png": "[encoded data removed]",
      "text/plain": [
       "<Figure size 1152x360 with 2 Axes>"
      ]
     },
     "metadata": {
      "needs_background": "light"
     },
     "output_type": "display_data"
    }
   ],
   "source": [
    "distribution('revenue')"
   ]
  },
  {
   "cell_type": "markdown",
   "metadata": {},
   "source": [
    "**Conclusión**\n",
    "\n",
    "*  A pesar de que los promedios nos indicaran que los usuarios en promedio del plan `Surf` tenía un consumo promedio menor que los del plan `Ultimate`, podemos ver en los histogramas que los clientes con el plan `Ultimate` usan menos frecuentemente sms, datos de navegación y minutos que los clientes de `Surf`. Estos resultados también se pueden deber a que hay menos usuarios en el plan `Ultimate`.\n",
    "*  De los boxplot podemos ver que la duracion de llamadas de ambos planes en muy similar, a diferencia del uso de sms que vemos como algunos clientes del plan `Ultimate` tienen cantidades más altas.\n",
    "* En el caso de los ingresos, tenemos que casi todos los usuarios de `Ultimate` pagan alrededor de `70$`, por lo que podemos inferir que el cupo del plan `Ultimate` es suficiente para la gran mayoria de usuarios, a diferencia de los usuarios de `Surf` que tienen una distribucion de frecuencias más amplia debido a exceder sus cupos."
   ]
  },
  {
   "cell_type": "markdown",
   "metadata": {
    "id": "yo6kcMh2yLXs"
   },
   "source": [
    "# Probar las hipotesis\n",
    "\n",
    "Se nos presentan dos hipotesis para nuestros datos:\n",
    "\n",
    "1.   El ingreso promedio de los usuarios de las tarifas Ultimate y Surf difiere.\n",
    "2.   El ingreso promedio de los usuarios en el área de estados Nueva York-Nueva Jersey es diferente al de los usuarios de otras regiones.\n",
    "\n",
    "En este punto probaremos ambas hipotesis:\n",
    "\n",
    "\n"
   ]
  },
  {
   "cell_type": "markdown",
   "metadata": {},
   "source": [
    "**El ingreso promedio de los usuarios de las tarifas Ultimate y Surf difiere.**"
   ]
  },
  {
   "cell_type": "markdown",
   "metadata": {},
   "source": [
    "Antes de comenzar a realizar nuestro procedimiento para validar si el ingreso promedio de los usuarios de las tarifas Ultimate y Surf difiere, validaremos si la varianza de los ingresos para ambos planes varían, de esta forma podremos aplicar con mayor certeza nuestro t-test. Usaremos una prueba levene con los siguientes parametros:\n",
    "\n",
    "$$H_0: \\text{El varianza del los ingresos de los usuarios de las tarifas Ultimate y Surf no difiere.}$$\n",
    "$$H_1: \\text{El varianza del los ingresos de los usuarios de las tarifas Ultimate y Surf difiere.}$$\n",
    "$$alpha: \\text{5%}$$\n"
   ]
  },
  {
   "cell_type": "code",
   "execution_count": 36,
   "metadata": {},
   "outputs": [
    {
     "name": "stdout",
     "output_type": "stream",
     "text": [
      "p-value: 3.070976609395645e-83\n",
      "Rechazamos la hipótesis nula\n"
     ]
    }
   ],
   "source": [
    "#importamos levene\n",
    "from scipy.stats import levene\n",
    "\n",
    "alpha = 0.05 # significación estadística crítica\n",
    "# si el valor p es menor que alfa, rechazamos la hipótesis\n",
    "\n",
    "stat, results= levene(surf_data['revenue'], ultimate_data['revenue'])\n",
    "\n",
    "print('p-value:', results)\n",
    "\n",
    "if (results < alpha):\n",
    "        print('Rechazamos la hipótesis nula')\n",
    "else:\n",
    "    print('No rechazamos la hipótesis nula')"
   ]
  },
  {
   "cell_type": "markdown",
   "metadata": {},
   "source": [
    "Se rechaza la hipótesis nula sobre la igualdad de varianzas para los ingresos de usuarios del plan `Surf` y `Ultimate`, por lo que hay una diferencia considerable entre la dispersion de los datos para ambos planes ambos planes. Con esto podemos proceder a realizar un t-test a nuestros datos y determinar la hipotesis inicial"
   ]
  },
  {
   "cell_type": "markdown",
   "metadata": {
    "id": "2AGIooH4y0Nr"
   },
   "source": [
    "$$H_0: \\text{El ingreso promedio de los usuarios de las tarifas Ultimate y Surf no difiere.}$$\n",
    "$$H_1: \\text{El ingreso promedio de los usuarios de las tarifas Ultimate y Surf difiere.}$$\n",
    "$$alpha: \\text{5%}$$\n",
    "$$equal var = \\text{False}$$\n",
    "\n",
    "Empezamos con la hipótesis nula H₀ que son los ingresos medios de los usuarios de los planes `Ultimate` y `Surf` no difieren. La hipótesis alternativa, H₁ es que los ingresos medios de los usuarios de los planes `Ultimate` y `Surf` difieren. Para ello, utilizaremos un alfa de `0,05`, lo que significa que sólo en el 5% de los casos rechazaremos la hipótesis nula cuando sea cierta. Sabemos además que la varianza de ambas muestras no es igual por lo que el parametro `equal_var` será igual a `False`."
   ]
  },
  {
   "cell_type": "code",
   "execution_count": 37,
   "metadata": {
    "colab": {
     "base_uri": "https://localhost:8080/"
    },
    "id": "v5Ai3iOmzU_H",
    "outputId": "568ef223-f73f-4053-88f0-2e9276124bd5"
   },
   "outputs": [
    {
     "name": "stdout",
     "output_type": "stream",
     "text": [
      "Media de Surf: 60.551728942368584 Desviación estándar de Surf: 55.33937895940068\n",
      "Media de Ultimate: 72.3011049723757 Desviación estándar de Ultimate: 11.364838590013967\n"
     ]
    }
   ],
   "source": [
    "#Calculamos la media y desviación estándar de cada plan\n",
    "surf_mean = surf_data['revenue'].mean()\n",
    "surf_std = surf_data['revenue'].std()\n",
    "print('Media de Surf:',surf_mean,'Desviación estándar de Surf:',surf_std)\n",
    "ultimate_mean = ultimate_data['revenue'].mean()\n",
    "ultimate_std = ultimate_data['revenue'].std()\n",
    "print('Media de Ultimate:',ultimate_mean,'Desviación estándar de Ultimate:',ultimate_std)"
   ]
  },
  {
   "cell_type": "code",
   "execution_count": 38,
   "metadata": {
    "colab": {
     "base_uri": "https://localhost:8080/"
    },
    "id": "g1vZBCgez6Yk",
    "outputId": "d77459c5-04db-4844-b2a7-3d99316a8737"
   },
   "outputs": [
    {
     "name": "stdout",
     "output_type": "stream",
     "text": [
      "p-value: 1.2184115852123163e-15\n",
      "Rechazamos la hipótesis nula\n"
     ]
    }
   ],
   "source": [
    "alpha = 0.05 # significación estadística crítica\n",
    "# si el valor p es menor que alfa, rechazamos la hipótesis\n",
    "\n",
    "results = st.ttest_ind(surf_data['revenue'], ultimate_data['revenue'],equal_var = False)\n",
    "\n",
    "print('p-value:', results.pvalue)\n",
    "\n",
    "\n",
    "if (results.pvalue < alpha):\n",
    "        print('Rechazamos la hipótesis nula')\n",
    "else:\n",
    "    print('No rechazamos la hipótesis nula')"
   ]
  },
  {
   "cell_type": "markdown",
   "metadata": {
    "id": "AAD4jNKn016k"
   },
   "source": [
    "Tras someter nuestra muestra de datos a la prueba con un nivel de significación estadística de `0,05`, se ha rechazado nuestra hipótesis sobre la igualdad de las medias de las muestras pareadas y la media de `Surf` no es igual a la media de `Ultimate`.\n",
    "\n",
    "**Conclusión 1**\n",
    "\n",
    "*  El varianza del los ingresos de los usuarios de las tarifas Ultimate y Surf difiere.\n",
    "*  El ingreso promedio de los usuarios de las tarifas Ultimate y Surf difiere.\n",
    "*  Con estos resultados más nuestro analisis anterior, podemos decir que hay una diferencia considerable entre los ingresos mensuales de cada plan de Megaline, en la cual hay una tendencia clara a que el los ingresos de `Ultimate` son superiores en promedio. \n"
   ]
  },
  {
   "cell_type": "markdown",
   "metadata": {
    "id": "naR46ege1QGl"
   },
   "source": [
    "**El ingreso promedio de los usuarios en el área de estados Nueva York-Nueva Jersey es diferente al de los usuarios de otras regiones.**"
   ]
  },
  {
   "cell_type": "markdown",
   "metadata": {
    "id": "vn8LvRC44YKx"
   },
   "source": [
    "Al igual que en el caso anterior, comenzaremos comprobando la igualdad de varianzas de nuestros ingresos dentro y fuera del área Nueva York y Nueva Jersey, para ello aplicaremos una prueba levene:\n",
    "\n",
    "$$H_0: \\text{La varianza de ingresos del área de estados Nueva York-Nueva Jersey es igual al de los usuarios de otras regiones.}$$\n",
    "$$H_1: \\text{La varianza de ingresos del área de estados Nueva York-Nueva Jersey no es igual al de los usuarios de otras regiones.}$$\n",
    "$$alpha: \\text{5%}$$"
   ]
  },
  {
   "cell_type": "code",
   "execution_count": 39,
   "metadata": {},
   "outputs": [
    {
     "name": "stdout",
     "output_type": "stream",
     "text": [
      "p-value: 0.13166997048838908\n",
      "No rechazamos la hipótesis nula\n"
     ]
    }
   ],
   "source": [
    "alpha = 0.05 # significación estadística crítica\n",
    "# si el valor p es menor que alfa, rechazamos la hipótesis\n",
    "\n",
    "#Separamos nuestros datos de NY-NJ y el resto en distintos dataframes\n",
    "user_data_NY_NJ = callplan_data.query('city == \"new york-newark-jersey city, ny-nj-pa msa\"')\n",
    "user_data_not_NY_NJ = callplan_data.query('city != \"new york-newark-jersey city, ny-nj-pa msa\"')\n",
    "#Aplicamos la prueba levene\n",
    "stat, results= levene(user_data_NY_NJ['revenue'], user_data_not_NY_NJ['revenue'])\n",
    "\n",
    "print('p-value:', results)\n",
    "\n",
    "if (results < alpha):\n",
    "        print('Rechazamos la hipótesis nula')\n",
    "else:\n",
    "    print('No rechazamos la hipótesis nula')"
   ]
  },
  {
   "cell_type": "markdown",
   "metadata": {},
   "source": [
    "No se rechaza la hipótesis nula, por lo que la varianza de los ingresos del área de estados Nueva York-Nueva Jersey es muy similar a la de los usuarios de otras regiones. Procedemos a usar esta info en nuestro t-test:\n",
    "\n",
    "$$H_0: \\text{El ingreso promedio de los usuarios en el área de estados Nueva York-Nueva Jersey es igual al de los usuarios de otras regiones.}$$\n",
    "$$H_1: \\text{El ingreso promedio de los usuarios en el área de estados Nueva York-Nueva Jersey es diferente al de los usuarios de otras regiones.}$$\n",
    "$$alpha: \\text{5%}$$\n",
    "$$equal var = \\text{True}$$\n",
    "\n",
    "Veamos los pasos para probar la segunda hipótesis. Empezamos con la hipótesis nula H₀, que es \"El ingreso promedio de los usuarios en el área de estados Nueva York-Nueva Jersey no es diferente al de los usuarios de otras regiones\". La hipótesis alternativa, H₁, es \"El ingreso promedio de los usuarios en el área de estados Nueva York-Nueva Jersey es diferente al de los usuarios de otras regiones\".\n",
    "\n",
    "Para ello, utilizaremos un alfa de 0,05, lo que significa que sólo en el 5% de los casos rechazaremos la hipótesis nula cuando sea cierta.\n"
   ]
  },
  {
   "cell_type": "code",
   "execution_count": 40,
   "metadata": {
    "colab": {
     "base_uri": "https://localhost:8080/"
    },
    "id": "g9Ndfarj2rNl",
    "outputId": "1e4dc669-3411-4704-95d0-f4fce2d28241"
   },
   "outputs": [
    {
     "name": "stdout",
     "output_type": "stream",
     "text": [
      "Media de usuarios de NY-NJ:  59.95 Desviación estándar de usuarios de NY-NJ:  43.48\n",
      "Media de usuarios de otras regiones:  65.09 Desviación estándar de usuarios de otras regiones:  47.13\n"
     ]
    }
   ],
   "source": [
    "#El ingreso promedio de los usuarios en el área de estados Nueva York-Nueva Jersey es \n",
    "#diferente al de los usuarios de otras regiones.\n",
    "\n",
    "#Calculamos sus media y desviación estándar\n",
    "user_data_NY_NJ_mu = user_data_NY_NJ['revenue'].mean().round(decimals=2)\n",
    "user_data_not_NY_NJ_mu = user_data_not_NY_NJ['revenue'].mean().round(decimals=2)\n",
    "user_data_NY_NJ_std = user_data_NY_NJ['revenue'].std().round(decimals=2)\n",
    "user_data_not_NY_NJ_std = user_data_not_NY_NJ['revenue'].std().round(decimals=2)\n",
    "\n",
    "print('Media de usuarios de NY-NJ: ', user_data_NY_NJ_mu, 'Desviación estándar de usuarios de NY-NJ: ', user_data_NY_NJ_std)\n",
    "\n",
    "print('Media de usuarios de otras regiones: ', user_data_not_NY_NJ_mu, \n",
    "      'Desviación estándar de usuarios de otras regiones: ',user_data_not_NY_NJ_std)"
   ]
  },
  {
   "cell_type": "code",
   "execution_count": 41,
   "metadata": {
    "colab": {
     "base_uri": "https://localhost:8080/"
    },
    "id": "jheULKtD4InM",
    "outputId": "28d04da0-2fc6-4caa-ebf3-5d9085735aff"
   },
   "outputs": [
    {
     "name": "stdout",
     "output_type": "stream",
     "text": [
      "p-value:  0.04974528277407551\n",
      "Rechazamos la hipótesis nula\n"
     ]
    }
   ],
   "source": [
    "alpha = 0.05 # significación estadística crítica\n",
    "# si el valor p es menor que alfa, rechazamos la hipótesis\n",
    "\n",
    "results = st.ttest_ind(user_data_NY_NJ['revenue'], user_data_not_NY_NJ['revenue'], equal_var= True)\n",
    "\n",
    "print('p-value: ', results.pvalue)\n",
    "\n",
    "if (results.pvalue < alpha):\n",
    "        print('Rechazamos la hipótesis nula')\n",
    "else:\n",
    "        print('No rechazamos la hipótesis nula')"
   ]
  },
  {
   "cell_type": "markdown",
   "metadata": {},
   "source": [
    "El t-test nos dice que los ingresos medios de los usuarios de la zona de Nueva York y Nueva Jersey son diferentes a los de los usuarios de otras regiones, lo que significa que los usuarios de las grandes ciudades aportan más ingresos que los de otras regiones, independientemente del tipo de planes de llamadas que elijan.\n"
   ]
  },
  {
   "cell_type": "markdown",
   "metadata": {
    "id": "eWfvG5EB4-tZ"
   },
   "source": [
    "# Conclusión general\n",
    "\n",
    "*  Luego de conocer nuestros datos, cambiamos los tipos de datos que estaban mal establecidos para evitar conflictos en nuestro análisis posterior, renombramos columnas, preprocesamos los valores ausentes y nos aseguramos de que nuestra data estuviera lista para trabajarla.  \n",
    "*  Enriquecimos nuestros datos para facilitar nuestro análisis añadiendo parámetros como llamadas, minutos, SMS y datos utilizados al mes por cada usuario, además de los ingresos mensuales para analizar su rentabilidad.\n",
    "*  Procedimos a analizar el comportamiento de los clientes calculando la media, varianza y desviación estándar por cada plan, encontramos que los valores promedio para los usuarios del plan `Ultimate` tienden a ser ligeramente mayores, exceptuando los ingresos mensuales, ya que podemos notar un aumento mucho mayor para el plan `Ultimate`. Los ingresos para el plan `Surf` es de `60.55$` mientras que para el `Ultimate` es `72.30$` en promedio, por lo que podemos concluir que `Ultimate` es el plan que genera más ingresos por usuario. En este punto notamos también que los usuarios del plan `Surf` suelen excederse de los cupos base de su plan, por lo que pagan extras.\n",
    "*  Luego nos centramos en generar graficos que nos ayudaran a aclarar nuestras primeras conclusiones y nos ayudaran a generar nuevas, para ello trazamos histogramas y boxplots. De este punto pudimos detectar que en realidad los que más consumen recursos (llamadas, sms y datos) son los del plan `Surf`, esto se debe a que la mayoria de los usuarios son de este plan.\n",
    "*  El uso de llamadas de los clientes `Surf` y `Ultimate` es muy similar, a diferencia de los sms que los ususarios `Ultimate` suelen usar con mucha más regularidad.\n",
    "*  Tambien confirmamos que los usuarios `Surf` tienen a excederse del cupo de sus planes, a diferencia de los `Ultimate` pagan solo el cargo mensual.\n",
    "*  Luego de analisar nuestros datos procedimos a  realizar la prueba de hipotesis planteadas por el cliente:\n",
    "    1. El ingreso promedio de los usuarios de las tarifas Ultimate y Surf difiere.\n",
    "    Después de ejecutar nuestra muestra de datos a través de una prueba levene p t-test con un nivel de significancia estadística de 0.05, nuestra hipótesis sobre la igualdad de las medias de muestras pareadas fue rechazada y el promedio de surf_revenue no es igual al promedio de ultimate_revenue. Parece que la media de los ingresos `Ultimate` es mucho más alta que los ingresos de `Surf`.\n",
    "    2. El ingreso promedio de los usuarios en el área de estados Nueva York-Nueva Jersey es diferente al de los usuarios de otras regiones.\n",
    "    Después de ejecutar nuestra muestra de datos a través de un t-test con un nivel de significancia estadística de 0.05, nuestra hipótesis sobre la igualdad de las medias de muestras pareadas fue rechazada. Al parecer la media de todas las demás regiones es ligeramente superior a los ingresos de Nueva York-Nueva-Jersey. Quizás haya más clientes finales fuera del área de Nueva York-Nueva Jersey.\n",
    "    \n",
    "    \n",
    "**Recomendaciones para Megaline:**\n",
    "-  Los usuarios del plan `Surf` tienden a sobrepasar el cupo de su plan, quizas sería una buena idea crear un plan intermedio para toda la gente que necesita un valor más bajo pero necesita un poco más de cupo.\n",
    "-  El plan `Ultimate` genera una cantidad significativamente mayor de ingresos que `Surf`, se recomienda ajustar el presupuesto para mejorar la publicidad o promocionar `Ultimate`.\n",
    "-  Al parecer las ciudades de Nueva York-Nueva Jersey no genera tantos ingresos vs el resto de áreas como se podría creer por ser grandes ciudades, quizas sería necesario potenciar los planes en estas ciudades o simplemente centrar los esfuerzos en el resto de áreas."
   ]
  }
 ],
 "metadata": {
  "colab": {
   "provenance": []
  },
  "kernelspec": {
   "display_name": "Python 3 (ipykernel)",
   "language": "python",
   "name": "python3"
  },
  "language_info": {
   "codemirror_mode": {
    "name": "ipython",
    "version": 3
   },
   "file_extension": ".py",
   "mimetype": "text/x-python",
   "name": "python",
   "nbconvert_exporter": "python",
   "pygments_lexer": "ipython3",
   "version": "3.9.19"
  },
  "toc": {
   "base_numbering": 1,
   "nav_menu": {},
   "number_sections": true,
   "sideBar": true,
   "skip_h1_title": true,
   "title_cell": "Table of Contents",
   "title_sidebar": "Contents",
   "toc_cell": false,
   "toc_position": {},
   "toc_section_display": true,
   "toc_window_display": false
  }
 },
 "nbformat": 4,
 "nbformat_minor": 1
}
